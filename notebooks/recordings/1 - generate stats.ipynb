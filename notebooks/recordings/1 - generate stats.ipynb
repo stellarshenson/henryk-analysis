{
 "cells": [
  {
   "cell_type": "markdown",
   "id": "a5d93d52-612d-4b4a-aa50-9fe996355168",
   "metadata": {},
   "source": [
    "# Generate Stats\n",
    "Processes a set of audio files and produces a dataframe and a dataset with the stats"
   ]
  },
  {
   "cell_type": "markdown",
   "id": "9bf7fb4c-8291-4869-8b17-121fd291d24e",
   "metadata": {},
   "source": [
    "## Imports"
   ]
  },
  {
   "cell_type": "code",
   "execution_count": 1,
   "id": "5daef15c-82f4-4e3e-b256-c0e53ab05ec5",
   "metadata": {
    "execution": {
     "iopub.execute_input": "2024-05-04T14:02:00.031659Z",
     "iopub.status.busy": "2024-05-04T14:02:00.031399Z",
     "iopub.status.idle": "2024-05-04T14:02:00.051519Z",
     "shell.execute_reply": "2024-05-04T14:02:00.050568Z",
     "shell.execute_reply.started": "2024-05-04T14:02:00.031631Z"
    },
    "tags": []
   },
   "outputs": [],
   "source": [
    "%reload_ext autoreload\n",
    "%autoreload 2"
   ]
  },
  {
   "cell_type": "code",
   "execution_count": 2,
   "id": "30ab3234-8205-4a1e-9d64-0fe7f64a6288",
   "metadata": {
    "execution": {
     "iopub.execute_input": "2024-05-04T14:02:00.053419Z",
     "iopub.status.busy": "2024-05-04T14:02:00.052843Z",
     "iopub.status.idle": "2024-05-04T14:02:01.395879Z",
     "shell.execute_reply": "2024-05-04T14:02:01.394946Z",
     "shell.execute_reply.started": "2024-05-04T14:02:00.053386Z"
    },
    "tags": []
   },
   "outputs": [],
   "source": [
    "import pandas as pd\n",
    "import numpy as np\n",
    "import matplotlib.pylab as plt\n",
    "import seaborn as sns\n",
    "from datetime import timedelta, datetime\n",
    "import numpy as np\n",
    "\n",
    "import os\n",
    "import re\n",
    "from glob import glob\n",
    "\n",
    "# audio info processing\n",
    "from pydub.utils import mediainfo\n",
    "\n",
    "# local import\n",
    "from lib_henryk.logger import *\n",
    "from lib_henryk.config import *"
   ]
  },
  {
   "cell_type": "markdown",
   "id": "803c032c-aebd-47b8-af95-e4c22c93480d",
   "metadata": {},
   "source": [
    "## Parameters"
   ]
  },
  {
   "cell_type": "code",
   "execution_count": 3,
   "id": "b85b2e7d-266b-48b3-a9b5-b1d95615676c",
   "metadata": {
    "execution": {
     "iopub.execute_input": "2024-05-04T14:02:01.399321Z",
     "iopub.status.busy": "2024-05-04T14:02:01.398602Z",
     "iopub.status.idle": "2024-05-04T14:02:01.423923Z",
     "shell.execute_reply": "2024-05-04T14:02:01.422953Z",
     "shell.execute_reply.started": "2024-05-04T14:02:01.399290Z"
    }
   },
   "outputs": [
    {
     "name": "stdout",
     "output_type": "stream",
     "text": [
      "2024-05-04 14:02:01 - \u001b[32mINFO \u001b[0m - \u001b[34m<module>\u001b[0m - using csv file: ../../data/processed/henryk_audio_stats.csv\n",
      "2024-05-04 14:02:01 - \u001b[32mINFO \u001b[0m - \u001b[34m<module>\u001b[0m - using audio files path: /mnt/onedrive/My Private/My documents/Other/Henryk/Alienacja rodzicielska materiały/Wiadomości do Henryczka\n"
     ]
    }
   ],
   "source": [
    "# params\n",
    "logger.info(f\"using csv file: {FILE_AUDIO_STATS_CSV}\")\n",
    "logger.info(f\"using audio files path: {DIR_WIADOMOSCI_DO_HENRYCZKA}\")"
   ]
  },
  {
   "cell_type": "markdown",
   "id": "a53793dd-98b3-450e-919b-7c4b11a97ea2",
   "metadata": {},
   "source": [
    "## Process Files"
   ]
  },
  {
   "cell_type": "code",
   "execution_count": 4,
   "id": "fe77121e-0291-4d6e-aca2-89c2c43e45aa",
   "metadata": {
    "execution": {
     "iopub.execute_input": "2024-05-04T14:02:01.425663Z",
     "iopub.status.busy": "2024-05-04T14:02:01.425134Z",
     "iopub.status.idle": "2024-05-04T14:02:01.514955Z",
     "shell.execute_reply": "2024-05-04T14:02:01.513884Z",
     "shell.execute_reply.started": "2024-05-04T14:02:01.425621Z"
    }
   },
   "outputs": [
    {
     "name": "stdout",
     "output_type": "stream",
     "text": [
      "2024-05-04 14:02:01 - \u001b[32mINFO \u001b[0m - \u001b[34m<module>\u001b[0m - retrieved 499 files\n"
     ]
    }
   ],
   "source": [
    "# load patsh to all audio files from wiadomości do Henryczka\n",
    "recordings_files = glob(f'{DIR_WIADOMOSCI_DO_HENRYCZKA}/**/*.m4a', recursive=True)\n",
    "logger.info(f'retrieved {len(recordings_files)} files')"
   ]
  },
  {
   "cell_type": "code",
   "execution_count": 5,
   "id": "7a368292-147f-4a64-adcb-ef9f941df02a",
   "metadata": {
    "execution": {
     "iopub.execute_input": "2024-05-04T14:02:01.516507Z",
     "iopub.status.busy": "2024-05-04T14:02:01.516240Z",
     "iopub.status.idle": "2024-05-04T14:02:27.248465Z",
     "shell.execute_reply": "2024-05-04T14:02:27.247525Z",
     "shell.execute_reply.started": "2024-05-04T14:02:01.516480Z"
    }
   },
   "outputs": [
    {
     "name": "stdout",
     "output_type": "stream",
     "text": [
      "processing 499 audio files |██████████████████████████████████████████████████| 100.0% \n"
     ]
    }
   ],
   "source": [
    "def get_file_info(path: str) -> dict:\n",
    "    \"\"\"\n",
    "    get info from a file and process into a dictionary\n",
    "    \"\"\"\n",
    "\n",
    "    _recording_info = {}\n",
    "\n",
    "    try:\n",
    "        _info = mediainfo(path)\n",
    "        _filename = os.path.basename(path)\n",
    "        _filename_regex_groups = re.search('^(.+) (\\d+-\\d+-\\d+) (.+)\\.(.+)$', _filename) # kind, date, name, extension\n",
    "        _recording_kind = _filename_regex_groups[1]\n",
    "        _recording_date = _filename_regex_groups[2]\n",
    "        _recording_date = datetime.strptime(_recording_date, \"%Y-%m-%d\")\n",
    "        _recording_name = _filename_regex_groups[3]\n",
    "        _recording_type = _filename_regex_groups[4]\n",
    "        _recording_duration = _info['duration']\n",
    "    \n",
    "        _recording_info = {\n",
    "            'file': _filename,\n",
    "            'name': _recording_name,\n",
    "            'kind': _recording_kind,\n",
    "            'date': _recording_date,\n",
    "            'type': _recording_type,\n",
    "            'duration': _recording_duration\n",
    "        }\n",
    "    except Exception as e:\n",
    "        logger.warning(f'encountered error for {path}: {e}')\n",
    "        return None\n",
    "    \n",
    "    return _recording_info\n",
    "\n",
    "df = pd.DataFrame( {'file': [], 'name': [], 'kind': [], 'date': [], 'type': [], 'duration': []} )\n",
    "for ix, i in enumerate(range(0,len(recordings_files))):\n",
    "    printProgressBar(ix,len(recordings_files)-1, prefix=f'processing {len(recordings_files)} audio files')\n",
    "    _row = get_file_info(recordings_files[i])\n",
    "    if _row != None:\n",
    "        df.loc[len(df)] = _row"
   ]
  },
  {
   "cell_type": "code",
   "execution_count": 6,
   "id": "76b7c686-e201-4874-b0c1-8a74024605c4",
   "metadata": {
    "execution": {
     "iopub.execute_input": "2024-05-04T14:02:27.249655Z",
     "iopub.status.busy": "2024-05-04T14:02:27.249500Z",
     "iopub.status.idle": "2024-05-04T14:02:27.283942Z",
     "shell.execute_reply": "2024-05-04T14:02:27.283161Z",
     "shell.execute_reply.started": "2024-05-04T14:02:27.249640Z"
    }
   },
   "outputs": [],
   "source": [
    "# save to csv\n",
    "df.sort_values('date', inplace=True)\n",
    "df.to_csv(FILE_AUDIO_STATS_CSV, index=False)"
   ]
  },
  {
   "cell_type": "markdown",
   "id": "93dd3fa1-7dc4-414e-8013-8cd099485ece",
   "metadata": {},
   "source": [
    "# References\n",
    "- https://www.kaggle.com/code/robikscube/working-with-audio-in-python\n",
    "- https://towardsdatascience.com/get-to-know-audio-feature-extraction-in-python-a499fdaefe42\n",
    "- https://stackoverflow.com/questions/55669182/how-to-fix-filenotfounderror-winerror-2-the-system-cannot-find-the-file-speci"
   ]
  }
 ],
 "metadata": {
  "kernelspec": {
   "display_name": "Python [conda env:base] *",
   "language": "python",
   "name": "conda-base-py"
  },
  "language_info": {
   "codemirror_mode": {
    "name": "ipython",
    "version": 3
   },
   "file_extension": ".py",
   "mimetype": "text/x-python",
   "name": "python",
   "nbconvert_exporter": "python",
   "pygments_lexer": "ipython3",
   "version": "3.11.9"
  }
 },
 "nbformat": 4,
 "nbformat_minor": 5
}
