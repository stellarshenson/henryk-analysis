{
 "cells": [
  {
   "cell_type": "markdown",
   "id": "7daab3be-6464-4482-85e8-18145963aebc",
   "metadata": {
    "tags": []
   },
   "source": [
    "install ffmpeg with `winget install ffmpeg`"
   ]
  },
  {
   "cell_type": "code",
   "execution_count": 1,
   "id": "30ab3234-8205-4a1e-9d64-0fe7f64a6288",
   "metadata": {
    "execution": {
     "iopub.execute_input": "2024-05-04T13:39:32.955199Z",
     "iopub.status.busy": "2024-05-04T13:39:32.954906Z",
     "iopub.status.idle": "2024-05-04T13:39:34.713198Z",
     "shell.execute_reply": "2024-05-04T13:39:34.711977Z",
     "shell.execute_reply.started": "2024-05-04T13:39:32.955176Z"
    },
    "tags": []
   },
   "outputs": [
    {
     "ename": "ModuleNotFoundError",
     "evalue": "No module named 'pydub'",
     "output_type": "error",
     "traceback": [
      "\u001b[0;31m---------------------------------------------------------------------------\u001b[0m",
      "\u001b[0;31mModuleNotFoundError\u001b[0m                       Traceback (most recent call last)",
      "Cell \u001b[0;32mIn[1], line 11\u001b[0m\n\u001b[1;32m      9\u001b[0m \u001b[38;5;28;01mimport\u001b[39;00m \u001b[38;5;21;01mre\u001b[39;00m\n\u001b[1;32m     10\u001b[0m \u001b[38;5;28;01mfrom\u001b[39;00m \u001b[38;5;21;01mglob\u001b[39;00m \u001b[38;5;28;01mimport\u001b[39;00m glob\n\u001b[0;32m---> 11\u001b[0m \u001b[38;5;28;01mfrom\u001b[39;00m \u001b[38;5;21;01mpydub\u001b[39;00m\u001b[38;5;21;01m.\u001b[39;00m\u001b[38;5;21;01mutils\u001b[39;00m \u001b[38;5;28;01mimport\u001b[39;00m mediainfo\n\u001b[1;32m     13\u001b[0m \u001b[38;5;28;01mfrom\u001b[39;00m \u001b[38;5;21;01mlogger\u001b[39;00m \u001b[38;5;28;01mimport\u001b[39;00m \u001b[38;5;241m*\u001b[39m\n",
      "\u001b[0;31mModuleNotFoundError\u001b[0m: No module named 'pydub'"
     ]
    }
   ],
   "source": [
    "import pandas as pd\n",
    "import numpy as np\n",
    "import matplotlib.pylab as plt\n",
    "import seaborn as sns\n",
    "from datetime import timedelta, datetime\n",
    "import numpy as np\n",
    "\n",
    "import os\n",
    "import re\n",
    "from glob import glob\n",
    "from pydub.utils import mediainfo\n",
    "\n",
    "from logger import *"
   ]
  },
  {
   "cell_type": "code",
   "execution_count": 2,
   "id": "fe77121e-0291-4d6e-aca2-89c2c43e45aa",
   "metadata": {},
   "outputs": [
    {
     "name": "stdout",
     "output_type": "stream",
     "text": [
      "2024-03-13 22:16:10 - \u001b[32mINFO \u001b[0m - \u001b[34m<module>\u001b[0m - retrieved 463 files\n"
     ]
    }
   ],
   "source": [
    "# load patsh to all audio files from wiadomości do Henryczka\n",
    "DIR_WIADOMOSCI_DO_HENRYCZKA = '/Users/konrad/OneDrive/My Private/My documents/Other/Henryk/Alienacja rodzicielska materiały/Wiadomości do Henryczka'\n",
    "recordings_files = glob(f'{DIR_WIADOMOSCI_DO_HENRYCZKA}/**/*.m4a', recursive=True)\n",
    "logger.info(f'retrieved {len(recordings_files)} files')"
   ]
  },
  {
   "cell_type": "code",
   "execution_count": 6,
   "id": "7a368292-147f-4a64-adcb-ef9f941df02a",
   "metadata": {},
   "outputs": [
    {
     "name": "stdout",
     "output_type": "stream",
     "text": [
      " |██████████████████████████████████████████████████| 100.0% \n"
     ]
    }
   ],
   "source": [
    "def file_info(path: str) -> dict:\n",
    "    _recording_info = {}\n",
    "\n",
    "    try:\n",
    "        _info = mediainfo(path)\n",
    "        _filename = os.path.basename(path)\n",
    "        _filename_regex_groups = re.search('^(.+) (\\d+-\\d+-\\d+) (.+)\\.(.+)$', _filename) # kind, date, name, extension\n",
    "        _recording_kind = _filename_regex_groups[1]\n",
    "        _recording_date = _filename_regex_groups[2]\n",
    "        _recording_date = datetime.strptime(_recording_date, \"%Y-%m-%d\")\n",
    "        _recording_name = _filename_regex_groups[3]\n",
    "        _recording_type = _filename_regex_groups[4]\n",
    "        _recording_duration = _info['duration']\n",
    "    \n",
    "        _recording_info = {\n",
    "            'file': _filename,\n",
    "            'name': _recording_name,\n",
    "            'kind': _recording_kind,\n",
    "            'date': _recording_date,\n",
    "            'type': _recording_type,\n",
    "            'duration': _recording_duration\n",
    "        }\n",
    "    except Exception as e:\n",
    "        logger.warning(f'encountered error for {path}: {e}')\n",
    "        return None\n",
    "    \n",
    "    return _recording_info\n",
    "\n",
    "df = pd.DataFrame( {'file': [], 'name': [], 'kind': [], 'date': [], 'type': [], 'duration': []} )\n",
    "for ix, i in enumerate(range(0,len(recordings_files))):\n",
    "    printProgressBar(ix,len(recordings_files)-1)\n",
    "    _row = file_info(recordings_files[i])\n",
    "    if _row != None:\n",
    "        df.loc[len(df)] = _row"
   ]
  },
  {
   "cell_type": "code",
   "execution_count": 7,
   "id": "76b7c686-e201-4874-b0c1-8a74024605c4",
   "metadata": {},
   "outputs": [],
   "source": [
    "# save to csv\n",
    "df.sort_values('date', inplace=True)\n",
    "df.to_csv('henryk-stats.csv', index=False)"
   ]
  },
  {
   "cell_type": "markdown",
   "id": "93dd3fa1-7dc4-414e-8013-8cd099485ece",
   "metadata": {},
   "source": [
    "# References\n",
    "- https://www.kaggle.com/code/robikscube/working-with-audio-in-python\n",
    "- https://towardsdatascience.com/get-to-know-audio-feature-extraction-in-python-a499fdaefe42\n",
    "- https://stackoverflow.com/questions/55669182/how-to-fix-filenotfounderror-winerror-2-the-system-cannot-find-the-file-speci"
   ]
  }
 ],
 "metadata": {
  "kernelspec": {
   "display_name": "Python [conda env:base] *",
   "language": "python",
   "name": "conda-base-py"
  },
  "language_info": {
   "codemirror_mode": {
    "name": "ipython",
    "version": 3
   },
   "file_extension": ".py",
   "mimetype": "text/x-python",
   "name": "python",
   "nbconvert_exporter": "python",
   "pygments_lexer": "ipython3",
   "version": "3.11.9"
  }
 },
 "nbformat": 4,
 "nbformat_minor": 5
}
