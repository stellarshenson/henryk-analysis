{
 "cells": [
  {
   "cell_type": "markdown",
   "id": "077b0ad4-776f-4aef-99e4-97a0b08bd84f",
   "metadata": {},
   "source": [
    "# Generate videos from recordings\n",
    "Use ffmpeg and other tools to join pictures and the recording to generate a video ready to be posted on youtube"
   ]
  },
  {
   "cell_type": "code",
   "execution_count": null,
   "id": "737ea6ee-b03a-4c2d-b383-547859d67cdb",
   "metadata": {},
   "outputs": [],
   "source": []
  }
 ],
 "metadata": {
  "kernelspec": {
   "display_name": "Python [conda env:base] *",
   "language": "python",
   "name": "conda-base-py"
  },
  "language_info": {
   "codemirror_mode": {
    "name": "ipython",
    "version": 3
   },
   "file_extension": ".py",
   "mimetype": "text/x-python",
   "name": "python",
   "nbconvert_exporter": "python",
   "pygments_lexer": "ipython3",
   "version": "3.11.9"
  }
 },
 "nbformat": 4,
 "nbformat_minor": 5
}
