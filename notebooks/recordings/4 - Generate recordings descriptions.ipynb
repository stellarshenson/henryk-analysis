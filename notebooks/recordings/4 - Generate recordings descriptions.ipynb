{
 "cells": [
  {
   "cell_type": "markdown",
   "id": "936bf288-0839-469f-801b-7f7d029f254b",
   "metadata": {},
   "source": [
    "# Generate Recordings Descriptions\n",
    "This service will use ChatGPT to read the recordings transcriptions and will generate meaningful description for every recording\n",
    "\n",
    "This notebook will also query ChatGPT to provide classification of the recordings according [to the schema](../../references/ChatGPT_Prompts.md)"
   ]
  },
  {
   "cell_type": "code",
   "execution_count": 1,
   "id": "98140383-188c-457c-8e04-7e4620b410a1",
   "metadata": {
    "execution": {
     "iopub.execute_input": "2024-06-21T13:51:16.181452Z",
     "iopub.status.busy": "2024-06-21T13:51:16.181302Z",
     "iopub.status.idle": "2024-06-21T13:51:16.200840Z",
     "shell.execute_reply": "2024-06-21T13:51:16.200285Z",
     "shell.execute_reply.started": "2024-06-21T13:51:16.181440Z"
    },
    "tags": []
   },
   "outputs": [],
   "source": [
    "%reload_ext autoreload\n",
    "%autoreload 2"
   ]
  },
  {
   "cell_type": "code",
   "execution_count": 2,
   "id": "f4b557c6-c6ed-4c9c-bb72-60b1256a6003",
   "metadata": {
    "editable": true,
    "execution": {
     "iopub.execute_input": "2024-06-21T13:51:16.202231Z",
     "iopub.status.busy": "2024-06-21T13:51:16.201552Z",
     "iopub.status.idle": "2024-06-21T13:51:17.891430Z",
     "shell.execute_reply": "2024-06-21T13:51:17.890650Z",
     "shell.execute_reply.started": "2024-06-21T13:51:16.202212Z"
    },
    "slideshow": {
     "slide_type": ""
    },
    "tags": []
   },
   "outputs": [],
   "source": [
    "import os\n",
    "import pandas as pd\n",
    "import json\n",
    "\n",
    "# for un-makrdowning the text from openai\n",
    "from markdown_it import MarkdownIt\n",
    "from mdit_plain.renderer import RendererPlain\n",
    "\n",
    "from lib_henryk.config import *\n",
    "from lib_henryk.logger import *\n",
    "from lib_henryk import utils\n",
    "from lib_henryk.recordings import transcriptions\n",
    "from lib_henryk.recordings import classification\n",
    "from lib_henryk.recordings import recordings"
   ]
  },
  {
   "cell_type": "code",
   "execution_count": 3,
   "id": "c8830692-5768-41d1-a831-8121746d079d",
   "metadata": {
    "editable": true,
    "execution": {
     "iopub.execute_input": "2024-06-21T13:51:17.892976Z",
     "iopub.status.busy": "2024-06-21T13:51:17.892639Z",
     "iopub.status.idle": "2024-06-21T13:51:17.915331Z",
     "shell.execute_reply": "2024-06-21T13:51:17.914638Z",
     "shell.execute_reply.started": "2024-06-21T13:51:17.892962Z"
    },
    "slideshow": {
     "slide_type": ""
    },
    "tags": []
   },
   "outputs": [],
   "source": [
    "# load api keys\n",
    "from dotenv import load_dotenv\n",
    "_ = load_dotenv()\n",
    "\n",
    "# Your OpenAI API key\n",
    "api_key = os.getenv('OPENAI_API_KEY')"
   ]
  },
  {
   "cell_type": "markdown",
   "id": "4fc7cee2-37d9-4fd6-8422-479b698b3b82",
   "metadata": {},
   "source": [
    "## Load Resources\n",
    "- prompts - there are a set of pre-configured prompts that behave well and give good results\n",
    "- transcriptions - all recordings are processed with transcription service and results are saved to a parquet file (db)"
   ]
  },
  {
   "cell_type": "code",
   "execution_count": 4,
   "id": "636f76be-2822-4d4a-b9bb-8c5bded58aca",
   "metadata": {
    "editable": true,
    "execution": {
     "iopub.execute_input": "2024-06-21T13:51:17.916897Z",
     "iopub.status.busy": "2024-06-21T13:51:17.916138Z",
     "iopub.status.idle": "2024-06-21T13:51:18.011666Z",
     "shell.execute_reply": "2024-06-21T13:51:18.010953Z",
     "shell.execute_reply.started": "2024-06-21T13:51:17.916882Z"
    },
    "slideshow": {
     "slide_type": ""
    },
    "tags": []
   },
   "outputs": [],
   "source": [
    "# recordings transcriptions\n",
    "df_transcriptions = pd.read_parquet(FILE_TRANSCRIPTIONS_PARQUET)\n",
    "df_transcriptions = recordings.sort_df_by_date_inferred_from_name(df_transcriptions)\n",
    "df_transcriptions_classifications = pd.read_parquet(FILE_TRANSCRIPTIONS_CLASSIFICATION_PARQUET)"
   ]
  },
  {
   "cell_type": "markdown",
   "id": "18a2b005-111e-485d-b79c-246f4c5a5161",
   "metadata": {},
   "source": [
    "## Perform Classification\n",
    "- read existing transcriptions database (parquet file)\n",
    "- read existing classification database (parquet file)\n",
    "- run classifier with openai gpt (currently model 4o)\n",
    "- use prompt crafted in a separate file [classification prompt](../../resources/recording_classification.md)\n",
    "- we are using `few-shots` engineered prompt with rich examples"
   ]
  },
  {
   "cell_type": "code",
   "execution_count": 5,
   "id": "0559d797-343c-45df-a5dd-8bb9d6ca43a3",
   "metadata": {
    "editable": true,
    "execution": {
     "iopub.execute_input": "2024-06-21T13:51:18.012473Z",
     "iopub.status.busy": "2024-06-21T13:51:18.012281Z",
     "iopub.status.idle": "2024-06-21T13:51:18.029052Z",
     "shell.execute_reply": "2024-06-21T13:51:18.028036Z",
     "shell.execute_reply.started": "2024-06-21T13:51:18.012461Z"
    },
    "slideshow": {
     "slide_type": ""
    },
    "tags": []
   },
   "outputs": [],
   "source": [
    "df_transcriptions_selected = df_transcriptions.iloc[400:]"
   ]
  },
  {
   "cell_type": "code",
   "execution_count": 6,
   "id": "9b89edcb-76f6-4596-a4f5-d7abc9dba479",
   "metadata": {
    "editable": true,
    "execution": {
     "iopub.execute_input": "2024-06-21T13:51:18.030078Z",
     "iopub.status.busy": "2024-06-21T13:51:18.029863Z",
     "iopub.status.idle": "2024-06-21T13:51:18.953900Z",
     "shell.execute_reply": "2024-06-21T13:51:18.953176Z",
     "shell.execute_reply.started": "2024-06-21T13:51:18.030065Z"
    },
    "slideshow": {
     "slide_type": ""
    },
    "tags": []
   },
   "outputs": [],
   "source": [
    "transcription_classifier = classification.Transcription_Classifier(api_key=api_key)\n",
    "transcription_classifier.initialise_prompt(prompt_file_path=FILE_PROMPT_RECORDING_CLASSIFICATION)"
   ]
  },
  {
   "cell_type": "code",
   "execution_count": 7,
   "id": "a1a3727e-aa8a-4219-b8e3-51b5e01c1553",
   "metadata": {
    "editable": true,
    "execution": {
     "iopub.execute_input": "2024-06-21T13:51:18.955052Z",
     "iopub.status.busy": "2024-06-21T13:51:18.954593Z",
     "iopub.status.idle": "2024-06-21T15:09:16.390587Z",
     "shell.execute_reply": "2024-06-21T15:09:16.389360Z",
     "shell.execute_reply.started": "2024-06-21T13:51:18.955036Z"
    },
    "slideshow": {
     "slide_type": ""
    },
    "tags": []
   },
   "outputs": [
    {
     "name": "stdout",
     "output_type": "stream",
     "text": [
      "2024-06-21 13:51:18 - \u001b[32mINFO \u001b[0m - \u001b[34mperform_classification\u001b[0m - intermediate classification results will be written to /tmp/temp_cool_napier.parquet\n",
      "2024-06-21 13:51:18 - \u001b[32mINFO \u001b[0m - \u001b[34mperform_classification\u001b[0m - found 403 (3) existing classifications, those transcriptions will be ignored\n",
      "classifying 128 transcriptions |████████████████████████████████████████| 100.0% done.                                                                    ...\n",
      "2024-06-21 15:09:16 - \u001b[32mINFO \u001b[0m - \u001b[34mperform_classification\u001b[0m - more (528) classifications than requested, classifier was executed before on different dataset \n",
      "2024-06-21 15:09:16 - \u001b[32mINFO \u001b[0m - \u001b[34mperform_classification\u001b[0m - \u001b[22m\u001b[49m\u001b[32m*** all 128 requested transcriptions classifications were completed ***\u001b[0m\n",
      "2024-06-21 15:09:16 - \u001b[32mINFO \u001b[0m - \u001b[34msave_classification_parquet\u001b[0m - saving 528 classification results to to ../../data/processed/henryk_transcriptions_classification.parquet\n",
      "2024-06-21 15:09:16 - \u001b[32mINFO \u001b[0m - \u001b[34msave_classification_parquet\u001b[0m - found older file with the same name, checking the older file size vs new...\n",
      "2024-06-21 15:09:16 - \u001b[32mINFO \u001b[0m - \u001b[34msave_classification_parquet\u001b[0m - old file will be overwritten by a new one (old has 403 records vs new 528)\n"
     ]
    }
   ],
   "source": [
    "transcription_classifier.perform_classification(df_transcriptions_selected, df_transcriptions_classifications, verbose=False)\n",
    "transcription_classifier.save_classification_parquet(path=FILE_TRANSCRIPTIONS_CLASSIFICATIONS_PARQUET)\n",
    "df_transcriptions_classifications = transcription_classifier.df_transcriptions_classifications"
   ]
  },
  {
   "cell_type": "code",
   "execution_count": 8,
   "id": "c79de720-ae51-416d-ba1a-5ec26b3eb26a",
   "metadata": {
    "execution": {
     "iopub.execute_input": "2024-06-21T15:09:16.393229Z",
     "iopub.status.busy": "2024-06-21T15:09:16.392700Z",
     "iopub.status.idle": "2024-06-21T15:09:16.462800Z",
     "shell.execute_reply": "2024-06-21T15:09:16.461214Z",
     "shell.execute_reply.started": "2024-06-21T15:09:16.393202Z"
    },
    "scrolled": true
   },
   "outputs": [
    {
     "ename": "StopExecution",
     "evalue": "stopped",
     "output_type": "error",
     "traceback": []
    }
   ],
   "source": [
    "exit_cell()"
   ]
  }
 ],
 "metadata": {
  "kernelspec": {
   "display_name": "Python [conda env:base] *",
   "language": "python",
   "name": "conda-base-py"
  },
  "language_info": {
   "codemirror_mode": {
    "name": "ipython",
    "version": 3
   },
   "file_extension": ".py",
   "mimetype": "text/x-python",
   "name": "python",
   "nbconvert_exporter": "python",
   "pygments_lexer": "ipython3",
   "version": "3.11.9"
  }
 },
 "nbformat": 4,
 "nbformat_minor": 5
}
