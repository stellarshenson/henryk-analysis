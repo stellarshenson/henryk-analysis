{
 "cells": [
  {
   "cell_type": "markdown",
   "id": "936bf288-0839-469f-801b-7f7d029f254b",
   "metadata": {},
   "source": [
    "# Generate Recordings Descriptions\n",
    "This service will use ChatGPT to read the recordings transcriptions and will generate meaningful description for every recording\n",
    "\n",
    "This notebook will also query ChatGPT to provide classification of the recordings according [to the schema](../../references/ChatGPT_Prompts.md)"
   ]
  },
  {
   "cell_type": "code",
   "execution_count": 1,
   "id": "98140383-188c-457c-8e04-7e4620b410a1",
   "metadata": {
    "execution": {
     "iopub.execute_input": "2024-06-21T12:25:14.126675Z",
     "iopub.status.busy": "2024-06-21T12:25:14.126515Z",
     "iopub.status.idle": "2024-06-21T12:25:14.141709Z",
     "shell.execute_reply": "2024-06-21T12:25:14.141059Z",
     "shell.execute_reply.started": "2024-06-21T12:25:14.126662Z"
    },
    "tags": []
   },
   "outputs": [],
   "source": [
    "%reload_ext autoreload\n",
    "%autoreload 2"
   ]
  },
  {
   "cell_type": "code",
   "execution_count": 2,
   "id": "f4b557c6-c6ed-4c9c-bb72-60b1256a6003",
   "metadata": {
    "editable": true,
    "execution": {
     "iopub.execute_input": "2024-06-21T12:25:14.142583Z",
     "iopub.status.busy": "2024-06-21T12:25:14.142424Z",
     "iopub.status.idle": "2024-06-21T12:25:15.745537Z",
     "shell.execute_reply": "2024-06-21T12:25:15.745034Z",
     "shell.execute_reply.started": "2024-06-21T12:25:14.142571Z"
    },
    "slideshow": {
     "slide_type": ""
    },
    "tags": []
   },
   "outputs": [],
   "source": [
    "import os\n",
    "import pandas as pd\n",
    "import json\n",
    "\n",
    "# for un-makrdowning the text from openai\n",
    "from markdown_it import MarkdownIt\n",
    "from mdit_plain.renderer import RendererPlain\n",
    "\n",
    "from lib_henryk.config import *\n",
    "from lib_henryk.logger import *\n",
    "from lib_henryk import utils\n",
    "from lib_henryk.recordings import transcriptions\n",
    "from lib_henryk.recordings import classification\n",
    "from lib_henryk.recordings import recordings"
   ]
  },
  {
   "cell_type": "code",
   "execution_count": 3,
   "id": "c8830692-5768-41d1-a831-8121746d079d",
   "metadata": {
    "editable": true,
    "execution": {
     "iopub.execute_input": "2024-06-21T12:25:15.747182Z",
     "iopub.status.busy": "2024-06-21T12:25:15.746907Z",
     "iopub.status.idle": "2024-06-21T12:25:15.769381Z",
     "shell.execute_reply": "2024-06-21T12:25:15.768649Z",
     "shell.execute_reply.started": "2024-06-21T12:25:15.747168Z"
    },
    "slideshow": {
     "slide_type": ""
    },
    "tags": []
   },
   "outputs": [],
   "source": [
    "# load api keys\n",
    "from dotenv import load_dotenv\n",
    "_ = load_dotenv()\n",
    "\n",
    "# Your OpenAI API key\n",
    "api_key = os.getenv('OPENAI_API_KEY')"
   ]
  },
  {
   "cell_type": "markdown",
   "id": "4fc7cee2-37d9-4fd6-8422-479b698b3b82",
   "metadata": {},
   "source": [
    "## Load Resources\n",
    "- prompts - there are a set of pre-configured prompts that behave well and give good results\n",
    "- transcriptions - all recordings are processed with transcription service and results are saved to a parquet file (db)"
   ]
  },
  {
   "cell_type": "code",
   "execution_count": 4,
   "id": "636f76be-2822-4d4a-b9bb-8c5bded58aca",
   "metadata": {
    "editable": true,
    "execution": {
     "iopub.execute_input": "2024-06-21T12:25:15.770455Z",
     "iopub.status.busy": "2024-06-21T12:25:15.770252Z",
     "iopub.status.idle": "2024-06-21T12:25:15.852910Z",
     "shell.execute_reply": "2024-06-21T12:25:15.852252Z",
     "shell.execute_reply.started": "2024-06-21T12:25:15.770442Z"
    },
    "slideshow": {
     "slide_type": ""
    },
    "tags": []
   },
   "outputs": [],
   "source": [
    "# recordings transcriptions\n",
    "df_transcriptions = pd.read_parquet(FILE_TRANSCRIPTIONS_PARQUET)\n",
    "df_transcriptions = recordings.sort_df_by_date_inferred_from_name(df_transcriptions)\n",
    "df_transcriptions_classifications = pd.read_parquet(FILE_TRANSCRIPTIONS_CLASSIFICATION_PARQUET)"
   ]
  },
  {
   "cell_type": "markdown",
   "id": "18a2b005-111e-485d-b79c-246f4c5a5161",
   "metadata": {},
   "source": [
    "## Perform Classification\n",
    "- read existing transcriptions database (parquet file)\n",
    "- read existing classification database (parquet file)\n",
    "- run classifier with openai gpt (currently model 4o)\n",
    "- use prompt crafted in a separate file [classification prompt](../../resources/recording_classification.md)\n",
    "- we are using `few-shots` engineered prompt with rich examples"
   ]
  },
  {
   "cell_type": "code",
   "execution_count": 5,
   "id": "0559d797-343c-45df-a5dd-8bb9d6ca43a3",
   "metadata": {
    "editable": true,
    "execution": {
     "iopub.execute_input": "2024-06-21T12:25:15.853684Z",
     "iopub.status.busy": "2024-06-21T12:25:15.853504Z",
     "iopub.status.idle": "2024-06-21T12:25:15.868499Z",
     "shell.execute_reply": "2024-06-21T12:25:15.867805Z",
     "shell.execute_reply.started": "2024-06-21T12:25:15.853673Z"
    },
    "slideshow": {
     "slide_type": ""
    },
    "tags": []
   },
   "outputs": [],
   "source": [
    "df_transcriptions_selected = df_transcriptions.iloc[400:]"
   ]
  },
  {
   "cell_type": "code",
   "execution_count": 6,
   "id": "9b89edcb-76f6-4596-a4f5-d7abc9dba479",
   "metadata": {
    "editable": true,
    "execution": {
     "iopub.execute_input": "2024-06-21T12:25:15.869354Z",
     "iopub.status.busy": "2024-06-21T12:25:15.869143Z",
     "iopub.status.idle": "2024-06-21T12:25:16.836787Z",
     "shell.execute_reply": "2024-06-21T12:25:16.836114Z",
     "shell.execute_reply.started": "2024-06-21T12:25:15.869342Z"
    },
    "slideshow": {
     "slide_type": ""
    },
    "tags": []
   },
   "outputs": [],
   "source": [
    "transcription_classifier = classification.Transcription_Classifier(api_key=api_key)\n",
    "transcription_classifier.initialise_prompt(prompt_file_path=FILE_PROMPT_RECORDING_CLASSIFICATION)"
   ]
  },
  {
   "cell_type": "code",
   "execution_count": 7,
   "id": "a1a3727e-aa8a-4219-b8e3-51b5e01c1553",
   "metadata": {
    "editable": true,
    "execution": {
     "iopub.execute_input": "2024-06-21T12:25:16.837685Z",
     "iopub.status.busy": "2024-06-21T12:25:16.837497Z",
     "iopub.status.idle": "2024-06-21T13:32:35.379837Z",
     "shell.execute_reply": "2024-06-21T13:32:35.379165Z",
     "shell.execute_reply.started": "2024-06-21T12:25:16.837673Z"
    },
    "slideshow": {
     "slide_type": ""
    },
    "tags": []
   },
   "outputs": [
    {
     "name": "stdout",
     "output_type": "stream",
     "text": [
      "2024-06-21 12:25:16 - \u001b[32mINFO \u001b[0m - \u001b[34mperform_classification\u001b[0m - intermediate classification results will be written to /tmp/temp_sharp_rhodes.parquet\n",
      "2024-06-21 12:25:16 - \u001b[32mINFO \u001b[0m - \u001b[34mperform_classification\u001b[0m - found 306 (103) existing classifications, those transcriptions will be ignored\n",
      "classifying 200 transcriptions |████████████████████████████████████████| 100.0% done.                                                                    ...\n",
      "2024-06-21 13:32:35 - \u001b[32mINFO \u001b[0m - \u001b[34mperform_classification\u001b[0m - more (403) classifications than requested, classifier was executed before on different dataset \n",
      "2024-06-21 13:32:35 - \u001b[32mINFO \u001b[0m - \u001b[34mperform_classification\u001b[0m - \u001b[22m\u001b[49m\u001b[32m*** all 200 requested transcriptions classifications were completed ***\u001b[0m\n",
      "2024-06-21 13:32:35 - \u001b[32mINFO \u001b[0m - \u001b[34msave_classification_parquet\u001b[0m - saving 403 classification results to to ../../data/processed/henryk_transcriptions_classification.parquet\n",
      "2024-06-21 13:32:35 - \u001b[32mINFO \u001b[0m - \u001b[34msave_classification_parquet\u001b[0m - found older file with the same name, checking the older file size vs new...\n",
      "2024-06-21 13:32:35 - \u001b[32mINFO \u001b[0m - \u001b[34msave_classification_parquet\u001b[0m - old file will be overwritten by a new one (old has 306 records vs new 403)\n"
     ]
    }
   ],
   "source": [
    "transcription_classifier.perform_classification(df_transcriptions_selected, df_transcriptions_classifications, verbose=False)\n",
    "transcription_classifier.save_classification_parquet(path=FILE_TRANSCRIPTIONS_CLASSIFICATION_PARQUET)\n",
    "df_transcriptions_classifications = transcription_classifier.df_transcriptions_classifications"
   ]
  },
  {
   "cell_type": "code",
   "execution_count": 8,
   "id": "c79de720-ae51-416d-ba1a-5ec26b3eb26a",
   "metadata": {
    "execution": {
     "iopub.execute_input": "2024-06-21T13:32:35.381304Z",
     "iopub.status.busy": "2024-06-21T13:32:35.380608Z",
     "iopub.status.idle": "2024-06-21T13:32:35.423729Z",
     "shell.execute_reply": "2024-06-21T13:32:35.422838Z",
     "shell.execute_reply.started": "2024-06-21T13:32:35.381288Z"
    }
   },
   "outputs": [
    {
     "ename": "StopExecution",
     "evalue": "stopped",
     "output_type": "error",
     "traceback": []
    }
   ],
   "source": [
    "exit_cell()"
   ]
  },
  {
   "cell_type": "code",
   "execution_count": null,
   "id": "db01364e-e17a-4012-ba1b-690dcd9b3d26",
   "metadata": {
    "editable": true,
    "execution": {
     "iopub.status.busy": "2024-06-21T13:32:35.424127Z",
     "iopub.status.idle": "2024-06-21T13:32:35.424312Z",
     "shell.execute_reply": "2024-06-21T13:32:35.424242Z",
     "shell.execute_reply.started": "2024-06-21T13:32:35.424235Z"
    },
    "slideshow": {
     "slide_type": ""
    },
    "tags": []
   },
   "outputs": [],
   "source": [
    "text_md = transcription_classifier.messages.to_dict()['data'][0]['content'][0]['text']['value']\n",
    "text_json = transcription_classifier.unmarkdown_parser.render(text_md)"
   ]
  },
  {
   "cell_type": "code",
   "execution_count": null,
   "id": "c806873b-ce6f-42b7-abd8-2e3cfd712375",
   "metadata": {
    "editable": true,
    "execution": {
     "iopub.status.busy": "2024-06-21T13:32:35.425209Z",
     "iopub.status.idle": "2024-06-21T13:32:35.425405Z",
     "shell.execute_reply": "2024-06-21T13:32:35.425330Z",
     "shell.execute_reply.started": "2024-06-21T13:32:35.425323Z"
    },
    "slideshow": {
     "slide_type": ""
    },
    "tags": []
   },
   "outputs": [],
   "source": [
    "response = transcription_classifier.df_transcription_classification.iloc[-1]['classification_json']\n",
    "response_json = json.loads(response)\n",
    "display(response_json)"
   ]
  },
  {
   "cell_type": "code",
   "execution_count": null,
   "id": "15ab84c4-7854-42b3-9b4e-48f0e1012dc4",
   "metadata": {
    "editable": true,
    "execution": {
     "iopub.status.busy": "2024-06-21T13:32:35.426080Z",
     "iopub.status.idle": "2024-06-21T13:32:35.426309Z",
     "shell.execute_reply": "2024-06-21T13:32:35.426230Z",
     "shell.execute_reply.started": "2024-06-21T13:32:35.426222Z"
    },
    "slideshow": {
     "slide_type": ""
    },
    "tags": []
   },
   "outputs": [],
   "source": [
    "transcription_classifier.save_classification_parquet(FILE_TRANSCRIPTIONS_CLASSIFICATION_PARQUET)"
   ]
  },
  {
   "cell_type": "code",
   "execution_count": null,
   "id": "303db268-009c-4a57-bf0a-1b856502c136",
   "metadata": {
    "editable": true,
    "execution": {
     "iopub.status.busy": "2024-06-21T13:32:35.427474Z",
     "iopub.status.idle": "2024-06-21T13:32:35.427663Z",
     "shell.execute_reply": "2024-06-21T13:32:35.427589Z",
     "shell.execute_reply.started": "2024-06-21T13:32:35.427582Z"
    },
    "slideshow": {
     "slide_type": ""
    },
    "tags": []
   },
   "outputs": [],
   "source": [
    "df_backup = pd.read_parquet(FILE_TRANSCRIPTIONS_CLASSIFICATION_PARQUET)"
   ]
  },
  {
   "cell_type": "code",
   "execution_count": null,
   "id": "3c047d1a-7f42-4dc0-abb2-d3fe85b77dd7",
   "metadata": {
    "editable": true,
    "execution": {
     "iopub.status.busy": "2024-06-21T13:32:35.428719Z",
     "iopub.status.idle": "2024-06-21T13:32:35.428911Z",
     "shell.execute_reply": "2024-06-21T13:32:35.428839Z",
     "shell.execute_reply.started": "2024-06-21T13:32:35.428833Z"
    },
    "slideshow": {
     "slide_type": ""
    },
    "tags": []
   },
   "outputs": [],
   "source": [
    "transcription_classifier.df_transcriptions_classifications = df_backup.copy()"
   ]
  },
  {
   "cell_type": "code",
   "execution_count": null,
   "id": "98de1c1a-d7f2-4420-83de-3248d9aaf449",
   "metadata": {
    "editable": true,
    "execution": {
     "iopub.status.busy": "2024-06-21T13:32:35.430274Z",
     "iopub.status.idle": "2024-06-21T13:32:35.430472Z",
     "shell.execute_reply": "2024-06-21T13:32:35.430396Z",
     "shell.execute_reply.started": "2024-06-21T13:32:35.430388Z"
    },
    "slideshow": {
     "slide_type": ""
    },
    "tags": []
   },
   "outputs": [],
   "source": [
    "df_transcriptions_classifications = df_backup.copy()"
   ]
  },
  {
   "cell_type": "code",
   "execution_count": null,
   "id": "5a111228-32d1-4788-a470-546361c618a5",
   "metadata": {
    "execution": {
     "iopub.status.busy": "2024-06-21T13:32:35.431271Z",
     "iopub.status.idle": "2024-06-21T13:32:35.431452Z",
     "shell.execute_reply": "2024-06-21T13:32:35.431381Z",
     "shell.execute_reply.started": "2024-06-21T13:32:35.431374Z"
    }
   },
   "outputs": [],
   "source": [
    "len(df_backup)"
   ]
  },
  {
   "cell_type": "code",
   "execution_count": null,
   "id": "6ee7e810-f0e4-4151-82a1-354f8f5c1f6e",
   "metadata": {},
   "outputs": [],
   "source": []
  }
 ],
 "metadata": {
  "kernelspec": {
   "display_name": "Python [conda env:base] *",
   "language": "python",
   "name": "conda-base-py"
  },
  "language_info": {
   "codemirror_mode": {
    "name": "ipython",
    "version": 3
   },
   "file_extension": ".py",
   "mimetype": "text/x-python",
   "name": "python",
   "nbconvert_exporter": "python",
   "pygments_lexer": "ipython3",
   "version": "3.11.9"
  }
 },
 "nbformat": 4,
 "nbformat_minor": 5
}
