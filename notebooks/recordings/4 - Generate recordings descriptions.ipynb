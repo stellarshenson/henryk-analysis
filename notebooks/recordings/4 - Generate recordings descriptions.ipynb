{
 "cells": [
  {
   "cell_type": "markdown",
   "id": "936bf288-0839-469f-801b-7f7d029f254b",
   "metadata": {},
   "source": [
    "# Generate Recordings Descriptions\n",
    "This service will use ChatGPT to read the recordings transcriptions and will generate meaningful description for every recording\n",
    "\n",
    "This notebook will also query ChatGPT to provide classification of the recordings according [to the schema](../../references/ChatGPT_Prompts.md)"
   ]
  },
  {
   "cell_type": "code",
   "execution_count": 16,
   "id": "f4b557c6-c6ed-4c9c-bb72-60b1256a6003",
   "metadata": {
    "execution": {
     "iopub.execute_input": "2024-05-08T13:58:01.669394Z",
     "iopub.status.busy": "2024-05-08T13:58:01.669146Z",
     "iopub.status.idle": "2024-05-08T13:58:02.228735Z",
     "shell.execute_reply": "2024-05-08T13:58:02.227809Z",
     "shell.execute_reply.started": "2024-05-08T13:58:01.669381Z"
    }
   },
   "outputs": [],
   "source": [
    "import os\n",
    "import anthropic\n",
    "import os\n",
    "import pandas as pd\n",
    "\n",
    "from lib_henryk.config import *\n",
    "from lib_henryk.logger import *"
   ]
  },
  {
   "cell_type": "code",
   "execution_count": 3,
   "id": "c8830692-5768-41d1-a831-8121746d079d",
   "metadata": {
    "execution": {
     "iopub.execute_input": "2024-05-08T13:46:32.808223Z",
     "iopub.status.busy": "2024-05-08T13:46:32.808022Z",
     "iopub.status.idle": "2024-05-08T13:46:32.832483Z",
     "shell.execute_reply": "2024-05-08T13:46:32.831655Z",
     "shell.execute_reply.started": "2024-05-08T13:46:32.808211Z"
    }
   },
   "outputs": [],
   "source": [
    "# load api keys\n",
    "from dotenv import load_dotenv\n",
    "_ = load_dotenv()\n",
    "\n",
    "# Your OpenAI API key\n",
    "api_key = os.getenv('CLAUDE_API_KEY')\n",
    "\n",
    "WEBHOOKS_TOKEN_ID = '2660666c-d957-4485-9a95-5e264563a022'"
   ]
  },
  {
   "cell_type": "code",
   "execution_count": 6,
   "id": "08d9b60c-52b3-4506-ae21-29a05f65b818",
   "metadata": {
    "execution": {
     "iopub.execute_input": "2024-05-08T13:48:02.701325Z",
     "iopub.status.busy": "2024-05-08T13:48:02.701067Z",
     "iopub.status.idle": "2024-05-08T13:48:02.739871Z",
     "shell.execute_reply": "2024-05-08T13:48:02.738881Z",
     "shell.execute_reply.started": "2024-05-08T13:48:02.701308Z"
    }
   },
   "outputs": [
    {
     "ename": "AttributeError",
     "evalue": "'Anthropic' object has no attribute 'list_chats'",
     "output_type": "error",
     "traceback": [
      "\u001b[0;31m---------------------------------------------------------------------------\u001b[0m",
      "\u001b[0;31mAttributeError\u001b[0m                            Traceback (most recent call last)",
      "Cell \u001b[0;32mIn[6], line 31\u001b[0m\n\u001b[1;32m     28\u001b[0m     \u001b[38;5;28;01mreturn\u001b[39;00m response\u001b[38;5;241m.\u001b[39mcontent\n\u001b[1;32m     30\u001b[0m \u001b[38;5;66;03m# Find the existing chat or create a new one\u001b[39;00m\n\u001b[0;32m---> 31\u001b[0m chat \u001b[38;5;241m=\u001b[39m \u001b[43mfind_chat_by_name\u001b[49m\u001b[43m(\u001b[49m\u001b[43mchat_name\u001b[49m\u001b[43m)\u001b[49m\n\u001b[1;32m     32\u001b[0m \u001b[38;5;28;01mif\u001b[39;00m chat \u001b[38;5;129;01mis\u001b[39;00m \u001b[38;5;28;01mNone\u001b[39;00m:\n\u001b[1;32m     33\u001b[0m     chat \u001b[38;5;241m=\u001b[39m create_new_chat(chat_name)\n",
      "Cell \u001b[0;32mIn[6], line 9\u001b[0m, in \u001b[0;36mfind_chat_by_name\u001b[0;34m(name)\u001b[0m\n\u001b[1;32m      8\u001b[0m \u001b[38;5;28;01mdef\u001b[39;00m \u001b[38;5;21mfind_chat_by_name\u001b[39m(name):\n\u001b[0;32m----> 9\u001b[0m     chats \u001b[38;5;241m=\u001b[39m \u001b[43mclient\u001b[49m\u001b[38;5;241;43m.\u001b[39;49m\u001b[43mlist_chats\u001b[49m()\n\u001b[1;32m     10\u001b[0m     \u001b[38;5;28;01mfor\u001b[39;00m chat \u001b[38;5;129;01min\u001b[39;00m chats:\n\u001b[1;32m     11\u001b[0m         \u001b[38;5;28;01mif\u001b[39;00m chat\u001b[38;5;241m.\u001b[39mname \u001b[38;5;241m==\u001b[39m name:\n",
      "\u001b[0;31mAttributeError\u001b[0m: 'Anthropic' object has no attribute 'list_chats'"
     ]
    }
   ],
   "source": [
    "# Set up the Anthropic API client\n",
    "client = anthropic.Client(api_key=api_key)\n",
    "\n",
    "# Specify the chat name\n",
    "chat_name = \"My Chat\"\n",
    "\n",
    "# Function to find an existing chat by name\n",
    "def find_chat_by_name(name):\n",
    "    chats = client.list_chats()\n",
    "    for chat in chats:\n",
    "        if chat.name == name:\n",
    "            return chat\n",
    "    return None\n",
    "\n",
    "# Function to create a new chat\n",
    "def create_new_chat(name):\n",
    "    chat = client.create_chat(name=name)\n",
    "    return chat\n",
    "\n",
    "# Function to upload a file to the chat\n",
    "def upload_file(chat_id, file_path):\n",
    "    with open(file_path, \"rb\") as file:\n",
    "        client.upload_file(chat_id=chat_id, file=file)\n",
    "\n",
    "# Function to ask a question and receive an answer\n",
    "def ask_question(chat_id, question):\n",
    "    response = client.send_message(chat_id=chat_id, message=question)\n",
    "    return response.content\n",
    "\n",
    "# Find the existing chat or create a new one\n",
    "chat = find_chat_by_name(chat_name)\n",
    "if chat is None:\n",
    "    chat = create_new_chat(chat_name)\n",
    "\n",
    "# Upload a file to the chat\n",
    "file_path = \"path/to/your/file.txt\"\n",
    "upload_file(chat.chat_id, file_path)\n",
    "\n",
    "# Ask a question and receive the answer\n",
    "question = \"What is the main topic of the uploaded document?\"\n",
    "answer = ask_question(chat.chat_id, question)\n",
    "\n",
    "print(\"Question:\", question)\n",
    "print(\"Answer:\", answer)"
   ]
  },
  {
   "cell_type": "code",
   "execution_count": 14,
   "id": "b9b834d1-ef10-4982-93d5-ce6d2dba253f",
   "metadata": {
    "execution": {
     "iopub.execute_input": "2024-05-08T13:54:06.561906Z",
     "iopub.status.busy": "2024-05-08T13:54:06.561123Z",
     "iopub.status.idle": "2024-05-08T13:54:06.570802Z",
     "shell.execute_reply": "2024-05-08T13:54:06.570246Z",
     "shell.execute_reply.started": "2024-05-08T13:54:06.561886Z"
    }
   },
   "outputs": [
    {
     "data": {
      "text/plain": [
       "'*clears throat and speaks in a croaky voice* Hmm, well I am today, young Padawan. The Force, strong in me it flows. Yes, heh heh heh.'"
      ]
     },
     "execution_count": 14,
     "metadata": {},
     "output_type": "execute_result"
    }
   ],
   "source": [
    "message.content[0].text"
   ]
  }
 ],
 "metadata": {
  "kernelspec": {
   "display_name": "Python [conda env:base] *",
   "language": "python",
   "name": "conda-base-py"
  },
  "language_info": {
   "codemirror_mode": {
    "name": "ipython",
    "version": 3
   },
   "file_extension": ".py",
   "mimetype": "text/x-python",
   "name": "python",
   "nbconvert_exporter": "python",
   "pygments_lexer": "ipython3",
   "version": "3.11.9"
  }
 },
 "nbformat": 4,
 "nbformat_minor": 5
}
