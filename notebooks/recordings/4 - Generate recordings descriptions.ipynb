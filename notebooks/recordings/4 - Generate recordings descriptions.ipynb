{
 "cells": [
  {
   "cell_type": "markdown",
   "id": "936bf288-0839-469f-801b-7f7d029f254b",
   "metadata": {},
   "source": [
    "# Generate Recordings Descriptions\n",
    "This service will use ChatGPT to read the recordings transcriptions and will generate meaningful description for every recording"
   ]
  },
  {
   "cell_type": "code",
   "execution_count": null,
   "id": "08d9b60c-52b3-4506-ae21-29a05f65b818",
   "metadata": {},
   "outputs": [],
   "source": []
  }
 ],
 "metadata": {
  "kernelspec": {
   "display_name": "Python [conda env:base] *",
   "language": "python",
   "name": "conda-base-py"
  },
  "language_info": {
   "codemirror_mode": {
    "name": "ipython",
    "version": 3
   },
   "file_extension": ".py",
   "mimetype": "text/x-python",
   "name": "python",
   "nbconvert_exporter": "python",
   "pygments_lexer": "ipython3",
   "version": "3.11.9"
  }
 },
 "nbformat": 4,
 "nbformat_minor": 5
}
