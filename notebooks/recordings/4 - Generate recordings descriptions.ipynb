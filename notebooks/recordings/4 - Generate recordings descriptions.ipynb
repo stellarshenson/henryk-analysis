{
 "cells": [
  {
   "cell_type": "markdown",
   "id": "936bf288-0839-469f-801b-7f7d029f254b",
   "metadata": {},
   "source": [
    "# Generate Recordings Descriptions\n",
    "This service will use ChatGPT to read the recordings transcriptions and will generate meaningful description for every recording\n",
    "\n",
    "This notebook will also query ChatGPT to provide classification of the recordings according [to the schema](../../references/ChatGPT_Prompts.md)"
   ]
  },
  {
   "cell_type": "code",
   "execution_count": 1,
   "id": "98140383-188c-457c-8e04-7e4620b410a1",
   "metadata": {
    "execution": {
     "iopub.execute_input": "2024-06-21T05:15:28.392550Z",
     "iopub.status.busy": "2024-06-21T05:15:28.392215Z",
     "iopub.status.idle": "2024-06-21T05:15:28.421147Z",
     "shell.execute_reply": "2024-06-21T05:15:28.419968Z",
     "shell.execute_reply.started": "2024-06-21T05:15:28.392526Z"
    },
    "tags": []
   },
   "outputs": [],
   "source": [
    "%reload_ext autoreload\n",
    "%autoreload 2"
   ]
  },
  {
   "cell_type": "code",
   "execution_count": 2,
   "id": "f4b557c6-c6ed-4c9c-bb72-60b1256a6003",
   "metadata": {
    "execution": {
     "iopub.execute_input": "2024-06-21T05:15:29.910345Z",
     "iopub.status.busy": "2024-06-21T05:15:29.910019Z",
     "iopub.status.idle": "2024-06-21T05:15:33.108589Z",
     "shell.execute_reply": "2024-06-21T05:15:33.107438Z",
     "shell.execute_reply.started": "2024-06-21T05:15:29.910321Z"
    }
   },
   "outputs": [],
   "source": [
    "import os\n",
    "import openai\n",
    "import os\n",
    "import pandas as pd\n",
    "import json\n",
    "\n",
    "# for un-makrdowning the text from openai\n",
    "from markdown_it import MarkdownIt\n",
    "from mdit_plain.renderer import RendererPlain\n",
    "\n",
    "from lib_henryk.config import *\n",
    "from lib_henryk.logger import *\n",
    "from lib_henryk import utils\n",
    "from lib_henryk.recordings import transcriptions\n",
    "from lib_henryk.recordings import classification\n",
    "from lib_henryk.recordings import recordings"
   ]
  },
  {
   "cell_type": "code",
   "execution_count": 3,
   "id": "c8830692-5768-41d1-a831-8121746d079d",
   "metadata": {
    "execution": {
     "iopub.execute_input": "2024-06-21T05:15:33.113032Z",
     "iopub.status.busy": "2024-06-21T05:15:33.110846Z",
     "iopub.status.idle": "2024-06-21T05:15:33.144992Z",
     "shell.execute_reply": "2024-06-21T05:15:33.143948Z",
     "shell.execute_reply.started": "2024-06-21T05:15:33.113003Z"
    }
   },
   "outputs": [],
   "source": [
    "# load api keys\n",
    "from dotenv import load_dotenv\n",
    "_ = load_dotenv()\n",
    "\n",
    "# Your OpenAI API key\n",
    "api_key = os.getenv('OPENAI_API_KEY')"
   ]
  },
  {
   "cell_type": "markdown",
   "id": "4fc7cee2-37d9-4fd6-8422-479b698b3b82",
   "metadata": {},
   "source": [
    "## Load Resources\n",
    "- prompts - there are a set of pre-configured prompts that behave well and give good results\n",
    "- transcriptions - all recordings are processed with transcription service and results are saved to a parquet file (db)"
   ]
  },
  {
   "cell_type": "code",
   "execution_count": 4,
   "id": "636f76be-2822-4d4a-b9bb-8c5bded58aca",
   "metadata": {
    "editable": true,
    "execution": {
     "iopub.execute_input": "2024-06-21T05:15:36.305301Z",
     "iopub.status.busy": "2024-06-21T05:15:36.304915Z",
     "iopub.status.idle": "2024-06-21T05:15:36.432849Z",
     "shell.execute_reply": "2024-06-21T05:15:36.431925Z",
     "shell.execute_reply.started": "2024-06-21T05:15:36.305275Z"
    },
    "slideshow": {
     "slide_type": ""
    },
    "tags": []
   },
   "outputs": [],
   "source": [
    "# recordings transcriptions\n",
    "df_transcriptions = pd.read_parquet(FILE_TRANSCRIPTIONS_PARQUET)\n",
    "df_transcriptions = recordings.sort_df_by_date_inferred_from_name(df_transcriptions)\n",
    "df_transcription_classification = pd.read_parquet(FILE_TRANSCRIPTIONS_CLASSIFICATION_PARQUET)"
   ]
  },
  {
   "cell_type": "markdown",
   "id": "18a2b005-111e-485d-b79c-246f4c5a5161",
   "metadata": {},
   "source": [
    "## Perform Classification\n",
    "- read existing transcriptions database (parquet file)\n",
    "- read existing classification database (parquet file)\n",
    "- run classifier with openai gpt (currently model 4o)\n",
    "- use prompt crafted in a separate file [classification prompt](../../resources/recording_classification.md)\n",
    "- we are using `few-shots` engineered prompt with rich examples"
   ]
  },
  {
   "cell_type": "code",
   "execution_count": 112,
   "id": "0559d797-343c-45df-a5dd-8bb9d6ca43a3",
   "metadata": {
    "editable": true,
    "execution": {
     "iopub.execute_input": "2024-06-21T09:12:40.587094Z",
     "iopub.status.busy": "2024-06-21T09:12:40.586861Z",
     "iopub.status.idle": "2024-06-21T09:12:40.985757Z",
     "shell.execute_reply": "2024-06-21T09:12:40.985118Z",
     "shell.execute_reply.started": "2024-06-21T09:12:40.587078Z"
    },
    "slideshow": {
     "slide_type": ""
    },
    "tags": []
   },
   "outputs": [],
   "source": [
    "df_transcriptions_selected = df_transcriptions.iloc[0:200]"
   ]
  },
  {
   "cell_type": "code",
   "execution_count": 117,
   "id": "9b89edcb-76f6-4596-a4f5-d7abc9dba479",
   "metadata": {
    "editable": true,
    "execution": {
     "iopub.execute_input": "2024-06-21T09:14:41.794471Z",
     "iopub.status.busy": "2024-06-21T09:14:41.794081Z",
     "iopub.status.idle": "2024-06-21T09:14:43.080967Z",
     "shell.execute_reply": "2024-06-21T09:14:43.080258Z",
     "shell.execute_reply.started": "2024-06-21T09:14:41.794452Z"
    },
    "slideshow": {
     "slide_type": ""
    },
    "tags": []
   },
   "outputs": [],
   "source": [
    "transcription_classifier = classification.Transcription_Classifier(api_key=api_key)\n",
    "transcription_classifier.initialise_prompt(prompt_file_path=FILE_PROMPT_RECORDING_CLASSIFICATION)"
   ]
  },
  {
   "cell_type": "code",
   "execution_count": null,
   "id": "a1a3727e-aa8a-4219-b8e3-51b5e01c1553",
   "metadata": {
    "editable": true,
    "execution": {
     "iopub.execute_input": "2024-06-21T09:47:59.759249Z",
     "iopub.status.busy": "2024-06-21T09:47:59.758957Z"
    },
    "slideshow": {
     "slide_type": ""
    },
    "tags": []
   },
   "outputs": [
    {
     "name": "stdout",
     "output_type": "stream",
     "text": [
      "2024-06-21 09:48:00 - \u001b[32mINFO \u001b[0m - \u001b[34mperform_classification\u001b[0m - intermediate classification results will be written to /tmp/temp_df_transcriptions_classifications.parquet\n",
      "2024-06-21 09:48:00 - \u001b[33mWARNING\u001b[0m - \u001b[34mperform_classification\u001b[0m - unable to provide initial classification dataset, classification is in progress\n",
      "classifying 199/200 transcriptions |███████████████████████████████████████-| 99.5% [199] Henryk 2023-02-14 Przyjaciele Kubusia Puchatka przybywają nad s...\r"
     ]
    }
   ],
   "source": [
    "transcription_classifier.perform_classification(df_transcriptions_selected, df_transcriptions_classifications, verbose=False)\n",
    "transcription_classifier.save_classification_parquet(path=FILE_TRANSCRIPTIONS_CLASSIFICATION_PARQUET)\n",
    "df_transcriptions_classifications = transcription_classifier.df_transcriptions_classifications"
   ]
  },
  {
   "cell_type": "code",
   "execution_count": 44,
   "id": "db01364e-e17a-4012-ba1b-690dcd9b3d26",
   "metadata": {
    "editable": true,
    "execution": {
     "iopub.execute_input": "2024-06-21T06:02:31.959417Z",
     "iopub.status.busy": "2024-06-21T06:02:31.959197Z",
     "iopub.status.idle": "2024-06-21T06:02:31.976020Z",
     "shell.execute_reply": "2024-06-21T06:02:31.975425Z",
     "shell.execute_reply.started": "2024-06-21T06:02:31.959399Z"
    },
    "slideshow": {
     "slide_type": ""
    },
    "tags": []
   },
   "outputs": [],
   "source": [
    "text_md = transcription_classifier.messages.to_dict()['data'][0]['content'][0]['text']['value']\n",
    "text_json = transcription_classifier.unmarkdown_parser.render(text_md)"
   ]
  },
  {
   "cell_type": "code",
   "execution_count": null,
   "id": "c806873b-ce6f-42b7-abd8-2e3cfd712375",
   "metadata": {
    "editable": true,
    "slideshow": {
     "slide_type": ""
    },
    "tags": []
   },
   "outputs": [],
   "source": [
    "response = transcription_classifier.df_transcription_classification.iloc[-1]['classification_json']\n",
    "response_json = json.loads(response)\n",
    "display(response_json)"
   ]
  },
  {
   "cell_type": "code",
   "execution_count": 120,
   "id": "15ab84c4-7854-42b3-9b4e-48f0e1012dc4",
   "metadata": {
    "editable": true,
    "execution": {
     "iopub.execute_input": "2024-06-21T09:45:26.927834Z",
     "iopub.status.busy": "2024-06-21T09:45:26.927083Z",
     "iopub.status.idle": "2024-06-21T09:45:27.565092Z",
     "shell.execute_reply": "2024-06-21T09:45:27.564318Z",
     "shell.execute_reply.started": "2024-06-21T09:45:26.927816Z"
    },
    "slideshow": {
     "slide_type": ""
    },
    "tags": []
   },
   "outputs": [
    {
     "name": "stdout",
     "output_type": "stream",
     "text": [
      "2024-06-21 09:45:27 - \u001b[32mINFO \u001b[0m - \u001b[34msave_classification_parquet\u001b[0m - saving 132 classification results to to ../../data/processed/henryk_transcriptions_classification.parquet\n",
      "2024-06-21 09:45:27 - \u001b[32mINFO \u001b[0m - \u001b[34msave_classification_parquet\u001b[0m - found older file with the same name, checking the older file size vs new...\n",
      "2024-06-21 09:45:27 - \u001b[32mINFO \u001b[0m - \u001b[34msave_classification_parquet\u001b[0m - new file will be replacing old one (old has 132 records vs new 132)\n"
     ]
    }
   ],
   "source": [
    "transcription_classifier.save_classification_parquet(FILE_TRANSCRIPTIONS_CLASSIFICATION_PARQUET)"
   ]
  },
  {
   "cell_type": "code",
   "execution_count": 121,
   "id": "303db268-009c-4a57-bf0a-1b856502c136",
   "metadata": {
    "editable": true,
    "execution": {
     "iopub.execute_input": "2024-06-21T09:45:35.531262Z",
     "iopub.status.busy": "2024-06-21T09:45:35.531040Z",
     "iopub.status.idle": "2024-06-21T09:45:35.552954Z",
     "shell.execute_reply": "2024-06-21T09:45:35.552089Z",
     "shell.execute_reply.started": "2024-06-21T09:45:35.531247Z"
    },
    "slideshow": {
     "slide_type": ""
    },
    "tags": []
   },
   "outputs": [],
   "source": [
    "df_backup = pd.read_parquet(FILE_TRANSCRIPTIONS_CLASSIFICATION_PARQUET)"
   ]
  },
  {
   "cell_type": "code",
   "execution_count": 115,
   "id": "3c047d1a-7f42-4dc0-abb2-d3fe85b77dd7",
   "metadata": {
    "editable": true,
    "execution": {
     "iopub.execute_input": "2024-06-21T09:13:33.224128Z",
     "iopub.status.busy": "2024-06-21T09:13:33.223904Z",
     "iopub.status.idle": "2024-06-21T09:13:33.239887Z",
     "shell.execute_reply": "2024-06-21T09:13:33.238875Z",
     "shell.execute_reply.started": "2024-06-21T09:13:33.224113Z"
    },
    "slideshow": {
     "slide_type": ""
    },
    "tags": []
   },
   "outputs": [],
   "source": [
    "transcription_classifier.df_transcriptions_classifications = df_backup.copy()"
   ]
  },
  {
   "cell_type": "code",
   "execution_count": 116,
   "id": "98de1c1a-d7f2-4420-83de-3248d9aaf449",
   "metadata": {
    "editable": true,
    "execution": {
     "iopub.execute_input": "2024-06-21T09:13:56.109994Z",
     "iopub.status.busy": "2024-06-21T09:13:56.109768Z",
     "iopub.status.idle": "2024-06-21T09:13:56.125419Z",
     "shell.execute_reply": "2024-06-21T09:13:56.124896Z",
     "shell.execute_reply.started": "2024-06-21T09:13:56.109965Z"
    },
    "slideshow": {
     "slide_type": ""
    },
    "tags": []
   },
   "outputs": [],
   "source": [
    "df_transcriptions_classifications = df_backup.copy()"
   ]
  },
  {
   "cell_type": "code",
   "execution_count": null,
   "id": "5a111228-32d1-4788-a470-546361c618a5",
   "metadata": {},
   "outputs": [],
   "source": []
  }
 ],
 "metadata": {
  "kernelspec": {
   "display_name": "Python [conda env:base] *",
   "language": "python",
   "name": "conda-base-py"
  },
  "language_info": {
   "codemirror_mode": {
    "name": "ipython",
    "version": 3
   },
   "file_extension": ".py",
   "mimetype": "text/x-python",
   "name": "python",
   "nbconvert_exporter": "python",
   "pygments_lexer": "ipython3",
   "version": "3.11.9"
  }
 },
 "nbformat": 4,
 "nbformat_minor": 5
}
