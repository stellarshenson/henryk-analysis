{
 "cells": [
  {
   "cell_type": "markdown",
   "id": "936bf288-0839-469f-801b-7f7d029f254b",
   "metadata": {},
   "source": [
    "# Generate Recordings Descriptions\n",
    "This service will use ChatGPT to read the recordings transcriptions and will generate meaningful description for every recording\n",
    "\n",
    "This notebook will also query ChatGPT to provide classification of the recordings according [to the schema](../../references/ChatGPT_Prompts.md)"
   ]
  },
  {
   "cell_type": "code",
   "execution_count": 1,
   "id": "98140383-188c-457c-8e04-7e4620b410a1",
   "metadata": {
    "execution": {
     "iopub.execute_input": "2024-06-21T11:01:16.986431Z",
     "iopub.status.busy": "2024-06-21T11:01:16.986173Z",
     "iopub.status.idle": "2024-06-21T11:01:17.002387Z",
     "shell.execute_reply": "2024-06-21T11:01:17.001770Z",
     "shell.execute_reply.started": "2024-06-21T11:01:16.986410Z"
    },
    "tags": []
   },
   "outputs": [],
   "source": [
    "%reload_ext autoreload\n",
    "%autoreload 2"
   ]
  },
  {
   "cell_type": "code",
   "execution_count": 2,
   "id": "f4b557c6-c6ed-4c9c-bb72-60b1256a6003",
   "metadata": {
    "editable": true,
    "execution": {
     "iopub.execute_input": "2024-06-21T11:01:17.003319Z",
     "iopub.status.busy": "2024-06-21T11:01:17.003146Z",
     "iopub.status.idle": "2024-06-21T11:01:18.072234Z",
     "shell.execute_reply": "2024-06-21T11:01:18.071723Z",
     "shell.execute_reply.started": "2024-06-21T11:01:17.003306Z"
    },
    "slideshow": {
     "slide_type": ""
    },
    "tags": []
   },
   "outputs": [],
   "source": [
    "import os\n",
    "import pandas as pd\n",
    "import json\n",
    "\n",
    "# for un-makrdowning the text from openai\n",
    "from markdown_it import MarkdownIt\n",
    "from mdit_plain.renderer import RendererPlain\n",
    "\n",
    "from lib_henryk.config import *\n",
    "from lib_henryk.logger import *\n",
    "from lib_henryk import utils\n",
    "from lib_henryk.recordings import transcriptions\n",
    "from lib_henryk.recordings import classification\n",
    "from lib_henryk.recordings import recordings"
   ]
  },
  {
   "cell_type": "code",
   "execution_count": 3,
   "id": "c8830692-5768-41d1-a831-8121746d079d",
   "metadata": {
    "editable": true,
    "execution": {
     "iopub.execute_input": "2024-06-21T11:01:18.074013Z",
     "iopub.status.busy": "2024-06-21T11:01:18.073367Z",
     "iopub.status.idle": "2024-06-21T11:01:18.090755Z",
     "shell.execute_reply": "2024-06-21T11:01:18.090056Z",
     "shell.execute_reply.started": "2024-06-21T11:01:18.073998Z"
    },
    "slideshow": {
     "slide_type": ""
    },
    "tags": []
   },
   "outputs": [],
   "source": [
    "# load api keys\n",
    "from dotenv import load_dotenv\n",
    "_ = load_dotenv()\n",
    "\n",
    "# Your OpenAI API key\n",
    "api_key = os.getenv('OPENAI_API_KEY')"
   ]
  },
  {
   "cell_type": "markdown",
   "id": "4fc7cee2-37d9-4fd6-8422-479b698b3b82",
   "metadata": {},
   "source": [
    "## Load Resources\n",
    "- prompts - there are a set of pre-configured prompts that behave well and give good results\n",
    "- transcriptions - all recordings are processed with transcription service and results are saved to a parquet file (db)"
   ]
  },
  {
   "cell_type": "code",
   "execution_count": 4,
   "id": "636f76be-2822-4d4a-b9bb-8c5bded58aca",
   "metadata": {
    "editable": true,
    "execution": {
     "iopub.execute_input": "2024-06-21T11:01:18.091840Z",
     "iopub.status.busy": "2024-06-21T11:01:18.091654Z",
     "iopub.status.idle": "2024-06-21T11:01:18.164585Z",
     "shell.execute_reply": "2024-06-21T11:01:18.163800Z",
     "shell.execute_reply.started": "2024-06-21T11:01:18.091827Z"
    },
    "slideshow": {
     "slide_type": ""
    },
    "tags": []
   },
   "outputs": [],
   "source": [
    "# recordings transcriptions\n",
    "df_transcriptions = pd.read_parquet(FILE_TRANSCRIPTIONS_PARQUET)\n",
    "df_transcriptions = recordings.sort_df_by_date_inferred_from_name(df_transcriptions)\n",
    "df_transcriptions_classifications = pd.read_parquet(FILE_TRANSCRIPTIONS_CLASSIFICATION_PARQUET)"
   ]
  },
  {
   "cell_type": "markdown",
   "id": "18a2b005-111e-485d-b79c-246f4c5a5161",
   "metadata": {},
   "source": [
    "## Perform Classification\n",
    "- read existing transcriptions database (parquet file)\n",
    "- read existing classification database (parquet file)\n",
    "- run classifier with openai gpt (currently model 4o)\n",
    "- use prompt crafted in a separate file [classification prompt](../../resources/recording_classification.md)\n",
    "- we are using `few-shots` engineered prompt with rich examples"
   ]
  },
  {
   "cell_type": "code",
   "execution_count": 5,
   "id": "0559d797-343c-45df-a5dd-8bb9d6ca43a3",
   "metadata": {
    "editable": true,
    "execution": {
     "iopub.execute_input": "2024-06-21T11:01:18.165393Z",
     "iopub.status.busy": "2024-06-21T11:01:18.165240Z",
     "iopub.status.idle": "2024-06-21T11:01:18.181132Z",
     "shell.execute_reply": "2024-06-21T11:01:18.180506Z",
     "shell.execute_reply.started": "2024-06-21T11:01:18.165381Z"
    },
    "slideshow": {
     "slide_type": ""
    },
    "tags": []
   },
   "outputs": [],
   "source": [
    "df_transcriptions_selected = df_transcriptions.iloc[200:300]"
   ]
  },
  {
   "cell_type": "code",
   "execution_count": 8,
   "id": "9b89edcb-76f6-4596-a4f5-d7abc9dba479",
   "metadata": {
    "editable": true,
    "execution": {
     "iopub.execute_input": "2024-06-21T11:02:09.874540Z",
     "iopub.status.busy": "2024-06-21T11:02:09.873844Z",
     "iopub.status.idle": "2024-06-21T11:02:10.777009Z",
     "shell.execute_reply": "2024-06-21T11:02:10.776109Z",
     "shell.execute_reply.started": "2024-06-21T11:02:09.874519Z"
    },
    "slideshow": {
     "slide_type": ""
    },
    "tags": []
   },
   "outputs": [],
   "source": [
    "transcription_classifier = classification.Transcription_Classifier(api_key=api_key)\n",
    "transcription_classifier.initialise_prompt(prompt_file_path=FILE_PROMPT_RECORDING_CLASSIFICATION)"
   ]
  },
  {
   "cell_type": "code",
   "execution_count": null,
   "id": "a1a3727e-aa8a-4219-b8e3-51b5e01c1553",
   "metadata": {
    "editable": true,
    "execution": {
     "iopub.execute_input": "2024-06-21T11:02:11.284426Z",
     "iopub.status.busy": "2024-06-21T11:02:11.283674Z"
    },
    "slideshow": {
     "slide_type": ""
    },
    "tags": []
   },
   "outputs": [
    {
     "name": "stdout",
     "output_type": "stream",
     "text": [
      "2024-06-21 11:02:11 - \u001b[32mINFO \u001b[0m - \u001b[34mperform_classification\u001b[0m - intermediate classification results will be written to /tmp/temp_df_transcriptions_classifications.parquet\n",
      "2024-06-21 11:02:11 - \u001b[32mINFO \u001b[0m - \u001b[34mperform_classification\u001b[0m - found 203 (0) existing classifications, those transcriptions will be ignored\n",
      "classifying   2/100 transcriptions |----------------------------------------| 2.0% [202] Rodzice Henryk 2023-02-19 Kot Filemon pojawia się w izbie i Bon...\r"
     ]
    }
   ],
   "source": [
    "transcription_classifier.perform_classification(df_transcriptions_selected, df_transcriptions_classifications, verbose=False)\n",
    "transcription_classifier.save_classification_parquet(path=FILE_TRANSCRIPTIONS_CLASSIFICATION_PARQUET)\n",
    "df_transcriptions_classifications = transcription_classifier.df_transcriptions_classifications"
   ]
  },
  {
   "cell_type": "code",
   "execution_count": null,
   "id": "c79de720-ae51-416d-ba1a-5ec26b3eb26a",
   "metadata": {},
   "outputs": [],
   "source": [
    "exit_cell()"
   ]
  },
  {
   "cell_type": "code",
   "execution_count": null,
   "id": "db01364e-e17a-4012-ba1b-690dcd9b3d26",
   "metadata": {
    "editable": true,
    "execution": {
     "iopub.status.busy": "2024-06-21T11:01:19.334183Z",
     "iopub.status.idle": "2024-06-21T11:01:19.334371Z",
     "shell.execute_reply": "2024-06-21T11:01:19.334295Z",
     "shell.execute_reply.started": "2024-06-21T11:01:19.334288Z"
    },
    "slideshow": {
     "slide_type": ""
    },
    "tags": []
   },
   "outputs": [],
   "source": [
    "text_md = transcription_classifier.messages.to_dict()['data'][0]['content'][0]['text']['value']\n",
    "text_json = transcription_classifier.unmarkdown_parser.render(text_md)"
   ]
  },
  {
   "cell_type": "code",
   "execution_count": null,
   "id": "c806873b-ce6f-42b7-abd8-2e3cfd712375",
   "metadata": {
    "editable": true,
    "execution": {
     "iopub.status.busy": "2024-06-21T11:01:19.335110Z",
     "iopub.status.idle": "2024-06-21T11:01:19.335287Z",
     "shell.execute_reply": "2024-06-21T11:01:19.335213Z",
     "shell.execute_reply.started": "2024-06-21T11:01:19.335206Z"
    },
    "slideshow": {
     "slide_type": ""
    },
    "tags": []
   },
   "outputs": [],
   "source": [
    "response = transcription_classifier.df_transcription_classification.iloc[-1]['classification_json']\n",
    "response_json = json.loads(response)\n",
    "display(response_json)"
   ]
  },
  {
   "cell_type": "code",
   "execution_count": null,
   "id": "15ab84c4-7854-42b3-9b4e-48f0e1012dc4",
   "metadata": {
    "editable": true,
    "execution": {
     "iopub.status.busy": "2024-06-21T11:01:19.336579Z",
     "iopub.status.idle": "2024-06-21T11:01:19.336795Z",
     "shell.execute_reply": "2024-06-21T11:01:19.336713Z",
     "shell.execute_reply.started": "2024-06-21T11:01:19.336704Z"
    },
    "slideshow": {
     "slide_type": ""
    },
    "tags": []
   },
   "outputs": [],
   "source": [
    "transcription_classifier.save_classification_parquet(FILE_TRANSCRIPTIONS_CLASSIFICATION_PARQUET)"
   ]
  },
  {
   "cell_type": "code",
   "execution_count": null,
   "id": "303db268-009c-4a57-bf0a-1b856502c136",
   "metadata": {
    "editable": true,
    "execution": {
     "iopub.status.busy": "2024-06-21T11:01:19.338034Z",
     "iopub.status.idle": "2024-06-21T11:01:19.338250Z",
     "shell.execute_reply": "2024-06-21T11:01:19.338168Z",
     "shell.execute_reply.started": "2024-06-21T11:01:19.338159Z"
    },
    "slideshow": {
     "slide_type": ""
    },
    "tags": []
   },
   "outputs": [],
   "source": [
    "df_backup = pd.read_parquet(FILE_TRANSCRIPTIONS_CLASSIFICATION_PARQUET)"
   ]
  },
  {
   "cell_type": "code",
   "execution_count": null,
   "id": "3c047d1a-7f42-4dc0-abb2-d3fe85b77dd7",
   "metadata": {
    "editable": true,
    "execution": {
     "iopub.status.busy": "2024-06-21T11:01:19.339330Z",
     "iopub.status.idle": "2024-06-21T11:01:19.339540Z",
     "shell.execute_reply": "2024-06-21T11:01:19.339462Z",
     "shell.execute_reply.started": "2024-06-21T11:01:19.339454Z"
    },
    "slideshow": {
     "slide_type": ""
    },
    "tags": []
   },
   "outputs": [],
   "source": [
    "transcription_classifier.df_transcriptions_classifications = df_backup.copy()"
   ]
  },
  {
   "cell_type": "code",
   "execution_count": null,
   "id": "98de1c1a-d7f2-4420-83de-3248d9aaf449",
   "metadata": {
    "editable": true,
    "execution": {
     "iopub.status.busy": "2024-06-21T11:01:19.340339Z",
     "iopub.status.idle": "2024-06-21T11:01:19.340542Z",
     "shell.execute_reply": "2024-06-21T11:01:19.340466Z",
     "shell.execute_reply.started": "2024-06-21T11:01:19.340457Z"
    },
    "slideshow": {
     "slide_type": ""
    },
    "tags": []
   },
   "outputs": [],
   "source": [
    "df_transcriptions_classifications = df_backup.copy()"
   ]
  },
  {
   "cell_type": "code",
   "execution_count": null,
   "id": "5a111228-32d1-4788-a470-546361c618a5",
   "metadata": {},
   "outputs": [],
   "source": []
  }
 ],
 "metadata": {
  "kernelspec": {
   "display_name": "Python [conda env:base] *",
   "language": "python",
   "name": "conda-base-py"
  },
  "language_info": {
   "codemirror_mode": {
    "name": "ipython",
    "version": 3
   },
   "file_extension": ".py",
   "mimetype": "text/x-python",
   "name": "python",
   "nbconvert_exporter": "python",
   "pygments_lexer": "ipython3",
   "version": "3.11.9"
  }
 },
 "nbformat": 4,
 "nbformat_minor": 5
}
