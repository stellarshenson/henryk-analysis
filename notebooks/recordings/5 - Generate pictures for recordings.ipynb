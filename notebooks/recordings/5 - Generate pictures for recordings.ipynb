{
 "cells": [
  {
   "cell_type": "markdown",
   "id": "cebc14b1-6cac-4be6-97e5-640834ef422a",
   "metadata": {},
   "source": [
    "# Generate pictures for recordings\n",
    "Use ChatGPT and DALEE to generate illustrations for the recordings"
   ]
  },
  {
   "cell_type": "code",
   "execution_count": null,
   "id": "b0b3ae87-84ec-48cf-91a2-326a3e90840d",
   "metadata": {},
   "outputs": [],
   "source": []
  }
 ],
 "metadata": {
  "kernelspec": {
   "display_name": "Python [conda env:base] *",
   "language": "python",
   "name": "conda-base-py"
  },
  "language_info": {
   "codemirror_mode": {
    "name": "ipython",
    "version": 3
   },
   "file_extension": ".py",
   "mimetype": "text/x-python",
   "name": "python",
   "nbconvert_exporter": "python",
   "pygments_lexer": "ipython3",
   "version": "3.11.9"
  }
 },
 "nbformat": 4,
 "nbformat_minor": 5
}
