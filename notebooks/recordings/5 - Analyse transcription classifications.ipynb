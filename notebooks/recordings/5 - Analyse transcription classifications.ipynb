{
 "cells": [
  {
   "cell_type": "markdown",
   "id": "936bf288-0839-469f-801b-7f7d029f254b",
   "metadata": {},
   "source": [
    "# Generate Recordings Descriptions\n",
    "This service will use ChatGPT to read the recordings transcriptions and will generate meaningful description for every recording\n",
    "\n",
    "This notebook will also query ChatGPT to provide classification of the recordings according [to the schema](../../references/ChatGPT_Prompts.md)"
   ]
  },
  {
   "cell_type": "code",
   "execution_count": 1,
   "id": "98140383-188c-457c-8e04-7e4620b410a1",
   "metadata": {
    "execution": {
     "iopub.execute_input": "2024-06-21T16:15:37.756467Z",
     "iopub.status.busy": "2024-06-21T16:15:37.756026Z",
     "iopub.status.idle": "2024-06-21T16:15:37.774468Z",
     "shell.execute_reply": "2024-06-21T16:15:37.773809Z",
     "shell.execute_reply.started": "2024-06-21T16:15:37.756434Z"
    },
    "tags": []
   },
   "outputs": [],
   "source": [
    "%reload_ext autoreload\n",
    "%autoreload 2"
   ]
  },
  {
   "cell_type": "code",
   "execution_count": 2,
   "id": "f4b557c6-c6ed-4c9c-bb72-60b1256a6003",
   "metadata": {
    "editable": true,
    "execution": {
     "iopub.execute_input": "2024-06-21T16:15:37.775643Z",
     "iopub.status.busy": "2024-06-21T16:15:37.775184Z",
     "iopub.status.idle": "2024-06-21T16:15:39.179554Z",
     "shell.execute_reply": "2024-06-21T16:15:39.178772Z",
     "shell.execute_reply.started": "2024-06-21T16:15:37.775627Z"
    },
    "slideshow": {
     "slide_type": ""
    },
    "tags": []
   },
   "outputs": [],
   "source": [
    "import warnings\n",
    "import os\n",
    "import pandas as pd\n",
    "import json\n",
    "\n",
    "# plotting\n",
    "import matplotlib.pyplot as plt\n",
    "import seaborn as sns\n",
    "import numpy as np\n",
    "\n",
    "from lib_henryk.config import *\n",
    "from lib_henryk.logger import *\n",
    "from lib_henryk import utils\n",
    "from lib_henryk.recordings import transcriptions\n",
    "from lib_henryk.recordings import classification\n",
    "from lib_henryk.recordings import recordings\n",
    "from lib_henryk.visualization import visualize\n",
    "\n",
    "warnings.filterwarnings('ignore')"
   ]
  },
  {
   "cell_type": "markdown",
   "id": "be488ffe-65de-4013-ad0f-4da6cf05146f",
   "metadata": {},
   "source": [
    "## Params"
   ]
  },
  {
   "cell_type": "code",
   "execution_count": 3,
   "id": "7d708419-0311-49bf-849b-c9c0444681b9",
   "metadata": {
    "editable": true,
    "execution": {
     "iopub.execute_input": "2024-06-21T16:15:39.181044Z",
     "iopub.status.busy": "2024-06-21T16:15:39.180527Z",
     "iopub.status.idle": "2024-06-21T16:15:39.196231Z",
     "shell.execute_reply": "2024-06-21T16:15:39.195476Z",
     "shell.execute_reply.started": "2024-06-21T16:15:39.181028Z"
    },
    "slideshow": {
     "slide_type": ""
    },
    "tags": []
   },
   "outputs": [],
   "source": [
    "# configurable regex to help select only columns that matter\n",
    "REGEX_COLUMNS_NAME_DATE_CLASSIFICATION=\"^(name|date|classification\\..*)$\"\n"
   ]
  },
  {
   "cell_type": "markdown",
   "id": "4fc7cee2-37d9-4fd6-8422-479b698b3b82",
   "metadata": {},
   "source": [
    "## Load Resources and Generate Stats\n",
    "- classifications"
   ]
  },
  {
   "cell_type": "code",
   "execution_count": 4,
   "id": "636f76be-2822-4d4a-b9bb-8c5bded58aca",
   "metadata": {
    "editable": true,
    "execution": {
     "iopub.execute_input": "2024-06-21T16:15:39.197213Z",
     "iopub.status.busy": "2024-06-21T16:15:39.196981Z",
     "iopub.status.idle": "2024-06-21T16:15:39.318191Z",
     "shell.execute_reply": "2024-06-21T16:15:39.317498Z",
     "shell.execute_reply.started": "2024-06-21T16:15:39.197199Z"
    },
    "slideshow": {
     "slide_type": ""
    },
    "tags": []
   },
   "outputs": [],
   "source": [
    "# load classifications\n",
    "df_transcriptions_classifications = pd.read_parquet(FILE_TRANSCRIPTIONS_CLASSIFICATION_PARQUET)\n",
    "df_stats = classification.Transcription_Classifier.process_dataframe_json(df_transcriptions_classifications, json_column='classification_json')\n",
    "df_stats = recordings.sort_df_by_date_inferred_from_name(df_stats, drop_date=False)"
   ]
  },
  {
   "cell_type": "markdown",
   "id": "08b5bf3f-0d82-49c6-9c63-3b34cba30d72",
   "metadata": {},
   "source": [
    "## Data Conditioning\n",
    "- claning, conversions, augmentation, transformations"
   ]
  },
  {
   "cell_type": "code",
   "execution_count": 5,
   "id": "2354f4b9-573b-44ed-a06e-61fcf0b23ff4",
   "metadata": {
    "execution": {
     "iopub.execute_input": "2024-06-21T16:15:39.319191Z",
     "iopub.status.busy": "2024-06-21T16:15:39.318909Z",
     "iopub.status.idle": "2024-06-21T16:15:39.335584Z",
     "shell.execute_reply": "2024-06-21T16:15:39.335026Z",
     "shell.execute_reply.started": "2024-06-21T16:15:39.319177Z"
    }
   },
   "outputs": [],
   "source": [
    "df_stats = df_stats.filter(regex=REGEX_COLUMNS_NAME_DATE_CLASSIFICATION)"
   ]
  },
  {
   "cell_type": "markdown",
   "id": "18a2b005-111e-485d-b79c-246f4c5a5161",
   "metadata": {},
   "source": [
    "## Perform Analysis"
   ]
  },
  {
   "cell_type": "markdown",
   "id": "7be33cc4-0815-4149-ad4e-84d605d8d474",
   "metadata": {
    "execution": {
     "iopub.execute_input": "2024-06-21T15:16:38.652446Z",
     "iopub.status.busy": "2024-06-21T15:16:38.652042Z",
     "iopub.status.idle": "2024-06-21T15:16:38.678914Z",
     "shell.execute_reply": "2024-06-21T15:16:38.677707Z",
     "shell.execute_reply.started": "2024-06-21T15:16:38.652422Z"
    }
   },
   "source": [
    "### Analyse sentiments across the recordings"
   ]
  },
  {
   "cell_type": "code",
   "execution_count": 17,
   "id": "7cfaaa03-062d-45f1-b5d8-02214aaddba8",
   "metadata": {
    "execution": {
     "iopub.execute_input": "2024-06-21T16:34:16.080682Z",
     "iopub.status.busy": "2024-06-21T16:34:16.080003Z",
     "iopub.status.idle": "2024-06-21T16:34:16.141095Z",
     "shell.execute_reply": "2024-06-21T16:34:16.140166Z",
     "shell.execute_reply.started": "2024-06-21T16:34:16.080662Z"
    }
   },
   "outputs": [
    {
     "data": {
      "application/vnd.plotly.v1+json": {
       "config": {
        "plotlyServerURL": "https://plot.ly"
       },
       "data": [
        {
         "alignmentgroup": "True",
         "bingroup": "x",
         "hovertemplate": "classification.overall_sentiment=%{x}<br>count=%{y}<extra></extra>",
         "legendgroup": "Pozytywny",
         "marker": {
          "color": "#440154",
          "pattern": {
           "shape": ""
          }
         },
         "name": "Pozytywny",
         "offsetgroup": "Pozytywny",
         "orientation": "v",
         "showlegend": true,
         "texttemplate": "%{value}",
         "type": "histogram",
         "x": [
          "Pozytywny",
          "Pozytywny",
          "Pozytywny",
          "Pozytywny",
          "Pozytywny",
          "Pozytywny",
          "Pozytywny",
          "Pozytywny",
          "Pozytywny",
          "Pozytywny",
          "Pozytywny",
          "Pozytywny",
          "Pozytywny",
          "Pozytywny",
          "Pozytywny",
          "Pozytywny",
          "Pozytywny",
          "Pozytywny",
          "Pozytywny",
          "Pozytywny",
          "Pozytywny",
          "Pozytywny",
          "Pozytywny",
          "Pozytywny",
          "Pozytywny",
          "Pozytywny",
          "Pozytywny",
          "Pozytywny",
          "Pozytywny",
          "Pozytywny",
          "Pozytywny",
          "Pozytywny",
          "Pozytywny",
          "Pozytywny",
          "Pozytywny",
          "Pozytywny",
          "Pozytywny",
          "Pozytywny",
          "Pozytywny",
          "Pozytywny",
          "Pozytywny",
          "Pozytywny",
          "Pozytywny",
          "Pozytywny",
          "Pozytywny",
          "Pozytywny",
          "Pozytywny",
          "Pozytywny",
          "Pozytywny",
          "Pozytywny",
          "Pozytywny",
          "Pozytywny",
          "Pozytywny",
          "Pozytywny",
          "Pozytywny",
          "Pozytywny",
          "Pozytywny",
          "Pozytywny",
          "Pozytywny",
          "Pozytywny",
          "Pozytywny",
          "Pozytywny",
          "Pozytywny",
          "Pozytywny",
          "Pozytywny",
          "Pozytywny",
          "Pozytywny",
          "Pozytywny",
          "Pozytywny",
          "Pozytywny",
          "Pozytywny",
          "Pozytywny",
          "Pozytywny",
          "Pozytywny",
          "Pozytywny",
          "Pozytywny",
          "Pozytywny",
          "Pozytywny",
          "Pozytywny",
          "Pozytywny",
          "Pozytywny",
          "Pozytywny",
          "Pozytywny",
          "Pozytywny",
          "Pozytywny",
          "Pozytywny",
          "Pozytywny",
          "Pozytywny",
          "Pozytywny",
          "Pozytywny",
          "Pozytywny",
          "Pozytywny",
          "Pozytywny",
          "Pozytywny",
          "Pozytywny",
          "Pozytywny",
          "Pozytywny",
          "Pozytywny",
          "Pozytywny",
          "Pozytywny",
          "Pozytywny",
          "Pozytywny",
          "Pozytywny",
          "Pozytywny",
          "Pozytywny",
          "Pozytywny",
          "Pozytywny",
          "Pozytywny",
          "Pozytywny",
          "Pozytywny",
          "Pozytywny",
          "Pozytywny",
          "Pozytywny",
          "Pozytywny",
          "Pozytywny",
          "Pozytywny",
          "Pozytywny",
          "Pozytywny",
          "Pozytywny",
          "Pozytywny",
          "Pozytywny",
          "Pozytywny",
          "Pozytywny",
          "Pozytywny",
          "Pozytywny",
          "Pozytywny",
          "Pozytywny",
          "Pozytywny",
          "Pozytywny",
          "Pozytywny",
          "Pozytywny",
          "Pozytywny",
          "Pozytywny",
          "Pozytywny",
          "Pozytywny",
          "Pozytywny",
          "Pozytywny",
          "Pozytywny",
          "Pozytywny",
          "Pozytywny",
          "Pozytywny",
          "Pozytywny",
          "Pozytywny",
          "Pozytywny",
          "Pozytywny",
          "Pozytywny",
          "Pozytywny",
          "Pozytywny",
          "Pozytywny",
          "Pozytywny",
          "Pozytywny",
          "Pozytywny",
          "Pozytywny",
          "Pozytywny",
          "Pozytywny",
          "Pozytywny",
          "Pozytywny",
          "Pozytywny",
          "Pozytywny",
          "Pozytywny",
          "Pozytywny",
          "Pozytywny",
          "Pozytywny",
          "Pozytywny",
          "Pozytywny",
          "Pozytywny",
          "Pozytywny",
          "Pozytywny",
          "Pozytywny",
          "Pozytywny",
          "Pozytywny",
          "Pozytywny",
          "Pozytywny",
          "Pozytywny",
          "Pozytywny",
          "Pozytywny",
          "Pozytywny",
          "Pozytywny",
          "Pozytywny",
          "Pozytywny",
          "Pozytywny",
          "Pozytywny",
          "Pozytywny",
          "Pozytywny",
          "Pozytywny",
          "Pozytywny",
          "Pozytywny",
          "Pozytywny",
          "Pozytywny",
          "Pozytywny",
          "Pozytywny",
          "Pozytywny",
          "Pozytywny",
          "Pozytywny",
          "Pozytywny",
          "Pozytywny",
          "Pozytywny",
          "Pozytywny",
          "Pozytywny",
          "Pozytywny",
          "Pozytywny",
          "Pozytywny",
          "Pozytywny",
          "Pozytywny",
          "Pozytywny",
          "Pozytywny",
          "Pozytywny",
          "Pozytywny",
          "Pozytywny",
          "Pozytywny",
          "Pozytywny",
          "Pozytywny",
          "Pozytywny",
          "Pozytywny",
          "Pozytywny",
          "Pozytywny",
          "Pozytywny",
          "Pozytywny",
          "Pozytywny",
          "Pozytywny",
          "Pozytywny",
          "Pozytywny",
          "Pozytywny",
          "Pozytywny",
          "Pozytywny",
          "Pozytywny",
          "Pozytywny",
          "Pozytywny",
          "Pozytywny",
          "Pozytywny",
          "Pozytywny",
          "Pozytywny",
          "Pozytywny",
          "Pozytywny",
          "Pozytywny",
          "Pozytywny",
          "Pozytywny",
          "Pozytywny",
          "Pozytywny",
          "Pozytywny",
          "Pozytywny",
          "Pozytywny",
          "Pozytywny",
          "Pozytywny",
          "Pozytywny",
          "Pozytywny",
          "Pozytywny",
          "Pozytywny",
          "Pozytywny",
          "Pozytywny",
          "Pozytywny",
          "Pozytywny",
          "Pozytywny",
          "Pozytywny",
          "Pozytywny",
          "Pozytywny",
          "Pozytywny",
          "Pozytywny",
          "Pozytywny",
          "Pozytywny",
          "Pozytywny",
          "Pozytywny",
          "Pozytywny",
          "Pozytywny",
          "Pozytywny",
          "Pozytywny",
          "Pozytywny",
          "Pozytywny",
          "Pozytywny",
          "Pozytywny",
          "Pozytywny",
          "Pozytywny",
          "Pozytywny",
          "Pozytywny",
          "Pozytywny",
          "Pozytywny",
          "Pozytywny",
          "Pozytywny",
          "Pozytywny",
          "Pozytywny",
          "Pozytywny",
          "Pozytywny",
          "Pozytywny",
          "Pozytywny",
          "Pozytywny",
          "Pozytywny",
          "Pozytywny",
          "Pozytywny",
          "Pozytywny",
          "Pozytywny",
          "Pozytywny",
          "Pozytywny",
          "Pozytywny",
          "Pozytywny",
          "Pozytywny",
          "Pozytywny",
          "Pozytywny",
          "Pozytywny",
          "Pozytywny",
          "Pozytywny",
          "Pozytywny",
          "Pozytywny",
          "Pozytywny",
          "Pozytywny",
          "Pozytywny",
          "Pozytywny",
          "Pozytywny",
          "Pozytywny",
          "Pozytywny",
          "Pozytywny",
          "Pozytywny",
          "Pozytywny",
          "Pozytywny",
          "Pozytywny",
          "Pozytywny",
          "Pozytywny",
          "Pozytywny",
          "Pozytywny",
          "Pozytywny",
          "Pozytywny",
          "Pozytywny",
          "Pozytywny",
          "Pozytywny",
          "Pozytywny",
          "Pozytywny",
          "Pozytywny",
          "Pozytywny",
          "Pozytywny",
          "Pozytywny",
          "Pozytywny",
          "Pozytywny",
          "Pozytywny",
          "Pozytywny",
          "Pozytywny",
          "Pozytywny",
          "Pozytywny",
          "Pozytywny",
          "Pozytywny",
          "Pozytywny",
          "Pozytywny",
          "Pozytywny",
          "Pozytywny",
          "Pozytywny",
          "Pozytywny",
          "Pozytywny",
          "Pozytywny",
          "Pozytywny",
          "Pozytywny",
          "Pozytywny",
          "Pozytywny",
          "Pozytywny",
          "Pozytywny",
          "Pozytywny",
          "Pozytywny",
          "Pozytywny",
          "Pozytywny",
          "Pozytywny",
          "Pozytywny",
          "Pozytywny",
          "Pozytywny",
          "Pozytywny",
          "Pozytywny",
          "Pozytywny",
          "Pozytywny",
          "Pozytywny",
          "Pozytywny",
          "Pozytywny",
          "Pozytywny",
          "Pozytywny",
          "Pozytywny",
          "Pozytywny",
          "Pozytywny",
          "Pozytywny",
          "Pozytywny",
          "Pozytywny",
          "Pozytywny",
          "Pozytywny",
          "Pozytywny",
          "Pozytywny",
          "Pozytywny",
          "Pozytywny",
          "Pozytywny",
          "Pozytywny",
          "Pozytywny",
          "Pozytywny",
          "Pozytywny",
          "Pozytywny",
          "Pozytywny",
          "Pozytywny",
          "Pozytywny",
          "Pozytywny",
          "Pozytywny",
          "Pozytywny",
          "Pozytywny",
          "Pozytywny",
          "Pozytywny",
          "Pozytywny",
          "Pozytywny",
          "Pozytywny",
          "Pozytywny",
          "Pozytywny",
          "Pozytywny",
          "Pozytywny",
          "Pozytywny",
          "Pozytywny",
          "Pozytywny",
          "Pozytywny",
          "Pozytywny",
          "Pozytywny",
          "Pozytywny",
          "Pozytywny",
          "Pozytywny",
          "Pozytywny",
          "Pozytywny",
          "Pozytywny",
          "Pozytywny",
          "Pozytywny",
          "Pozytywny",
          "Pozytywny",
          "Pozytywny",
          "Pozytywny",
          "Pozytywny",
          "Pozytywny",
          "Pozytywny",
          "Pozytywny",
          "Pozytywny",
          "Pozytywny",
          "Pozytywny",
          "Pozytywny",
          "Pozytywny",
          "Pozytywny",
          "Pozytywny",
          "Pozytywny",
          "Pozytywny",
          "Pozytywny",
          "Pozytywny",
          "Pozytywny",
          "Pozytywny",
          "Pozytywny",
          "Pozytywny",
          "Pozytywny",
          "Pozytywny",
          "Pozytywny",
          "Pozytywny",
          "Pozytywny",
          "Pozytywny",
          "Pozytywny",
          "Pozytywny",
          "Pozytywny",
          "Pozytywny",
          "Pozytywny",
          "Pozytywny",
          "Pozytywny",
          "Pozytywny",
          "Pozytywny",
          "Pozytywny",
          "Pozytywny",
          "Pozytywny",
          "Pozytywny",
          "Pozytywny",
          "Pozytywny",
          "Pozytywny",
          "Pozytywny",
          "Pozytywny",
          "Pozytywny",
          "Pozytywny",
          "Pozytywny",
          "Pozytywny",
          "Pozytywny",
          "Pozytywny",
          "Pozytywny",
          "Pozytywny",
          "Pozytywny",
          "Pozytywny",
          "Pozytywny",
          "Pozytywny",
          "Pozytywny",
          "Pozytywny",
          "Pozytywny",
          "Pozytywny",
          "Pozytywny",
          "Pozytywny",
          "Pozytywny",
          "Pozytywny",
          "Pozytywny",
          "Pozytywny",
          "Pozytywny",
          "Pozytywny",
          "Pozytywny",
          "Pozytywny",
          "Pozytywny"
         ],
         "xaxis": "x",
         "yaxis": "y"
        },
        {
         "alignmentgroup": "True",
         "bingroup": "x",
         "hovertemplate": "classification.overall_sentiment=%{x}<br>count=%{y}<extra></extra>",
         "legendgroup": "Raczej Pozytywny",
         "marker": {
          "color": "#482878",
          "pattern": {
           "shape": ""
          }
         },
         "name": "Raczej Pozytywny",
         "offsetgroup": "Raczej Pozytywny",
         "orientation": "v",
         "showlegend": true,
         "texttemplate": "%{value}",
         "type": "histogram",
         "x": [
          "Raczej Pozytywny",
          "Raczej Pozytywny",
          "Raczej Pozytywny",
          "Raczej Pozytywny",
          "Raczej Pozytywny",
          "Raczej Pozytywny",
          "Raczej Pozytywny",
          "Raczej Pozytywny",
          "Raczej Pozytywny",
          "Raczej Pozytywny",
          "Raczej Pozytywny",
          "Raczej Pozytywny",
          "Raczej Pozytywny",
          "Raczej Pozytywny",
          "Raczej Pozytywny",
          "Raczej Pozytywny",
          "Raczej Pozytywny",
          "Raczej Pozytywny",
          "Raczej Pozytywny",
          "Raczej Pozytywny",
          "Raczej Pozytywny",
          "Raczej Pozytywny",
          "Raczej Pozytywny",
          "Raczej Pozytywny",
          "Raczej Pozytywny",
          "Raczej Pozytywny",
          "Raczej Pozytywny",
          "Raczej Pozytywny",
          "Raczej Pozytywny",
          "Raczej Pozytywny",
          "Raczej Pozytywny",
          "Raczej Pozytywny",
          "Raczej Pozytywny",
          "Raczej Pozytywny",
          "Raczej Pozytywny"
         ],
         "xaxis": "x",
         "yaxis": "y"
        },
        {
         "alignmentgroup": "True",
         "bingroup": "x",
         "hovertemplate": "classification.overall_sentiment=%{x}<br>count=%{y}<extra></extra>",
         "legendgroup": "Neutralny",
         "marker": {
          "color": "#3e4989",
          "pattern": {
           "shape": ""
          }
         },
         "name": "Neutralny",
         "offsetgroup": "Neutralny",
         "orientation": "v",
         "showlegend": true,
         "texttemplate": "%{value}",
         "type": "histogram",
         "x": [
          "Neutralny"
         ],
         "xaxis": "x",
         "yaxis": "y"
        },
        {
         "alignmentgroup": "True",
         "bingroup": "x",
         "hovertemplate": "classification.overall_sentiment=%{x}<br>count=%{y}<extra></extra>",
         "legendgroup": "Sentymentalny",
         "marker": {
          "color": "#31688e",
          "pattern": {
           "shape": ""
          }
         },
         "name": "Sentymentalny",
         "offsetgroup": "Sentymentalny",
         "orientation": "v",
         "showlegend": true,
         "texttemplate": "%{value}",
         "type": "histogram",
         "x": [
          "Sentymentalny"
         ],
         "xaxis": "x",
         "yaxis": "y"
        }
       ],
       "layout": {
        "autosize": true,
        "barmode": "relative",
        "font": {
         "color": "black"
        },
        "height": 800,
        "legend": {
         "title": {
          "text": "classification.overall_sentiment"
         },
         "tracegroupgap": 0
        },
        "paper_bgcolor": "white",
        "plot_bgcolor": "white",
        "template": {
         "data": {
          "bar": [
           {
            "error_x": {
             "color": "#2a3f5f"
            },
            "error_y": {
             "color": "#2a3f5f"
            },
            "marker": {
             "line": {
              "color": "#E5ECF6",
              "width": 0.5
             },
             "pattern": {
              "fillmode": "overlay",
              "size": 10,
              "solidity": 0.2
             }
            },
            "type": "bar"
           }
          ],
          "barpolar": [
           {
            "marker": {
             "line": {
              "color": "#E5ECF6",
              "width": 0.5
             },
             "pattern": {
              "fillmode": "overlay",
              "size": 10,
              "solidity": 0.2
             }
            },
            "type": "barpolar"
           }
          ],
          "carpet": [
           {
            "aaxis": {
             "endlinecolor": "#2a3f5f",
             "gridcolor": "white",
             "linecolor": "white",
             "minorgridcolor": "white",
             "startlinecolor": "#2a3f5f"
            },
            "baxis": {
             "endlinecolor": "#2a3f5f",
             "gridcolor": "white",
             "linecolor": "white",
             "minorgridcolor": "white",
             "startlinecolor": "#2a3f5f"
            },
            "type": "carpet"
           }
          ],
          "choropleth": [
           {
            "colorbar": {
             "outlinewidth": 0,
             "ticks": ""
            },
            "type": "choropleth"
           }
          ],
          "contour": [
           {
            "colorbar": {
             "outlinewidth": 0,
             "ticks": ""
            },
            "colorscale": [
             [
              0,
              "#0d0887"
             ],
             [
              0.1111111111111111,
              "#46039f"
             ],
             [
              0.2222222222222222,
              "#7201a8"
             ],
             [
              0.3333333333333333,
              "#9c179e"
             ],
             [
              0.4444444444444444,
              "#bd3786"
             ],
             [
              0.5555555555555556,
              "#d8576b"
             ],
             [
              0.6666666666666666,
              "#ed7953"
             ],
             [
              0.7777777777777778,
              "#fb9f3a"
             ],
             [
              0.8888888888888888,
              "#fdca26"
             ],
             [
              1,
              "#f0f921"
             ]
            ],
            "type": "contour"
           }
          ],
          "contourcarpet": [
           {
            "colorbar": {
             "outlinewidth": 0,
             "ticks": ""
            },
            "type": "contourcarpet"
           }
          ],
          "heatmap": [
           {
            "colorbar": {
             "outlinewidth": 0,
             "ticks": ""
            },
            "colorscale": [
             [
              0,
              "#0d0887"
             ],
             [
              0.1111111111111111,
              "#46039f"
             ],
             [
              0.2222222222222222,
              "#7201a8"
             ],
             [
              0.3333333333333333,
              "#9c179e"
             ],
             [
              0.4444444444444444,
              "#bd3786"
             ],
             [
              0.5555555555555556,
              "#d8576b"
             ],
             [
              0.6666666666666666,
              "#ed7953"
             ],
             [
              0.7777777777777778,
              "#fb9f3a"
             ],
             [
              0.8888888888888888,
              "#fdca26"
             ],
             [
              1,
              "#f0f921"
             ]
            ],
            "type": "heatmap"
           }
          ],
          "heatmapgl": [
           {
            "colorbar": {
             "outlinewidth": 0,
             "ticks": ""
            },
            "colorscale": [
             [
              0,
              "#0d0887"
             ],
             [
              0.1111111111111111,
              "#46039f"
             ],
             [
              0.2222222222222222,
              "#7201a8"
             ],
             [
              0.3333333333333333,
              "#9c179e"
             ],
             [
              0.4444444444444444,
              "#bd3786"
             ],
             [
              0.5555555555555556,
              "#d8576b"
             ],
             [
              0.6666666666666666,
              "#ed7953"
             ],
             [
              0.7777777777777778,
              "#fb9f3a"
             ],
             [
              0.8888888888888888,
              "#fdca26"
             ],
             [
              1,
              "#f0f921"
             ]
            ],
            "type": "heatmapgl"
           }
          ],
          "histogram": [
           {
            "marker": {
             "pattern": {
              "fillmode": "overlay",
              "size": 10,
              "solidity": 0.2
             }
            },
            "type": "histogram"
           }
          ],
          "histogram2d": [
           {
            "colorbar": {
             "outlinewidth": 0,
             "ticks": ""
            },
            "colorscale": [
             [
              0,
              "#0d0887"
             ],
             [
              0.1111111111111111,
              "#46039f"
             ],
             [
              0.2222222222222222,
              "#7201a8"
             ],
             [
              0.3333333333333333,
              "#9c179e"
             ],
             [
              0.4444444444444444,
              "#bd3786"
             ],
             [
              0.5555555555555556,
              "#d8576b"
             ],
             [
              0.6666666666666666,
              "#ed7953"
             ],
             [
              0.7777777777777778,
              "#fb9f3a"
             ],
             [
              0.8888888888888888,
              "#fdca26"
             ],
             [
              1,
              "#f0f921"
             ]
            ],
            "type": "histogram2d"
           }
          ],
          "histogram2dcontour": [
           {
            "colorbar": {
             "outlinewidth": 0,
             "ticks": ""
            },
            "colorscale": [
             [
              0,
              "#0d0887"
             ],
             [
              0.1111111111111111,
              "#46039f"
             ],
             [
              0.2222222222222222,
              "#7201a8"
             ],
             [
              0.3333333333333333,
              "#9c179e"
             ],
             [
              0.4444444444444444,
              "#bd3786"
             ],
             [
              0.5555555555555556,
              "#d8576b"
             ],
             [
              0.6666666666666666,
              "#ed7953"
             ],
             [
              0.7777777777777778,
              "#fb9f3a"
             ],
             [
              0.8888888888888888,
              "#fdca26"
             ],
             [
              1,
              "#f0f921"
             ]
            ],
            "type": "histogram2dcontour"
           }
          ],
          "mesh3d": [
           {
            "colorbar": {
             "outlinewidth": 0,
             "ticks": ""
            },
            "type": "mesh3d"
           }
          ],
          "parcoords": [
           {
            "line": {
             "colorbar": {
              "outlinewidth": 0,
              "ticks": ""
             }
            },
            "type": "parcoords"
           }
          ],
          "pie": [
           {
            "automargin": true,
            "type": "pie"
           }
          ],
          "scatter": [
           {
            "fillpattern": {
             "fillmode": "overlay",
             "size": 10,
             "solidity": 0.2
            },
            "type": "scatter"
           }
          ],
          "scatter3d": [
           {
            "line": {
             "colorbar": {
              "outlinewidth": 0,
              "ticks": ""
             }
            },
            "marker": {
             "colorbar": {
              "outlinewidth": 0,
              "ticks": ""
             }
            },
            "type": "scatter3d"
           }
          ],
          "scattercarpet": [
           {
            "marker": {
             "colorbar": {
              "outlinewidth": 0,
              "ticks": ""
             }
            },
            "type": "scattercarpet"
           }
          ],
          "scattergeo": [
           {
            "marker": {
             "colorbar": {
              "outlinewidth": 0,
              "ticks": ""
             }
            },
            "type": "scattergeo"
           }
          ],
          "scattergl": [
           {
            "marker": {
             "colorbar": {
              "outlinewidth": 0,
              "ticks": ""
             }
            },
            "type": "scattergl"
           }
          ],
          "scattermapbox": [
           {
            "marker": {
             "colorbar": {
              "outlinewidth": 0,
              "ticks": ""
             }
            },
            "type": "scattermapbox"
           }
          ],
          "scatterpolar": [
           {
            "marker": {
             "colorbar": {
              "outlinewidth": 0,
              "ticks": ""
             }
            },
            "type": "scatterpolar"
           }
          ],
          "scatterpolargl": [
           {
            "marker": {
             "colorbar": {
              "outlinewidth": 0,
              "ticks": ""
             }
            },
            "type": "scatterpolargl"
           }
          ],
          "scatterternary": [
           {
            "marker": {
             "colorbar": {
              "outlinewidth": 0,
              "ticks": ""
             }
            },
            "type": "scatterternary"
           }
          ],
          "surface": [
           {
            "colorbar": {
             "outlinewidth": 0,
             "ticks": ""
            },
            "colorscale": [
             [
              0,
              "#0d0887"
             ],
             [
              0.1111111111111111,
              "#46039f"
             ],
             [
              0.2222222222222222,
              "#7201a8"
             ],
             [
              0.3333333333333333,
              "#9c179e"
             ],
             [
              0.4444444444444444,
              "#bd3786"
             ],
             [
              0.5555555555555556,
              "#d8576b"
             ],
             [
              0.6666666666666666,
              "#ed7953"
             ],
             [
              0.7777777777777778,
              "#fb9f3a"
             ],
             [
              0.8888888888888888,
              "#fdca26"
             ],
             [
              1,
              "#f0f921"
             ]
            ],
            "type": "surface"
           }
          ],
          "table": [
           {
            "cells": {
             "fill": {
              "color": "#EBF0F8"
             },
             "line": {
              "color": "white"
             }
            },
            "header": {
             "fill": {
              "color": "#C8D4E3"
             },
             "line": {
              "color": "white"
             }
            },
            "type": "table"
           }
          ]
         },
         "layout": {
          "annotationdefaults": {
           "arrowcolor": "#2a3f5f",
           "arrowhead": 0,
           "arrowwidth": 1
          },
          "autotypenumbers": "strict",
          "coloraxis": {
           "colorbar": {
            "outlinewidth": 0,
            "ticks": ""
           }
          },
          "colorscale": {
           "diverging": [
            [
             0,
             "#8e0152"
            ],
            [
             0.1,
             "#c51b7d"
            ],
            [
             0.2,
             "#de77ae"
            ],
            [
             0.3,
             "#f1b6da"
            ],
            [
             0.4,
             "#fde0ef"
            ],
            [
             0.5,
             "#f7f7f7"
            ],
            [
             0.6,
             "#e6f5d0"
            ],
            [
             0.7,
             "#b8e186"
            ],
            [
             0.8,
             "#7fbc41"
            ],
            [
             0.9,
             "#4d9221"
            ],
            [
             1,
             "#276419"
            ]
           ],
           "sequential": [
            [
             0,
             "#0d0887"
            ],
            [
             0.1111111111111111,
             "#46039f"
            ],
            [
             0.2222222222222222,
             "#7201a8"
            ],
            [
             0.3333333333333333,
             "#9c179e"
            ],
            [
             0.4444444444444444,
             "#bd3786"
            ],
            [
             0.5555555555555556,
             "#d8576b"
            ],
            [
             0.6666666666666666,
             "#ed7953"
            ],
            [
             0.7777777777777778,
             "#fb9f3a"
            ],
            [
             0.8888888888888888,
             "#fdca26"
            ],
            [
             1,
             "#f0f921"
            ]
           ],
           "sequentialminus": [
            [
             0,
             "#0d0887"
            ],
            [
             0.1111111111111111,
             "#46039f"
            ],
            [
             0.2222222222222222,
             "#7201a8"
            ],
            [
             0.3333333333333333,
             "#9c179e"
            ],
            [
             0.4444444444444444,
             "#bd3786"
            ],
            [
             0.5555555555555556,
             "#d8576b"
            ],
            [
             0.6666666666666666,
             "#ed7953"
            ],
            [
             0.7777777777777778,
             "#fb9f3a"
            ],
            [
             0.8888888888888888,
             "#fdca26"
            ],
            [
             1,
             "#f0f921"
            ]
           ]
          },
          "colorway": [
           "#636efa",
           "#EF553B",
           "#00cc96",
           "#ab63fa",
           "#FFA15A",
           "#19d3f3",
           "#FF6692",
           "#B6E880",
           "#FF97FF",
           "#FECB52"
          ],
          "font": {
           "color": "#2a3f5f"
          },
          "geo": {
           "bgcolor": "white",
           "lakecolor": "white",
           "landcolor": "#E5ECF6",
           "showlakes": true,
           "showland": true,
           "subunitcolor": "white"
          },
          "hoverlabel": {
           "align": "left"
          },
          "hovermode": "closest",
          "mapbox": {
           "style": "light"
          },
          "paper_bgcolor": "white",
          "plot_bgcolor": "#E5ECF6",
          "polar": {
           "angularaxis": {
            "gridcolor": "white",
            "linecolor": "white",
            "ticks": ""
           },
           "bgcolor": "#E5ECF6",
           "radialaxis": {
            "gridcolor": "white",
            "linecolor": "white",
            "ticks": ""
           }
          },
          "scene": {
           "xaxis": {
            "backgroundcolor": "#E5ECF6",
            "gridcolor": "white",
            "gridwidth": 2,
            "linecolor": "white",
            "showbackground": true,
            "ticks": "",
            "zerolinecolor": "white"
           },
           "yaxis": {
            "backgroundcolor": "#E5ECF6",
            "gridcolor": "white",
            "gridwidth": 2,
            "linecolor": "white",
            "showbackground": true,
            "ticks": "",
            "zerolinecolor": "white"
           },
           "zaxis": {
            "backgroundcolor": "#E5ECF6",
            "gridcolor": "white",
            "gridwidth": 2,
            "linecolor": "white",
            "showbackground": true,
            "ticks": "",
            "zerolinecolor": "white"
           }
          },
          "shapedefaults": {
           "line": {
            "color": "#2a3f5f"
           }
          },
          "ternary": {
           "aaxis": {
            "gridcolor": "white",
            "linecolor": "white",
            "ticks": ""
           },
           "baxis": {
            "gridcolor": "white",
            "linecolor": "white",
            "ticks": ""
           },
           "bgcolor": "#E5ECF6",
           "caxis": {
            "gridcolor": "white",
            "linecolor": "white",
            "ticks": ""
           }
          },
          "title": {
           "x": 0.05
          },
          "xaxis": {
           "automargin": true,
           "gridcolor": "white",
           "linecolor": "white",
           "ticks": "",
           "title": {
            "standoff": 15
           },
           "zerolinecolor": "white",
           "zerolinewidth": 2
          },
          "yaxis": {
           "automargin": true,
           "gridcolor": "white",
           "linecolor": "white",
           "ticks": "",
           "title": {
            "standoff": 15
           },
           "zerolinecolor": "white",
           "zerolinewidth": 2
          }
         }
        },
        "title": {
         "font": {
          "color": "black",
          "family": "Arial",
          "size": 20
         },
         "text": "classification.overall_sentiment"
        },
        "width": 1200,
        "xaxis": {
         "anchor": "y",
         "autorange": true,
         "categoryarray": [
          "Pozytywny",
          "Raczej Pozytywny",
          "Neutralny",
          "Sentymentalny"
         ],
         "categoryorder": "array",
         "domain": [
          0,
          1
         ],
         "gridcolor": "lightgray",
         "gridwidth": 0.5,
         "range": [
          -0.5,
          3.5
         ],
         "showgrid": true,
         "title": {
          "text": "Ogólny Ton Nagrania"
         },
         "type": "category"
        },
        "yaxis": {
         "anchor": "x",
         "autorange": true,
         "domain": [
          0,
          1
         ],
         "gridcolor": "lightgray",
         "gridwidth": 0.5,
         "range": [
          0,
          516.8421052631579
         ],
         "showgrid": true,
         "title": {
          "text": "Liczba Nagrań"
         }
        }
       }
      },
      "image/png": "[encoded data removed]",
      "text/html": [
       "<div>                            <div id=\"ed1d0a33-52b2-4a6c-ad9a-f343888fb92e\" class=\"plotly-graph-div\" style=\"height:800px; width:1200px;\"></div>            <script type=\"text/javascript\">                require([\"plotly\"], function(Plotly) {                    window.PLOTLYENV=window.PLOTLYENV || {};                                    if (document.getElementById(\"ed1d0a33-52b2-4a6c-ad9a-f343888fb92e\")) {                    Plotly.newPlot(                        \"ed1d0a33-52b2-4a6c-ad9a-f343888fb92e\",                        [{\"alignmentgroup\":\"True\",\"bingroup\":\"x\",\"hovertemplate\":\"classification.overall_sentiment=%{x}\\u003cbr\\u003ecount=%{y}\\u003cextra\\u003e\\u003c\\u002fextra\\u003e\",\"legendgroup\":\"Pozytywny\",\"marker\":{\"color\":\"#440154\",\"pattern\":{\"shape\":\"\"}},\"name\":\"Pozytywny\",\"offsetgroup\":\"Pozytywny\",\"orientation\":\"v\",\"showlegend\":true,\"texttemplate\":\"%{value}\",\"x\":[\"Pozytywny\",\"Pozytywny\",\"Pozytywny\",\"Pozytywny\",\"Pozytywny\",\"Pozytywny\",\"Pozytywny\",\"Pozytywny\",\"Pozytywny\",\"Pozytywny\",\"Pozytywny\",\"Pozytywny\",\"Pozytywny\",\"Pozytywny\",\"Pozytywny\",\"Pozytywny\",\"Pozytywny\",\"Pozytywny\",\"Pozytywny\",\"Pozytywny\",\"Pozytywny\",\"Pozytywny\",\"Pozytywny\",\"Pozytywny\",\"Pozytywny\",\"Pozytywny\",\"Pozytywny\",\"Pozytywny\",\"Pozytywny\",\"Pozytywny\",\"Pozytywny\",\"Pozytywny\",\"Pozytywny\",\"Pozytywny\",\"Pozytywny\",\"Pozytywny\",\"Pozytywny\",\"Pozytywny\",\"Pozytywny\",\"Pozytywny\",\"Pozytywny\",\"Pozytywny\",\"Pozytywny\",\"Pozytywny\",\"Pozytywny\",\"Pozytywny\",\"Pozytywny\",\"Pozytywny\",\"Pozytywny\",\"Pozytywny\",\"Pozytywny\",\"Pozytywny\",\"Pozytywny\",\"Pozytywny\",\"Pozytywny\",\"Pozytywny\",\"Pozytywny\",\"Pozytywny\",\"Pozytywny\",\"Pozytywny\",\"Pozytywny\",\"Pozytywny\",\"Pozytywny\",\"Pozytywny\",\"Pozytywny\",\"Pozytywny\",\"Pozytywny\",\"Pozytywny\",\"Pozytywny\",\"Pozytywny\",\"Pozytywny\",\"Pozytywny\",\"Pozytywny\",\"Pozytywny\",\"Pozytywny\",\"Pozytywny\",\"Pozytywny\",\"Pozytywny\",\"Pozytywny\",\"Pozytywny\",\"Pozytywny\",\"Pozytywny\",\"Pozytywny\",\"Pozytywny\",\"Pozytywny\",\"Pozytywny\",\"Pozytywny\",\"Pozytywny\",\"Pozytywny\",\"Pozytywny\",\"Pozytywny\",\"Pozytywny\",\"Pozytywny\",\"Pozytywny\",\"Pozytywny\",\"Pozytywny\",\"Pozytywny\",\"Pozytywny\",\"Pozytywny\",\"Pozytywny\",\"Pozytywny\",\"Pozytywny\",\"Pozytywny\",\"Pozytywny\",\"Pozytywny\",\"Pozytywny\",\"Pozytywny\",\"Pozytywny\",\"Pozytywny\",\"Pozytywny\",\"Pozytywny\",\"Pozytywny\",\"Pozytywny\",\"Pozytywny\",\"Pozytywny\",\"Pozytywny\",\"Pozytywny\",\"Pozytywny\",\"Pozytywny\",\"Pozytywny\",\"Pozytywny\",\"Pozytywny\",\"Pozytywny\",\"Pozytywny\",\"Pozytywny\",\"Pozytywny\",\"Pozytywny\",\"Pozytywny\",\"Pozytywny\",\"Pozytywny\",\"Pozytywny\",\"Pozytywny\",\"Pozytywny\",\"Pozytywny\",\"Pozytywny\",\"Pozytywny\",\"Pozytywny\",\"Pozytywny\",\"Pozytywny\",\"Pozytywny\",\"Pozytywny\",\"Pozytywny\",\"Pozytywny\",\"Pozytywny\",\"Pozytywny\",\"Pozytywny\",\"Pozytywny\",\"Pozytywny\",\"Pozytywny\",\"Pozytywny\",\"Pozytywny\",\"Pozytywny\",\"Pozytywny\",\"Pozytywny\",\"Pozytywny\",\"Pozytywny\",\"Pozytywny\",\"Pozytywny\",\"Pozytywny\",\"Pozytywny\",\"Pozytywny\",\"Pozytywny\",\"Pozytywny\",\"Pozytywny\",\"Pozytywny\",\"Pozytywny\",\"Pozytywny\",\"Pozytywny\",\"Pozytywny\",\"Pozytywny\",\"Pozytywny\",\"Pozytywny\",\"Pozytywny\",\"Pozytywny\",\"Pozytywny\",\"Pozytywny\",\"Pozytywny\",\"Pozytywny\",\"Pozytywny\",\"Pozytywny\",\"Pozytywny\",\"Pozytywny\",\"Pozytywny\",\"Pozytywny\",\"Pozytywny\",\"Pozytywny\",\"Pozytywny\",\"Pozytywny\",\"Pozytywny\",\"Pozytywny\",\"Pozytywny\",\"Pozytywny\",\"Pozytywny\",\"Pozytywny\",\"Pozytywny\",\"Pozytywny\",\"Pozytywny\",\"Pozytywny\",\"Pozytywny\",\"Pozytywny\",\"Pozytywny\",\"Pozytywny\",\"Pozytywny\",\"Pozytywny\",\"Pozytywny\",\"Pozytywny\",\"Pozytywny\",\"Pozytywny\",\"Pozytywny\",\"Pozytywny\",\"Pozytywny\",\"Pozytywny\",\"Pozytywny\",\"Pozytywny\",\"Pozytywny\",\"Pozytywny\",\"Pozytywny\",\"Pozytywny\",\"Pozytywny\",\"Pozytywny\",\"Pozytywny\",\"Pozytywny\",\"Pozytywny\",\"Pozytywny\",\"Pozytywny\",\"Pozytywny\",\"Pozytywny\",\"Pozytywny\",\"Pozytywny\",\"Pozytywny\",\"Pozytywny\",\"Pozytywny\",\"Pozytywny\",\"Pozytywny\",\"Pozytywny\",\"Pozytywny\",\"Pozytywny\",\"Pozytywny\",\"Pozytywny\",\"Pozytywny\",\"Pozytywny\",\"Pozytywny\",\"Pozytywny\",\"Pozytywny\",\"Pozytywny\",\"Pozytywny\",\"Pozytywny\",\"Pozytywny\",\"Pozytywny\",\"Pozytywny\",\"Pozytywny\",\"Pozytywny\",\"Pozytywny\",\"Pozytywny\",\"Pozytywny\",\"Pozytywny\",\"Pozytywny\",\"Pozytywny\",\"Pozytywny\",\"Pozytywny\",\"Pozytywny\",\"Pozytywny\",\"Pozytywny\",\"Pozytywny\",\"Pozytywny\",\"Pozytywny\",\"Pozytywny\",\"Pozytywny\",\"Pozytywny\",\"Pozytywny\",\"Pozytywny\",\"Pozytywny\",\"Pozytywny\",\"Pozytywny\",\"Pozytywny\",\"Pozytywny\",\"Pozytywny\",\"Pozytywny\",\"Pozytywny\",\"Pozytywny\",\"Pozytywny\",\"Pozytywny\",\"Pozytywny\",\"Pozytywny\",\"Pozytywny\",\"Pozytywny\",\"Pozytywny\",\"Pozytywny\",\"Pozytywny\",\"Pozytywny\",\"Pozytywny\",\"Pozytywny\",\"Pozytywny\",\"Pozytywny\",\"Pozytywny\",\"Pozytywny\",\"Pozytywny\",\"Pozytywny\",\"Pozytywny\",\"Pozytywny\",\"Pozytywny\",\"Pozytywny\",\"Pozytywny\",\"Pozytywny\",\"Pozytywny\",\"Pozytywny\",\"Pozytywny\",\"Pozytywny\",\"Pozytywny\",\"Pozytywny\",\"Pozytywny\",\"Pozytywny\",\"Pozytywny\",\"Pozytywny\",\"Pozytywny\",\"Pozytywny\",\"Pozytywny\",\"Pozytywny\",\"Pozytywny\",\"Pozytywny\",\"Pozytywny\",\"Pozytywny\",\"Pozytywny\",\"Pozytywny\",\"Pozytywny\",\"Pozytywny\",\"Pozytywny\",\"Pozytywny\",\"Pozytywny\",\"Pozytywny\",\"Pozytywny\",\"Pozytywny\",\"Pozytywny\",\"Pozytywny\",\"Pozytywny\",\"Pozytywny\",\"Pozytywny\",\"Pozytywny\",\"Pozytywny\",\"Pozytywny\",\"Pozytywny\",\"Pozytywny\",\"Pozytywny\",\"Pozytywny\",\"Pozytywny\",\"Pozytywny\",\"Pozytywny\",\"Pozytywny\",\"Pozytywny\",\"Pozytywny\",\"Pozytywny\",\"Pozytywny\",\"Pozytywny\",\"Pozytywny\",\"Pozytywny\",\"Pozytywny\",\"Pozytywny\",\"Pozytywny\",\"Pozytywny\",\"Pozytywny\",\"Pozytywny\",\"Pozytywny\",\"Pozytywny\",\"Pozytywny\",\"Pozytywny\",\"Pozytywny\",\"Pozytywny\",\"Pozytywny\",\"Pozytywny\",\"Pozytywny\",\"Pozytywny\",\"Pozytywny\",\"Pozytywny\",\"Pozytywny\",\"Pozytywny\",\"Pozytywny\",\"Pozytywny\",\"Pozytywny\",\"Pozytywny\",\"Pozytywny\",\"Pozytywny\",\"Pozytywny\",\"Pozytywny\",\"Pozytywny\",\"Pozytywny\",\"Pozytywny\",\"Pozytywny\",\"Pozytywny\",\"Pozytywny\",\"Pozytywny\",\"Pozytywny\",\"Pozytywny\",\"Pozytywny\",\"Pozytywny\",\"Pozytywny\",\"Pozytywny\",\"Pozytywny\",\"Pozytywny\",\"Pozytywny\",\"Pozytywny\",\"Pozytywny\",\"Pozytywny\",\"Pozytywny\",\"Pozytywny\",\"Pozytywny\",\"Pozytywny\",\"Pozytywny\",\"Pozytywny\",\"Pozytywny\",\"Pozytywny\",\"Pozytywny\",\"Pozytywny\",\"Pozytywny\",\"Pozytywny\",\"Pozytywny\",\"Pozytywny\",\"Pozytywny\",\"Pozytywny\",\"Pozytywny\",\"Pozytywny\",\"Pozytywny\",\"Pozytywny\",\"Pozytywny\",\"Pozytywny\",\"Pozytywny\",\"Pozytywny\",\"Pozytywny\",\"Pozytywny\",\"Pozytywny\",\"Pozytywny\",\"Pozytywny\",\"Pozytywny\",\"Pozytywny\",\"Pozytywny\",\"Pozytywny\",\"Pozytywny\",\"Pozytywny\",\"Pozytywny\",\"Pozytywny\",\"Pozytywny\",\"Pozytywny\",\"Pozytywny\",\"Pozytywny\",\"Pozytywny\",\"Pozytywny\",\"Pozytywny\",\"Pozytywny\",\"Pozytywny\",\"Pozytywny\",\"Pozytywny\",\"Pozytywny\",\"Pozytywny\",\"Pozytywny\",\"Pozytywny\",\"Pozytywny\",\"Pozytywny\",\"Pozytywny\",\"Pozytywny\",\"Pozytywny\",\"Pozytywny\",\"Pozytywny\",\"Pozytywny\",\"Pozytywny\",\"Pozytywny\",\"Pozytywny\",\"Pozytywny\",\"Pozytywny\",\"Pozytywny\",\"Pozytywny\",\"Pozytywny\",\"Pozytywny\",\"Pozytywny\",\"Pozytywny\",\"Pozytywny\",\"Pozytywny\",\"Pozytywny\",\"Pozytywny\",\"Pozytywny\",\"Pozytywny\",\"Pozytywny\",\"Pozytywny\",\"Pozytywny\",\"Pozytywny\",\"Pozytywny\",\"Pozytywny\",\"Pozytywny\",\"Pozytywny\",\"Pozytywny\",\"Pozytywny\",\"Pozytywny\",\"Pozytywny\"],\"xaxis\":\"x\",\"yaxis\":\"y\",\"type\":\"histogram\"},{\"alignmentgroup\":\"True\",\"bingroup\":\"x\",\"hovertemplate\":\"classification.overall_sentiment=%{x}\\u003cbr\\u003ecount=%{y}\\u003cextra\\u003e\\u003c\\u002fextra\\u003e\",\"legendgroup\":\"Raczej Pozytywny\",\"marker\":{\"color\":\"#482878\",\"pattern\":{\"shape\":\"\"}},\"name\":\"Raczej Pozytywny\",\"offsetgroup\":\"Raczej Pozytywny\",\"orientation\":\"v\",\"showlegend\":true,\"texttemplate\":\"%{value}\",\"x\":[\"Raczej Pozytywny\",\"Raczej Pozytywny\",\"Raczej Pozytywny\",\"Raczej Pozytywny\",\"Raczej Pozytywny\",\"Raczej Pozytywny\",\"Raczej Pozytywny\",\"Raczej Pozytywny\",\"Raczej Pozytywny\",\"Raczej Pozytywny\",\"Raczej Pozytywny\",\"Raczej Pozytywny\",\"Raczej Pozytywny\",\"Raczej Pozytywny\",\"Raczej Pozytywny\",\"Raczej Pozytywny\",\"Raczej Pozytywny\",\"Raczej Pozytywny\",\"Raczej Pozytywny\",\"Raczej Pozytywny\",\"Raczej Pozytywny\",\"Raczej Pozytywny\",\"Raczej Pozytywny\",\"Raczej Pozytywny\",\"Raczej Pozytywny\",\"Raczej Pozytywny\",\"Raczej Pozytywny\",\"Raczej Pozytywny\",\"Raczej Pozytywny\",\"Raczej Pozytywny\",\"Raczej Pozytywny\",\"Raczej Pozytywny\",\"Raczej Pozytywny\",\"Raczej Pozytywny\",\"Raczej Pozytywny\"],\"xaxis\":\"x\",\"yaxis\":\"y\",\"type\":\"histogram\"},{\"alignmentgroup\":\"True\",\"bingroup\":\"x\",\"hovertemplate\":\"classification.overall_sentiment=%{x}\\u003cbr\\u003ecount=%{y}\\u003cextra\\u003e\\u003c\\u002fextra\\u003e\",\"legendgroup\":\"Neutralny\",\"marker\":{\"color\":\"#3e4989\",\"pattern\":{\"shape\":\"\"}},\"name\":\"Neutralny\",\"offsetgroup\":\"Neutralny\",\"orientation\":\"v\",\"showlegend\":true,\"texttemplate\":\"%{value}\",\"x\":[\"Neutralny\"],\"xaxis\":\"x\",\"yaxis\":\"y\",\"type\":\"histogram\"},{\"alignmentgroup\":\"True\",\"bingroup\":\"x\",\"hovertemplate\":\"classification.overall_sentiment=%{x}\\u003cbr\\u003ecount=%{y}\\u003cextra\\u003e\\u003c\\u002fextra\\u003e\",\"legendgroup\":\"Sentymentalny\",\"marker\":{\"color\":\"#31688e\",\"pattern\":{\"shape\":\"\"}},\"name\":\"Sentymentalny\",\"offsetgroup\":\"Sentymentalny\",\"orientation\":\"v\",\"showlegend\":true,\"texttemplate\":\"%{value}\",\"x\":[\"Sentymentalny\"],\"xaxis\":\"x\",\"yaxis\":\"y\",\"type\":\"histogram\"}],                        {\"template\":{\"data\":{\"histogram2dcontour\":[{\"type\":\"histogram2dcontour\",\"colorbar\":{\"outlinewidth\":0,\"ticks\":\"\"},\"colorscale\":[[0.0,\"#0d0887\"],[0.1111111111111111,\"#46039f\"],[0.2222222222222222,\"#7201a8\"],[0.3333333333333333,\"#9c179e\"],[0.4444444444444444,\"#bd3786\"],[0.5555555555555556,\"#d8576b\"],[0.6666666666666666,\"#ed7953\"],[0.7777777777777778,\"#fb9f3a\"],[0.8888888888888888,\"#fdca26\"],[1.0,\"#f0f921\"]]}],\"choropleth\":[{\"type\":\"choropleth\",\"colorbar\":{\"outlinewidth\":0,\"ticks\":\"\"}}],\"histogram2d\":[{\"type\":\"histogram2d\",\"colorbar\":{\"outlinewidth\":0,\"ticks\":\"\"},\"colorscale\":[[0.0,\"#0d0887\"],[0.1111111111111111,\"#46039f\"],[0.2222222222222222,\"#7201a8\"],[0.3333333333333333,\"#9c179e\"],[0.4444444444444444,\"#bd3786\"],[0.5555555555555556,\"#d8576b\"],[0.6666666666666666,\"#ed7953\"],[0.7777777777777778,\"#fb9f3a\"],[0.8888888888888888,\"#fdca26\"],[1.0,\"#f0f921\"]]}],\"heatmap\":[{\"type\":\"heatmap\",\"colorbar\":{\"outlinewidth\":0,\"ticks\":\"\"},\"colorscale\":[[0.0,\"#0d0887\"],[0.1111111111111111,\"#46039f\"],[0.2222222222222222,\"#7201a8\"],[0.3333333333333333,\"#9c179e\"],[0.4444444444444444,\"#bd3786\"],[0.5555555555555556,\"#d8576b\"],[0.6666666666666666,\"#ed7953\"],[0.7777777777777778,\"#fb9f3a\"],[0.8888888888888888,\"#fdca26\"],[1.0,\"#f0f921\"]]}],\"heatmapgl\":[{\"type\":\"heatmapgl\",\"colorbar\":{\"outlinewidth\":0,\"ticks\":\"\"},\"colorscale\":[[0.0,\"#0d0887\"],[0.1111111111111111,\"#46039f\"],[0.2222222222222222,\"#7201a8\"],[0.3333333333333333,\"#9c179e\"],[0.4444444444444444,\"#bd3786\"],[0.5555555555555556,\"#d8576b\"],[0.6666666666666666,\"#ed7953\"],[0.7777777777777778,\"#fb9f3a\"],[0.8888888888888888,\"#fdca26\"],[1.0,\"#f0f921\"]]}],\"contourcarpet\":[{\"type\":\"contourcarpet\",\"colorbar\":{\"outlinewidth\":0,\"ticks\":\"\"}}],\"contour\":[{\"type\":\"contour\",\"colorbar\":{\"outlinewidth\":0,\"ticks\":\"\"},\"colorscale\":[[0.0,\"#0d0887\"],[0.1111111111111111,\"#46039f\"],[0.2222222222222222,\"#7201a8\"],[0.3333333333333333,\"#9c179e\"],[0.4444444444444444,\"#bd3786\"],[0.5555555555555556,\"#d8576b\"],[0.6666666666666666,\"#ed7953\"],[0.7777777777777778,\"#fb9f3a\"],[0.8888888888888888,\"#fdca26\"],[1.0,\"#f0f921\"]]}],\"surface\":[{\"type\":\"surface\",\"colorbar\":{\"outlinewidth\":0,\"ticks\":\"\"},\"colorscale\":[[0.0,\"#0d0887\"],[0.1111111111111111,\"#46039f\"],[0.2222222222222222,\"#7201a8\"],[0.3333333333333333,\"#9c179e\"],[0.4444444444444444,\"#bd3786\"],[0.5555555555555556,\"#d8576b\"],[0.6666666666666666,\"#ed7953\"],[0.7777777777777778,\"#fb9f3a\"],[0.8888888888888888,\"#fdca26\"],[1.0,\"#f0f921\"]]}],\"mesh3d\":[{\"type\":\"mesh3d\",\"colorbar\":{\"outlinewidth\":0,\"ticks\":\"\"}}],\"scatter\":[{\"fillpattern\":{\"fillmode\":\"overlay\",\"size\":10,\"solidity\":0.2},\"type\":\"scatter\"}],\"parcoords\":[{\"type\":\"parcoords\",\"line\":{\"colorbar\":{\"outlinewidth\":0,\"ticks\":\"\"}}}],\"scatterpolargl\":[{\"type\":\"scatterpolargl\",\"marker\":{\"colorbar\":{\"outlinewidth\":0,\"ticks\":\"\"}}}],\"bar\":[{\"error_x\":{\"color\":\"#2a3f5f\"},\"error_y\":{\"color\":\"#2a3f5f\"},\"marker\":{\"line\":{\"color\":\"#E5ECF6\",\"width\":0.5},\"pattern\":{\"fillmode\":\"overlay\",\"size\":10,\"solidity\":0.2}},\"type\":\"bar\"}],\"scattergeo\":[{\"type\":\"scattergeo\",\"marker\":{\"colorbar\":{\"outlinewidth\":0,\"ticks\":\"\"}}}],\"scatterpolar\":[{\"type\":\"scatterpolar\",\"marker\":{\"colorbar\":{\"outlinewidth\":0,\"ticks\":\"\"}}}],\"histogram\":[{\"marker\":{\"pattern\":{\"fillmode\":\"overlay\",\"size\":10,\"solidity\":0.2}},\"type\":\"histogram\"}],\"scattergl\":[{\"type\":\"scattergl\",\"marker\":{\"colorbar\":{\"outlinewidth\":0,\"ticks\":\"\"}}}],\"scatter3d\":[{\"type\":\"scatter3d\",\"line\":{\"colorbar\":{\"outlinewidth\":0,\"ticks\":\"\"}},\"marker\":{\"colorbar\":{\"outlinewidth\":0,\"ticks\":\"\"}}}],\"scattermapbox\":[{\"type\":\"scattermapbox\",\"marker\":{\"colorbar\":{\"outlinewidth\":0,\"ticks\":\"\"}}}],\"scatterternary\":[{\"type\":\"scatterternary\",\"marker\":{\"colorbar\":{\"outlinewidth\":0,\"ticks\":\"\"}}}],\"scattercarpet\":[{\"type\":\"scattercarpet\",\"marker\":{\"colorbar\":{\"outlinewidth\":0,\"ticks\":\"\"}}}],\"carpet\":[{\"aaxis\":{\"endlinecolor\":\"#2a3f5f\",\"gridcolor\":\"white\",\"linecolor\":\"white\",\"minorgridcolor\":\"white\",\"startlinecolor\":\"#2a3f5f\"},\"baxis\":{\"endlinecolor\":\"#2a3f5f\",\"gridcolor\":\"white\",\"linecolor\":\"white\",\"minorgridcolor\":\"white\",\"startlinecolor\":\"#2a3f5f\"},\"type\":\"carpet\"}],\"table\":[{\"cells\":{\"fill\":{\"color\":\"#EBF0F8\"},\"line\":{\"color\":\"white\"}},\"header\":{\"fill\":{\"color\":\"#C8D4E3\"},\"line\":{\"color\":\"white\"}},\"type\":\"table\"}],\"barpolar\":[{\"marker\":{\"line\":{\"color\":\"#E5ECF6\",\"width\":0.5},\"pattern\":{\"fillmode\":\"overlay\",\"size\":10,\"solidity\":0.2}},\"type\":\"barpolar\"}],\"pie\":[{\"automargin\":true,\"type\":\"pie\"}]},\"layout\":{\"autotypenumbers\":\"strict\",\"colorway\":[\"#636efa\",\"#EF553B\",\"#00cc96\",\"#ab63fa\",\"#FFA15A\",\"#19d3f3\",\"#FF6692\",\"#B6E880\",\"#FF97FF\",\"#FECB52\"],\"font\":{\"color\":\"#2a3f5f\"},\"hovermode\":\"closest\",\"hoverlabel\":{\"align\":\"left\"},\"paper_bgcolor\":\"white\",\"plot_bgcolor\":\"#E5ECF6\",\"polar\":{\"bgcolor\":\"#E5ECF6\",\"angularaxis\":{\"gridcolor\":\"white\",\"linecolor\":\"white\",\"ticks\":\"\"},\"radialaxis\":{\"gridcolor\":\"white\",\"linecolor\":\"white\",\"ticks\":\"\"}},\"ternary\":{\"bgcolor\":\"#E5ECF6\",\"aaxis\":{\"gridcolor\":\"white\",\"linecolor\":\"white\",\"ticks\":\"\"},\"baxis\":{\"gridcolor\":\"white\",\"linecolor\":\"white\",\"ticks\":\"\"},\"caxis\":{\"gridcolor\":\"white\",\"linecolor\":\"white\",\"ticks\":\"\"}},\"coloraxis\":{\"colorbar\":{\"outlinewidth\":0,\"ticks\":\"\"}},\"colorscale\":{\"sequential\":[[0.0,\"#0d0887\"],[0.1111111111111111,\"#46039f\"],[0.2222222222222222,\"#7201a8\"],[0.3333333333333333,\"#9c179e\"],[0.4444444444444444,\"#bd3786\"],[0.5555555555555556,\"#d8576b\"],[0.6666666666666666,\"#ed7953\"],[0.7777777777777778,\"#fb9f3a\"],[0.8888888888888888,\"#fdca26\"],[1.0,\"#f0f921\"]],\"sequentialminus\":[[0.0,\"#0d0887\"],[0.1111111111111111,\"#46039f\"],[0.2222222222222222,\"#7201a8\"],[0.3333333333333333,\"#9c179e\"],[0.4444444444444444,\"#bd3786\"],[0.5555555555555556,\"#d8576b\"],[0.6666666666666666,\"#ed7953\"],[0.7777777777777778,\"#fb9f3a\"],[0.8888888888888888,\"#fdca26\"],[1.0,\"#f0f921\"]],\"diverging\":[[0,\"#8e0152\"],[0.1,\"#c51b7d\"],[0.2,\"#de77ae\"],[0.3,\"#f1b6da\"],[0.4,\"#fde0ef\"],[0.5,\"#f7f7f7\"],[0.6,\"#e6f5d0\"],[0.7,\"#b8e186\"],[0.8,\"#7fbc41\"],[0.9,\"#4d9221\"],[1,\"#276419\"]]},\"xaxis\":{\"gridcolor\":\"white\",\"linecolor\":\"white\",\"ticks\":\"\",\"title\":{\"standoff\":15},\"zerolinecolor\":\"white\",\"automargin\":true,\"zerolinewidth\":2},\"yaxis\":{\"gridcolor\":\"white\",\"linecolor\":\"white\",\"ticks\":\"\",\"title\":{\"standoff\":15},\"zerolinecolor\":\"white\",\"automargin\":true,\"zerolinewidth\":2},\"scene\":{\"xaxis\":{\"backgroundcolor\":\"#E5ECF6\",\"gridcolor\":\"white\",\"linecolor\":\"white\",\"showbackground\":true,\"ticks\":\"\",\"zerolinecolor\":\"white\",\"gridwidth\":2},\"yaxis\":{\"backgroundcolor\":\"#E5ECF6\",\"gridcolor\":\"white\",\"linecolor\":\"white\",\"showbackground\":true,\"ticks\":\"\",\"zerolinecolor\":\"white\",\"gridwidth\":2},\"zaxis\":{\"backgroundcolor\":\"#E5ECF6\",\"gridcolor\":\"white\",\"linecolor\":\"white\",\"showbackground\":true,\"ticks\":\"\",\"zerolinecolor\":\"white\",\"gridwidth\":2}},\"shapedefaults\":{\"line\":{\"color\":\"#2a3f5f\"}},\"annotationdefaults\":{\"arrowcolor\":\"#2a3f5f\",\"arrowhead\":0,\"arrowwidth\":1},\"geo\":{\"bgcolor\":\"white\",\"landcolor\":\"#E5ECF6\",\"subunitcolor\":\"white\",\"showland\":true,\"showlakes\":true,\"lakecolor\":\"white\"},\"title\":{\"x\":0.05},\"mapbox\":{\"style\":\"light\"}}},\"xaxis\":{\"anchor\":\"y\",\"domain\":[0.0,1.0],\"title\":{\"text\":\"Og\\u00f3lny Ton Nagrania\"},\"categoryorder\":\"array\",\"categoryarray\":[\"Pozytywny\",\"Raczej Pozytywny\",\"Neutralny\",\"Sentymentalny\"],\"showgrid\":true,\"gridwidth\":0.5,\"gridcolor\":\"lightgray\"},\"yaxis\":{\"anchor\":\"x\",\"domain\":[0.0,1.0],\"title\":{\"text\":\"Liczba Nagra\\u0144\"},\"showgrid\":true,\"gridwidth\":0.5,\"gridcolor\":\"lightgray\"},\"legend\":{\"title\":{\"text\":\"classification.overall_sentiment\"},\"tracegroupgap\":0},\"title\":{\"text\":\"classification.overall_sentiment\",\"font\":{\"size\":20,\"color\":\"black\",\"family\":\"Arial\"}},\"barmode\":\"relative\",\"font\":{\"color\":\"black\"},\"plot_bgcolor\":\"white\",\"paper_bgcolor\":\"white\",\"autosize\":true,\"width\":1200,\"height\":800},                        {\"responsive\": true}                    ).then(function(){\n",
       "                            \n",
       "var gd = document.getElementById('ed1d0a33-52b2-4a6c-ad9a-f343888fb92e');\n",
       "var x = new MutationObserver(function (mutations, observer) {{\n",
       "        var display = window.getComputedStyle(gd).display;\n",
       "        if (!display || display === 'none') {{\n",
       "            console.log([gd, 'removed!']);\n",
       "            Plotly.purge(gd);\n",
       "            observer.disconnect();\n",
       "        }}\n",
       "}});\n",
       "\n",
       "// Listen for the removal of the full notebook cells\n",
       "var notebookContainer = gd.closest('#notebook-container');\n",
       "if (notebookContainer) {{\n",
       "    x.observe(notebookContainer, {childList: true});\n",
       "}}\n",
       "\n",
       "// Listen for the clearing of the current output cell\n",
       "var outputEl = gd.closest('.output');\n",
       "if (outputEl) {{\n",
       "    x.observe(outputEl, {childList: true});\n",
       "}}\n",
       "\n",
       "                        })                };                });            </script>        </div>"
      ]
     },
     "metadata": {},
     "output_type": "display_data"
    }
   ],
   "source": [
    "visualize.plot_categorical_histogram(df_stats, 'classification.overall_sentiment', mapping_file='../../resources/text_mappings.json')"
   ]
  },
  {
   "cell_type": "code",
   "execution_count": null,
   "id": "8f838849-7e12-4c05-a6c6-ce1734422bff",
   "metadata": {},
   "outputs": [],
   "source": []
  }
 ],
 "metadata": {
  "kernelspec": {
   "display_name": "Python [conda env:base] *",
   "language": "python",
   "name": "conda-base-py"
  },
  "language_info": {
   "codemirror_mode": {
    "name": "ipython",
    "version": 3
   },
   "file_extension": ".py",
   "mimetype": "text/x-python",
   "name": "python",
   "nbconvert_exporter": "python",
   "pygments_lexer": "ipython3",
   "version": "3.11.9"
  }
 },
 "nbformat": 4,
 "nbformat_minor": 5
}
