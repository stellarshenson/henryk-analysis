{
 "cells": [
  {
   "cell_type": "markdown",
   "id": "26c1897f-f9e2-4145-844c-4ce5f60b54a5",
   "metadata": {},
   "source": [
    "# Transcribe Recordings\n",
    "paid service [Goodtape](http://goodtape.io) will be used for the transcriptions"
   ]
  },
  {
   "cell_type": "markdown",
   "id": "55c7d390-2166-421c-acb9-fd8853cac4a8",
   "metadata": {},
   "source": [
    "## Imports"
   ]
  },
  {
   "cell_type": "code",
   "execution_count": 1,
   "id": "5a5c8bb7-b155-4e46-bd24-f0bee9422a63",
   "metadata": {
    "execution": {
     "iopub.execute_input": "2024-05-07T20:42:56.908962Z",
     "iopub.status.busy": "2024-05-07T20:42:56.908812Z",
     "iopub.status.idle": "2024-05-07T20:42:56.922353Z",
     "shell.execute_reply": "2024-05-07T20:42:56.921713Z",
     "shell.execute_reply.started": "2024-05-07T20:42:56.908949Z"
    },
    "tags": []
   },
   "outputs": [],
   "source": [
    "%reload_ext autoreload\n",
    "%autoreload 2"
   ]
  },
  {
   "cell_type": "code",
   "execution_count": 240,
   "id": "7a299954-a131-4796-bad5-c9b53d0eb8cb",
   "metadata": {
    "execution": {
     "iopub.execute_input": "2024-05-08T06:13:35.160134Z",
     "iopub.status.busy": "2024-05-08T06:13:35.159799Z",
     "iopub.status.idle": "2024-05-08T06:13:35.174061Z",
     "shell.execute_reply": "2024-05-08T06:13:35.173467Z",
     "shell.execute_reply.started": "2024-05-08T06:13:35.160118Z"
    }
   },
   "outputs": [],
   "source": [
    "import requests\n",
    "import pandas as pd\n",
    "import os\n",
    "import shutil\n",
    "import io\n",
    "import json\n",
    "import math\n",
    "\n",
    "from requests.utils import quote\n",
    "\n",
    "# audio\n",
    "from pydub import AudioSegment\n",
    "\n",
    "# local imports\n",
    "from lib_henryk.logger import *\n",
    "from lib_henryk.config import *"
   ]
  },
  {
   "cell_type": "markdown",
   "id": "0c26ac2e-7619-48cf-9412-290f1c7c4461",
   "metadata": {},
   "source": [
    "## Params"
   ]
  },
  {
   "cell_type": "code",
   "execution_count": 3,
   "id": "170fe65c-d43d-4157-9473-29a7a25b8d4f",
   "metadata": {
    "execution": {
     "iopub.execute_input": "2024-05-07T20:42:57.369544Z",
     "iopub.status.busy": "2024-05-07T20:42:57.369318Z",
     "iopub.status.idle": "2024-05-07T20:42:57.398765Z",
     "shell.execute_reply": "2024-05-07T20:42:57.398152Z",
     "shell.execute_reply.started": "2024-05-07T20:42:57.369532Z"
    }
   },
   "outputs": [],
   "source": [
    "# load api keys\n",
    "from dotenv import load_dotenv\n",
    "_ = load_dotenv()\n",
    "\n",
    "# goodtape api key\n",
    "api_key = os.getenv(\"API_KEY_GOODTAPE\")"
   ]
  },
  {
   "cell_type": "markdown",
   "id": "f2ff50ef-0490-42be-b84c-cf0f5f708f36",
   "metadata": {},
   "source": [
    "## Load Dataset"
   ]
  },
  {
   "cell_type": "code",
   "execution_count": 188,
   "id": "f59bfa37-d829-44eb-930c-29d56d91c092",
   "metadata": {
    "execution": {
     "iopub.execute_input": "2024-05-08T04:47:02.881326Z",
     "iopub.status.busy": "2024-05-08T04:47:02.881114Z",
     "iopub.status.idle": "2024-05-08T04:47:02.907062Z",
     "shell.execute_reply": "2024-05-08T04:47:02.906544Z",
     "shell.execute_reply.started": "2024-05-08T04:47:02.881311Z"
    }
   },
   "outputs": [],
   "source": [
    "df = pd.read_csv(FILE_AUDIO_STATS_CSV)\n",
    "df_transcription = df.copy()\n",
    "df_transcription['transcription_id'] = ''"
   ]
  },
  {
   "cell_type": "markdown",
   "id": "34641782-a8f2-4743-9e49-09a1c5d363b4",
   "metadata": {},
   "source": [
    "## Run Transcriptions"
   ]
  },
  {
   "cell_type": "code",
   "execution_count": 254,
   "id": "227a3ae5-c90b-4da3-b2da-a49a3470aeb9",
   "metadata": {
    "execution": {
     "iopub.execute_input": "2024-05-08T06:27:27.232321Z",
     "iopub.status.busy": "2024-05-08T06:27:27.232130Z",
     "iopub.status.idle": "2024-05-08T06:29:50.837449Z",
     "shell.execute_reply": "2024-05-08T06:29:50.836868Z",
     "shell.execute_reply.started": "2024-05-08T06:27:27.232308Z"
    }
   },
   "outputs": [
    {
     "name": "stdout",
     "output_type": "stream",
     "text": [
      "processing [100]: Henryk 2022-10-04 Kubuś Puchatek utknął w drzwiach frontowych u Królika i przyjaciele go później uratowali.m4a\n",
      "processing [101]: Henryk 2022-10-06 Kubuś Puchatek z Prosiaczkiem tropią łasicę.m4a\n",
      "processing [102]: Henryk 2022-10-08 Kubuś Puchatek i Prosiaczek spotykają Krzysia podczas gdy tropią zwierze.m4a\n",
      "processing [103]: Henryk 2022-10-10 Kubuś Puchatek odwiedza Kłapouchego i zauważa, że ten zgubił swój ogon.m4a\n",
      "processing [104]: Henryk 2022-10-12 Urodziny Henryka i bajka w której Puchatek znajduje ogon Kłapouchego.m4a\n",
      "processing [105]: Henryk 2022-10-13 Kubuś Puchatek razem z Prosiaczkiem planują złapać słonia.m4a\n",
      "processing [106]: Henryk 2022-10-14 Puchatek i Prosiaczek budują pułapkę na słonia.m4a\n",
      "processing [107]: Henryk 2022-10-15 Puchatek i Prosiaczek chcą sprawdzić czy udało im się złapać słonia.m4a\n",
      "processing [108]: Henryk 2022-10-16 Puchatek dał się złapać w pułapkę na słonie.m4a\n",
      "processing [109]: Henryk 2022-10-19 Kłapouchy oznajmia Puchatkowi, że ma dziś urodziny.m4a\n",
      "processing [110]: Henryk 2022-10-20 Puchatek wymyśla, że podaruje Kłapouchemu garnczek na różności.m4a\n",
      "processing [111]: Henryk 2022-10-21 Prosiaczek przy osi Kłapouchemu balonik w prezencie.m4a\n",
      "processing [112]: Henryk 2022-10-22 Kłapouchy dostaje od Puchatka i Prosiaczka prezenty i bardzo się z nich cieszy.m4a\n",
      "processing [113]: Henryk 2022-10-25 Królik, Prosiaczek i Puchatek planują porwanie Maleństwa Kangurzycy.m4a\n",
      "processing [114]: Henryk 2022-10-26 Królik, Prosiaczek i Puchatek spotykają Kangurzycę i Maleństwo i Prosiaczek wskakuje do kieszeni Kangurzycy.m4a\n",
      "processing [115]: Henryk 2022-10-27 Prosiaczek udaje Maleństwo a później Kangurzyca bierze go do kąpieli.m4a\n",
      "processing [116]: Henryk 2022-10-28 Krzyś, Puchatek, Prosiaczek i wszyscy inni wyruszają na Przyprawę na biegun północny.m4a\n",
      "processing [117]: Henryk 2022-10-29 Krzyś, Puchatek, Prosiaczek i wszyscy inni wyruszyli na wyprawę i dotarli do miejsca gdzie może czaić się Zasadzka.m4a\n",
      "processing [118]: Henryk 2022-11-01 Maleństwo wpadło do wody i wszyscy chcą je uratować.m4a\n",
      "processing [119]: Henryk 2022-11-02 Kubuś Puchatek znalazł biegun północny i wyprawa się zakończyła.m4a\n",
      "processing [120]: Henryk 2022-11-03 Prosiaczek szuka ratunku w srogim deszczu i wysyła wiadomość w butelce.m4a\n",
      "processing [121]: Henryk 2022-11-04 Puchatek ratuje się przed deszczem na drzewie a potem wyrusza na Pływającym Misiu do Krzysia.m4a\n",
      "processing [122]: Henryk 2022-11-05 Puchatek przypłynął do Krzysia i zastanawiają się razem jak uratować Prosiaczka.m4a\n",
      "processing [123]: Henryk 2022-11-07 Puchatek i Krzyś wypłynęli by uratować Prosiaczka.m4a\n",
      "processing [124]: Henryk 2022-11-08 Krzyś wydaje przyjęcie na cześć Puchatka.m4a\n",
      "processing [125]: Henryk 2022-11-09 Kłapouchy przemawia na przyjęciu myśląc że to na jego cześć.m4a\n",
      "processing [126]: Henryk 2022-11-12 Kubuś Puchatek odbiera prezent na przyjęciu wydanym na jego cześć.m4a\n",
      "processing [127]: Henryk 2022-11-14 Kubuś Puchatek wymyślił nową śnieżną mruczankę.m4a\n",
      "processing [128]: Henryk 2022-11-15 Kubuś Puchatek i Prosiaczek wpadają na pomysł by wybudować domek Kłapouchemu.m4a\n",
      "processing [129]: Henryk 2022-11-16 Kubuś Puchatek i Prosiaczek pokazują Kłapouchemu nową chatkę.m4a\n",
      "processing [130]: Henryk 2022-11-17 Kubuś Puchatek spotyka Tygryska w swoim domu.m4a\n",
      "processing [131]: Henryk 2022-11-18 Tygrysek wraz z Puchatkiem przychodzą do Prosiaczka na śniadanie.m4a\n",
      "processing [132]: Henryk 2022-11-20 Tygrysek odkrywa że lubi tran.m4a\n",
      "processing [133]: Henryk 2022-11-21 Kubuś Puchatek wybiera się do Prosiaczka w poszukiwaniu Małego.m4a\n",
      "processing [134]: Henryk 2022-11-23 Kubuś Puchatek i Prosiaczek wpadają do pułapki na słonie.m4a\n",
      "processing [135]: Henryk 2022-11-24 Puchatek z Prosiaczkiem wydostają się z pułapki na słonie.m4a\n",
      "processing [136]: Henryk 2022-11-26 Prosiaczek wyobraża sobie swoją rozmowę ze słoniem.m4a\n",
      "processing [137]: Henryk 2022-11-27 Prosiaczek odnajduje Małego i spotyka Krzysia.m4a\n",
      "processing [138]: Henryk 2022-11-29 Puchatek wybrał się na spacer po lesie i myśli o przyjaciołach.m4a\n",
      "processing [139]: Henryk 2022-11-30 Tygrysek z Maleństwem wspinają się na drzewo.m4a\n",
      "processing [140]: Henryk 2022-12-02 Tygrys i Maleństwo utknęli na drzewie i spotkali Puchatka z Prosiaczkiem.m4a\n",
      "processing [141]: Henryk 2022-12-03 Krzyś i reszta przyjaciół ratują Tygryska i Maleństwo.m4a\n",
      "processing [142]: Henryk 2022-12-05 Królik wybiera się do Krzysia ale nie zastaje go w domu.m4a\n",
      "processing [143]: Henryk 2022-12-06 Królik konsultuje się z Sową w sprawie tego, że Krzyś gdzieś poszedł.m4a\n",
      "processing [144]: Henryk 2022-12-07 Królik spotyka Puchatka i pyta go czy widział Krzysia.m4a\n",
      "processing [145]: Henryk 2022-12-08 Królik i Prosiaczek odwiedzają Kłapouchego pytając o to co robi Krzyś przed południem.m4a\n",
      "processing [146]: Henryk 2022-12-10 Puchatek wymyśla grę w pływające Misie-Patysie.m4a\n",
      "processing [147]: Henryk 2022-12-12 Puchatek z Przyjaciółmi dostrzega w rzece Kłapouchego i wymyśla plan by go uratować.m4a\n",
      "processing [148]: Henryk 2022-12-13 Puchatek wraz z przyjaciółmi uratował Kłapouchego z rzeki.m4a\n",
      "processing [149]: Henryk 2022-12-15 Kłapouchy opowiada o tym jak został wbryknięty do rzeki.m4a\n",
      "submitting transcriptions completed\n"
     ]
    }
   ],
   "source": [
    "# re-read transcription log\n",
    "if os.path.exists(FILE_TRANSCRIPTION_CSV):\n",
    "    df_transcription = pd.read_csv(FILE_TRANSCRIPTION_CSV)\n",
    "\n",
    "# set up callback\n",
    "callback_url = 'https://webhook.site/d3c707b2-c8cb-44cf-97a7-a27e9cfda38c'\n",
    "\n",
    "# load just few records\n",
    "for index, row in df_transcription[100:150].iterrows():\n",
    "    file_path = DIR_WIADOMOSCI_DO_HENRYCZKA + '/' + row['path']\n",
    "    file_name = row['file']\n",
    "    transcription_id = row['transcription_id']\n",
    "\n",
    "    # copy file to /tmp, curl has issue with some paths\n",
    "    temp_ext = file_name.split('.')[-1]\n",
    "    temp_path = f'/tmp/recording.{temp_ext}'\n",
    "    shutil.copy(file_path, temp_path)\n",
    "\n",
    "    # run transcription API if needed\n",
    "    if transcription_id == '' \\\n",
    "    or type(transcription_id) != str:\n",
    "        print(f'processing [{index}]: {file_name}')\n",
    "        \n",
    "        response = !curl -X POST \"https://api.goodtape.io/transcribe\" \\\n",
    "        -H \"Authorization: {api_key}\" \\\n",
    "        -F \"audio=@{temp_path}\" \\\n",
    "        -F \"callbackUrl={callback_url}\" \\\n",
    "        -F \"languageCode=pl\" \\\n",
    "        -F \"transcription_id=121231312\" \\\n",
    "        -F \"speakerLabels=true\" \\\n",
    "        -F \"timeStamps=false\"\n",
    "\n",
    "        try:\n",
    "            response_json = json.loads(response[-1])\n",
    "            transcription_id = response_json['transcriptionId']\n",
    "            df_transcription.loc[index, 'transcription_id'] = transcription_id\n",
    "        except:\n",
    "            print(response)\n",
    "            break\n",
    "    else:\n",
    "        print(f'file [{index}]: {file_name} already submitted for transcription: {transcription_id}')\n",
    "\n",
    "# save transcription log\n",
    "df_transcription.to_csv(FILE_TRANSCRIPTION_CSV)\n",
    "print(f'submitting transcriptions completed')"
   ]
  },
  {
   "cell_type": "markdown",
   "id": "35c7af66-1385-4140-8ca5-8d643c0cea4f",
   "metadata": {},
   "source": [
    "## Reconcile Transcriptions"
   ]
  },
  {
   "cell_type": "code",
   "execution_count": 255,
   "id": "161ab85e-f6b4-4dcf-bf58-8379007e859e",
   "metadata": {
    "execution": {
     "iopub.execute_input": "2024-05-08T06:34:53.888072Z",
     "iopub.status.busy": "2024-05-08T06:34:53.887416Z",
     "iopub.status.idle": "2024-05-08T06:34:54.206215Z",
     "shell.execute_reply": "2024-05-08T06:34:54.205530Z",
     "shell.execute_reply.started": "2024-05-08T06:34:53.888027Z"
    }
   },
   "outputs": [
    {
     "name": "stdout",
     "output_type": "stream",
     "text": [
      "processed [0]: Henryk 2022-05-26 Bajka o nowym samochodziku.txt\n",
      "processed [1]: Henryk 2022-05-27 Bajka o Eryku r1.txt\n",
      "processed [2]: Henryk 2022-05-28 Bajka o swince peppie i domu rebeki.txt\n",
      "processed [3]: Henryk 2022-05-30 Bajka o parku dinozaurow.txt\n",
      "processed [4]: Henryk 2022-05-31 Bajka o drużynie koszykowki.txt\n",
      "processed [5]: Henryk 2022-06-01 Bajka o bananach.txt\n",
      "processed [6]: Henryk 2022-06-02 Bajka o kotkach i majówce.txt\n",
      "processed [7]: Henryk 2022-06-03 Bajka o jeżyku cyprianie.txt\n",
      "processed [8]: Henryk 2022-06-04 W starym gaju.txt\n",
      "processed [9]: Henryk 2022-06-05 Bajka o okruchach słońca.txt\n",
      "processed [10]: Henryk 2022-06-06 Bajka po peppie i perfumach.txt\n",
      "processed [11]: Henryk 2022-06-07 Bajka o robotach drogowych.txt\n",
      "processed [12]: Henryk 2022-06-08 Bajka o gimnastyce.txt\n",
      "processed [13]: Henryk 2022-06-09 Bajka o peppie i misiu.txt\n",
      "processed [14]: Henryk 2022-06-10 Bajka o czkawce.txt\n",
      "processed [15]: Henryk 2022-06-13 Bajka o sloneczku.txt\n",
      "processed [16]: Henryk 2022-06-14 Bajka o kosmicznym podrozniku.txt\n",
      "processed [17]: Henryk 2022-06-15 Bajka o książkach.txt\n",
      "processed [18]: Henryk 2022-06-16 Bajka o ksiezniczce.txt\n",
      "processed [19]: Henryk 2022-06-17 Bajka o małym Łee.txt\n",
      "processed [20]: Henryk 2022-06-18 Zawody Łucznicze.txt\n",
      "processed [21]: Henryk 2022-06-19 Dzien Ojca.txt\n",
      "processed [22]: Henryk 2022-06-20 Bajka o Rysiu.txt\n",
      "processed [23]: Henryk 2022-06-21 Bajka o Lisku.txt\n",
      "processed [24]: Henryk 2022-06-22 Bajka o dziku.txt\n",
      "processed [25]: Henryk 2022-06-23 Bajka o tacie na dzień ojca.txt\n",
      "processed [26]: Henryk 2022-06-24 Bajka o zabawie.txt\n",
      "processed [27]: Henryk 2022-06-25 Bajka o rozowych okularach.txt\n",
      "processed [28]: Henryk 2022-06-26 Bajka o zdrowym duchu.txt\n",
      "processed [29]: Henryk 2022-06-27 Bajka o Łosiu.txt\n",
      "processed [30]: Henryk 2022-06-28 Bajka o Zdjęciach.txt\n",
      "processed [31]: Henryk 2022-06-29 Bajka o Borsuku.txt\n",
      "processed [32]: Henryk 2022-06-30 Bajka o misiu chrapciu.txt\n",
      "processed [33]: Henryk 2022-07-01 Bajka o liczeniu gwiazd.txt\n",
      "processed [35]: Henryk 2022-07-04 Bajka o Wiewiórce.txt\n",
      "processed [36]: Henryk 2022-07-05 Bajka o pogodowym królestwie.txt\n",
      "processed [37]: Henryk 2022-07-06 Bajka o Choince.txt\n",
      "processed [38]: Henryk 2022-07-07 Bajka o Ciuchci.txt\n"
     ]
    }
   ],
   "source": [
    "# create new column if needed\n",
    "if not 'processed' in  df_transcription.columns.to_list():\n",
    "    df_transcription['processed'] = False\n",
    "\n",
    "# process records\n",
    "for index, row in df_transcription[0:100].iterrows():\n",
    "    file_path = DIR_WIADOMOSCI_DO_HENRYCZKA + '/' + row['path']\n",
    "    file_name_without_ext = '.'.join(row['file'].split('.')[:-1])\n",
    "    transcription_id = row['transcription_id']\n",
    "    transcription_id_filename = f'{DIR_WHCLI}/{transcription_id}.json'\n",
    "    transcription_filename = f'{DIR_TRANSCRIPTIONS}/{file_name_without_ext}.txt'\n",
    "\n",
    "    # skip if already done\n",
    "    if row['processed'] == True:\n",
    "        continue\n",
    "    \n",
    "    # find out if a transcription was created and set the flag\n",
    "    # and copy the file with the final name\n",
    "    if os.path.exists(transcription_id_filename):\n",
    "        # load json and extract text component\n",
    "        json_txt = open(transcription_id_filename, 'r').read()\n",
    "        json_content = json.loads(json_txt)\n",
    "        transcription_text = json_content['content']['text']\n",
    "\n",
    "        # write to the final destination\n",
    "        with open(transcription_filename, 'w') as file:\n",
    "            file.write(transcription_text)\n",
    "            file.close()\n",
    "        \n",
    "        # mark as done\n",
    "        df_transcription.loc[index, 'processed'] = True\n",
    "        print(f'processed [{index}]: {transcription_filename.split(\"/\")[-1]}')\n",
    "\n",
    "# save transription log\n",
    "df_transcription.to_csv(FILE_TRANSCRIPTION_CSV)"
   ]
  }
 ],
 "metadata": {
  "kernelspec": {
   "display_name": "Python [conda env:base] *",
   "language": "python",
   "name": "conda-base-py"
  },
  "language_info": {
   "codemirror_mode": {
    "name": "ipython",
    "version": 3
   },
   "file_extension": ".py",
   "mimetype": "text/x-python",
   "name": "python",
   "nbconvert_exporter": "python",
   "pygments_lexer": "ipython3",
   "version": "3.11.9"
  }
 },
 "nbformat": 4,
 "nbformat_minor": 5
}
