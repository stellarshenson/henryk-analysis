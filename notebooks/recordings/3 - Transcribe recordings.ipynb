{
 "cells": [
  {
   "cell_type": "markdown",
   "id": "26c1897f-f9e2-4145-844c-4ce5f60b54a5",
   "metadata": {},
   "source": [
    "# Transcribe Recordings\n",
    "paid service [Goodtape](http://goodtape.io) will be used for the transcriptions"
   ]
  },
  {
   "cell_type": "markdown",
   "id": "55c7d390-2166-421c-acb9-fd8853cac4a8",
   "metadata": {},
   "source": [
    "## Imports"
   ]
  },
  {
   "cell_type": "code",
   "execution_count": 1,
   "id": "5a5c8bb7-b155-4e46-bd24-f0bee9422a63",
   "metadata": {
    "execution": {
     "iopub.execute_input": "2024-05-07T20:42:56.908962Z",
     "iopub.status.busy": "2024-05-07T20:42:56.908812Z",
     "iopub.status.idle": "2024-05-07T20:42:56.922353Z",
     "shell.execute_reply": "2024-05-07T20:42:56.921713Z",
     "shell.execute_reply.started": "2024-05-07T20:42:56.908949Z"
    },
    "tags": []
   },
   "outputs": [],
   "source": [
    "%reload_ext autoreload\n",
    "%autoreload 2"
   ]
  },
  {
   "cell_type": "code",
   "execution_count": 334,
   "id": "7a299954-a131-4796-bad5-c9b53d0eb8cb",
   "metadata": {
    "execution": {
     "iopub.execute_input": "2024-05-08T10:47:18.849645Z",
     "iopub.status.busy": "2024-05-08T10:47:18.849355Z",
     "iopub.status.idle": "2024-05-08T10:47:18.893097Z",
     "shell.execute_reply": "2024-05-08T10:47:18.892006Z",
     "shell.execute_reply.started": "2024-05-08T10:47:18.849618Z"
    }
   },
   "outputs": [],
   "source": [
    "import requests\n",
    "import pandas as pd\n",
    "import os\n",
    "import shutil\n",
    "import io\n",
    "import json\n",
    "import math\n",
    "\n",
    "from requests.utils import quote\n",
    "\n",
    "# audio\n",
    "from pydub import AudioSegment\n",
    "\n",
    "# local imports\n",
    "from lib_henryk.logger import *\n",
    "from lib_henryk.config import *\n",
    "\n",
    "from lib_henryk.transcription import transcription"
   ]
  },
  {
   "cell_type": "markdown",
   "id": "0c26ac2e-7619-48cf-9412-290f1c7c4461",
   "metadata": {},
   "source": [
    "## Params"
   ]
  },
  {
   "cell_type": "code",
   "execution_count": 346,
   "id": "170fe65c-d43d-4157-9473-29a7a25b8d4f",
   "metadata": {
    "execution": {
     "iopub.execute_input": "2024-05-08T11:03:22.976759Z",
     "iopub.status.busy": "2024-05-08T11:03:22.976171Z",
     "iopub.status.idle": "2024-05-08T11:03:23.048370Z",
     "shell.execute_reply": "2024-05-08T11:03:23.047156Z",
     "shell.execute_reply.started": "2024-05-08T11:03:22.976731Z"
    }
   },
   "outputs": [],
   "source": [
    "# load api keys\n",
    "from dotenv import load_dotenv\n",
    "_ = load_dotenv()\n",
    "\n",
    "WEBHOOKS_TOKEN_ID = '2660666c-d957-4485-9a95-5e264563a022'"
   ]
  },
  {
   "cell_type": "markdown",
   "id": "f2ff50ef-0490-42be-b84c-cf0f5f708f36",
   "metadata": {},
   "source": [
    "## Load Dataset"
   ]
  },
  {
   "cell_type": "code",
   "execution_count": 336,
   "id": "f59bfa37-d829-44eb-930c-29d56d91c092",
   "metadata": {
    "execution": {
     "iopub.execute_input": "2024-05-08T10:47:34.925037Z",
     "iopub.status.busy": "2024-05-08T10:47:34.924539Z",
     "iopub.status.idle": "2024-05-08T10:47:34.951104Z",
     "shell.execute_reply": "2024-05-08T10:47:34.950005Z",
     "shell.execute_reply.started": "2024-05-08T10:47:34.925015Z"
    }
   },
   "outputs": [],
   "source": [
    "df = pd.read_csv(FILE_AUDIO_STATS_CSV)\n",
    "df_transcription = df.copy()\n",
    "df_transcription['transcription_id'] = ''"
   ]
  },
  {
   "cell_type": "markdown",
   "id": "34641782-a8f2-4743-9e49-09a1c5d363b4",
   "metadata": {},
   "source": [
    "## Run Transcriptions"
   ]
  },
  {
   "cell_type": "code",
   "execution_count": 501,
   "id": "120f74ec-b408-4afb-9669-4655bc80537b",
   "metadata": {
    "execution": {
     "iopub.execute_input": "2024-05-08T14:46:42.051059Z",
     "iopub.status.busy": "2024-05-08T14:46:42.050804Z",
     "iopub.status.idle": "2024-05-08T14:46:42.087812Z",
     "shell.execute_reply": "2024-05-08T14:46:42.086934Z",
     "shell.execute_reply.started": "2024-05-08T14:46:42.051045Z"
    }
   },
   "outputs": [
    {
     "name": "stdout",
     "output_type": "stream",
     "text": [
      "transcription log exists, reading it from ../../data/processed/henryk_audio_transcription.csv\n"
     ]
    }
   ],
   "source": [
    "# load sync dataframe\n",
    "if os.path.exists(FILE_TRANSCRIPTION_CSV):\n",
    "    print(f'transcription log exists, reading it from {FILE_TRANSCRIPTION_CSV}')\n",
    "    df_transcription = pd.read_csv(FILE_TRANSCRIPTION_CSV)"
   ]
  },
  {
   "cell_type": "code",
   "execution_count": 502,
   "id": "6fd0deda-025c-49b8-b4d6-d5d2cda26e1a",
   "metadata": {
    "execution": {
     "iopub.execute_input": "2024-05-08T14:46:44.816689Z",
     "iopub.status.busy": "2024-05-08T14:46:44.816137Z",
     "iopub.status.idle": "2024-05-08T14:46:47.285625Z",
     "shell.execute_reply": "2024-05-08T14:46:47.284757Z",
     "shell.execute_reply.started": "2024-05-08T14:46:44.816658Z"
    }
   },
   "outputs": [
    {
     "name": "stdout",
     "output_type": "stream",
     "text": [
      "processing [150]: Henryk 2022-12-16 Królik rozmawia z Puchatkiem i Prosiaczkiem o odbryknięciu Tygryska.m4a\n",
      "b'{\"detail\":\"Error processing request. You\\'ll not be billed for this request.\"}'\n",
      "submitted 0 recordings to the transcription service GoodTape\n"
     ]
    }
   ],
   "source": [
    "# perform transcriptions\n",
    "transcription.submit_transcriptions_goodtape(\n",
    "    df=df_transcription, \n",
    "    webhooks_token_id=WEBHOOKS_TOKEN_ID,\n",
    "    path_recordings=DIR_WIADOMOSCI_DO_HENRYCZKA,\n",
    "    start=150, stop=200,\n",
    "    verbose=False\n",
    ")"
   ]
  },
  {
   "cell_type": "markdown",
   "id": "69d6291c-8a75-494e-add8-078fcdbdb391",
   "metadata": {},
   "source": [
    "## Fetch Transcriptions JSONs"
   ]
  },
  {
   "cell_type": "code",
   "execution_count": 470,
   "id": "176457da-a7af-4861-9f67-6cc191c21151",
   "metadata": {
    "execution": {
     "iopub.execute_input": "2024-05-08T12:57:10.657475Z",
     "iopub.status.busy": "2024-05-08T12:57:10.657185Z",
     "iopub.status.idle": "2024-05-08T12:57:11.523623Z",
     "shell.execute_reply": "2024-05-08T12:57:11.522807Z",
     "shell.execute_reply.started": "2024-05-08T12:57:10.657437Z"
    }
   },
   "outputs": [
    {
     "name": "stdout",
     "output_type": "stream",
     "text": [
      "found 0 requests to fetch\n",
      "0 transcriptions were processed\n"
     ]
    }
   ],
   "source": [
    "# retrieve goodtape server responses from webhooks\n",
    "transcription.retrieve_responses_goodtape_via_webhooks(\n",
    "    webhooks_token_id=WEBHOOKS_TOKEN_ID, \n",
    "    path_transcriptions_json=DIR_TRANSCRIPTIONS_JSON\n",
    ")"
   ]
  },
  {
   "cell_type": "markdown",
   "id": "56f8216b-8219-4e69-925c-c8228c4c8e5d",
   "metadata": {},
   "source": [
    "## Process JSONs to Transcriptions"
   ]
  },
  {
   "cell_type": "code",
   "execution_count": 500,
   "id": "95668417-56d0-4162-a5cf-057b8c30587a",
   "metadata": {
    "execution": {
     "iopub.execute_input": "2024-05-08T14:45:12.891902Z",
     "iopub.status.busy": "2024-05-08T14:45:12.891633Z",
     "iopub.status.idle": "2024-05-08T14:45:14.268283Z",
     "shell.execute_reply": "2024-05-08T14:45:14.267509Z",
     "shell.execute_reply.started": "2024-05-08T14:45:12.891878Z"
    }
   },
   "outputs": [
    {
     "name": "stdout",
     "output_type": "stream",
     "text": [
      "processed [0]: Henryk 2022-05-26 Bajka o nowym samochodziku.txt\n",
      "processed [1]: Henryk 2022-05-27 Bajka o Eryku r1.txt\n",
      "processed [2]: Henryk 2022-05-28 Bajka o swince peppie i domu rebeki.txt\n",
      "processed [3]: Henryk 2022-05-30 Bajka o parku dinozaurow.txt\n",
      "processed [4]: Henryk 2022-05-31 Bajka o drużynie koszykowki.txt\n",
      "processed [5]: Henryk 2022-06-01 Bajka o bananach.txt\n",
      "processed [6]: Henryk 2022-06-02 Bajka o kotkach i majówce.txt\n",
      "processed [7]: Henryk 2022-06-03 Bajka o jeżyku cyprianie.txt\n",
      "processed [8]: Henryk 2022-06-04 W starym gaju.txt\n",
      "processed [9]: Henryk 2022-06-05 Bajka o okruchach słońca.txt\n",
      "processed [10]: Henryk 2022-06-06 Bajka po peppie i perfumach.txt\n",
      "processed [11]: Henryk 2022-06-07 Bajka o robotach drogowych.txt\n",
      "processed [12]: Henryk 2022-06-08 Bajka o gimnastyce.txt\n",
      "processed [13]: Henryk 2022-06-09 Bajka o peppie i misiu.txt\n",
      "processed [14]: Henryk 2022-06-10 Bajka o czkawce.txt\n",
      "processed [15]: Henryk 2022-06-13 Bajka o sloneczku.txt\n",
      "processed [16]: Henryk 2022-06-14 Bajka o kosmicznym podrozniku.txt\n",
      "processed [17]: Henryk 2022-06-15 Bajka o książkach.txt\n",
      "processed [18]: Henryk 2022-06-16 Bajka o ksiezniczce.txt\n",
      "processed [19]: Henryk 2022-06-17 Bajka o małym Łee.txt\n",
      "processed [20]: Henryk 2022-06-18 Zawody Łucznicze.txt\n",
      "processed [21]: Henryk 2022-06-19 Dzien Ojca.txt\n",
      "processed [22]: Henryk 2022-06-20 Bajka o Rysiu.txt\n",
      "processed [23]: Henryk 2022-06-21 Bajka o Lisku.txt\n",
      "processed [24]: Henryk 2022-06-22 Bajka o dziku.txt\n",
      "processed [25]: Henryk 2022-06-23 Bajka o tacie na dzień ojca.txt\n",
      "processed [26]: Henryk 2022-06-24 Bajka o zabawie.txt\n",
      "processed [27]: Henryk 2022-06-25 Bajka o rozowych okularach.txt\n",
      "processed [28]: Henryk 2022-06-26 Bajka o zdrowym duchu.txt\n",
      "processed [29]: Henryk 2022-06-27 Bajka o Łosiu.txt\n",
      "processed [30]: Henryk 2022-06-28 Bajka o Zdjęciach.txt\n",
      "processed [31]: Henryk 2022-06-29 Bajka o Borsuku.txt\n",
      "processed [32]: Henryk 2022-06-30 Bajka o misiu chrapciu.txt\n",
      "processed [33]: Henryk 2022-07-01 Bajka o liczeniu gwiazd.txt\n",
      "processed [34]: Henryk 2022-07-03 Bajka o wielkiej niespodziance.txt\n",
      "processed [35]: Henryk 2022-07-04 Bajka o Wiewiórce.txt\n",
      "processed [36]: Henryk 2022-07-05 Bajka o pogodowym królestwie.txt\n",
      "processed [37]: Henryk 2022-07-06 Bajka o Choince.txt\n",
      "processed [38]: Henryk 2022-07-07 Bajka o Ciuchci.txt\n",
      "processed [39]: Henryk 2022-07-08 Bajka o jelonku.txt\n",
      "processed [40]: Henryk 2022-07-11 Bajka o Filemonie i Bonifacym.txt\n",
      "processed [41]: Henryk 2022-07-12 Puchatek i pszczoły.txt\n",
      "processed [42]: Henryk 2022-07-13 Puchatek utknął.txt\n",
      "processed [43]: Henryk 2022-07-14 Ja Bonifacy.txt\n",
      "processed [44]: Henryk 2022-07-15 Nazywam sie Filemon.txt\n",
      "processed [45]: Henryk 2022-07-16 Filemon Czarne myszy.txt\n",
      "processed [46]: Henryk 2022-07-18 Jak wygląda Filemon.txt\n",
      "processed [47]: Henryk 2022-07-19 Puchatek tropi łasicę.txt\n",
      "processed [48]: Henryk 2022-07-20 Filemon w Lesie.txt\n",
      "processed [49]: Henryk 2022-07-21 Puchatek znajduje ogon Kłapouchego.txt\n",
      "processed [50]: Henryk 2022-07-22 Puchatek łapie słonia.txt\n",
      "processed [51]: Henryk 2022-07-25 Filemon i Masz Babo Placek.txt\n",
      "processed [52]: Henryk 2022-07-27 Puchatek i rozmowa o Kangurzycy.txt\n",
      "processed [53]: Henryk 2022-07-29 Puchatek i porwanie malenstwa.txt\n",
      "processed [54]: Henryk 2022-07-31 Puchatek i przyprawa na biegun.txt\n",
      "processed [55]: Henryk 2022-08-01 Puchatek i dalsza czesc przyprawy.txt\n",
      "processed [56]: Henryk 2022-08-02 Puchatek znalazl biegun północny.txt\n",
      "processed [57]: Henryk 2022-08-04 Prosiaczek i woda.txt\n",
      "processed [58]: Henryk 2022-08-05 Puchatek otoczony wodą.txt\n",
      "processed [59]: Henryk 2022-08-06 Puchatek i Krzyś uratowali prosiaczka.txt\n",
      "processed [60]: Henryk 2022-08-10 Puchatek i przyjęcie na jego cześć.txt\n",
      "processed [61]: Henryk 2022-08-12 Puchatek i koniec przyjęcia.txt\n",
      "processed [62]: Henryk 2022-08-14 Powstaje Chatka Puchatka.txt\n",
      "processed [63]: Henryk 2022-08-15 Puchatek buduje chatkę Kłapouchemu.txt\n",
      "processed [64]: Henryk 2022-08-16 Koniec bajki o powstaniu Chatki Puchatka.txt\n",
      "processed [65]: Henryk 2022-08-17 Puchatek i Tygrysek spotykają się.txt\n",
      "processed [66]: Henryk 2022-08-18 Puchatek i Tygrysek u Kłapouchego.txt\n",
      "processed [67]: Henryk 2022-08-19 Puchatek i Tygrysek u Kangurzycy.txt\n",
      "processed [68]: Henryk 2022-08-21 Puchatek na poszukiwaniu Małego.txt\n",
      "processed [69]: Henryk 2022-08-23 Puchatek i Prosiaczek w pułapce na słonia.txt\n",
      "processed [70]: Henryk 2022-08-24 Puchatek i Prosiaczek znaleźli Małego.txt\n",
      "processed [71]: Henryk 2022-08-25 Puchatek wyrusza w odwiedziny a Prosiaczek sadzi żołądź.txt\n",
      "processed [72]: Henryk 2022-08-26 Puchatek z prosiaczkiem spotykają tygrysa na sośnie.txt\n",
      "processed [73]: Henryk 2022-08-29 Puchatek, Krzyś, Kłapouchy i Prosiaczek ratują Tygrysa.txt\n",
      "processed [74]: Henryk 2022-08-30 Przed wyjazdem do Warszawy.txt\n",
      "processed [75]: Henryk 2022-09-02 Królik poszedł do Krzysia.txt\n",
      "processed [76]: Henryk 2022-09-03 Królik u Sowy Przemądrzałej.txt\n",
      "processed [77]: Henryk 2022-09-05 Królik przychodzi do Puchatka by zapytać o Krzysia.txt\n",
      "processed [78]: Henryk 2022-09-06 Królik i Prosiaczek pytają Kłapouchego o Krzysia.txt\n",
      "processed [79]: Henryk 2022-09-07 Puchatek bawi sie szyszkami w rzece.txt\n",
      "processed [80]: Henryk 2022-09-09 Puchatek zobaczył Kłapouchego w rzece.txt\n",
      "processed [81]: Henryk 2022-09-10 Puchatek uratował Kłapouchego i pdzyszedł Krzyś.txt\n",
      "processed [82]: Henryk 2022-09-12 Królik wymyślił jak wraz z Puchatkiem i Prosiaczkiem odbryknąć Tygryska.txt\n",
      "processed [83]: Henryk 2022-09-13 Puchatek, Prosiaczek i Królik wyruszyli by odbryknąć Tygryska.txt\n",
      "processed [84]: Henryk 2022-09-14 Puchatek, Prosiaczek i Królik zgubili się w lesie.txt\n",
      "processed [85]: Henryk 2022-09-15 Puchatek, Prosiaczek i Królik się zgubili i znaleźli.txt\n",
      "processed [86]: Henryk 2022-09-16 Puchatek i Prosiaczek poszli odwiedzić wszystkich.txt\n",
      "processed [87]: Henryk 2022-09-18 Puchatek i Prosiaczek odwiedzają Sowę i wtedy silny wiatr przewraca dom Sowy.txt\n",
      "processed [88]: Henryk 2022-09-19 Puchatek wymyśla jak wszystkich uratować.txt\n",
      "processed [89]: Henryk 2022-09-20 Prosiaczek wydostaje się przez skrzynkę na listy Sowy i ratuje Sowę i Puchatka.txt\n",
      "processed [90]: Henryk 2022-09-22 Puchatek układa piosenkę o domku Sowy i o dzielnym Prosiaczku.txt\n",
      "processed [91]: Henryk 2022-09-23 Królik odwiedza Kłapouchego a Puchatek mówi Prosiaczkowi o mruczance dla niego.txt\n",
      "processed [92]: Henryk 2022-09-24 Wszyscy pracują przy starym mieszkaniu Sowy a Puchatek śpiewa wszystkim piosenkę o Prosiaczku.txt\n",
      "processed [93]: Henryk 2022-09-26 Kłapouchy znajduje nowy dom dla Sowy.txt\n",
      "processed [94]: Henryk 2022-09-27 Wszyscy przeczuwają, że Krzyś odejdzie, więc Kłapouchy skomponował o tym poemat.txt\n",
      "processed [95]: Henryk 2022-09-28 Wszyscy podpisują rezolucję a potem Krzyś tłumaczy Puchatkowi co to znaczy nie robić nic.txt\n",
      "processed [96]: Henryk 2022-09-29 Krzyś żegna się z puchatkiem na Zaczarowanej Polanie i opowoada mu o Królach, Rycerzach i Mnożnikach. A Puchatek nic nie rozumie.txt\n",
      "processed [97]: Henryk 2022-09-30 Poznajemy Kubusia Puchatka i udaje się on z balonikiem po miód.txt\n",
      "processed [98]: Henryk 2022-10-01 Kubuś Puchatek udaje chmurkę by zmylić pszczoły, ale mu się to nie udaje.txt\n",
      "processed [99]: Henryk 2022-10-03 Kubuś Puchatek udaje się w odwiedziny do Królika.txt\n",
      "processed [100]: Henryk 2022-10-04 Kubuś Puchatek utknął w drzwiach frontowych u Królika i przyjaciele go później uratowali.txt\n",
      "processed [101]: Henryk 2022-10-06 Kubuś Puchatek z Prosiaczkiem tropią łasicę.txt\n",
      "processed [102]: Henryk 2022-10-08 Kubuś Puchatek i Prosiaczek spotykają Krzysia podczas gdy tropią zwierze.txt\n",
      "processed [103]: Henryk 2022-10-10 Kubuś Puchatek odwiedza Kłapouchego i zauważa, że ten zgubił swój ogon.txt\n",
      "processed [104]: Henryk 2022-10-12 Urodziny Henryka i bajka w której Puchatek znajduje ogon Kłapouchego.txt\n",
      "processed [105]: Henryk 2022-10-13 Kubuś Puchatek razem z Prosiaczkiem planują złapać słonia.txt\n",
      "processed [106]: Henryk 2022-10-14 Puchatek i Prosiaczek budują pułapkę na słonia.txt\n",
      "processed [107]: Henryk 2022-10-15 Puchatek i Prosiaczek chcą sprawdzić czy udało im się złapać słonia.txt\n",
      "processed [108]: Henryk 2022-10-16 Puchatek dał się złapać w pułapkę na słonie.txt\n",
      "processed [109]: Henryk 2022-10-19 Kłapouchy oznajmia Puchatkowi, że ma dziś urodziny.txt\n",
      "processed [110]: Henryk 2022-10-20 Puchatek wymyśla, że podaruje Kłapouchemu garnczek na różności.txt\n",
      "processed [111]: Henryk 2022-10-21 Prosiaczek przy osi Kłapouchemu balonik w prezencie.txt\n",
      "processed [112]: Henryk 2022-10-22 Kłapouchy dostaje od Puchatka i Prosiaczka prezenty i bardzo się z nich cieszy.txt\n",
      "processed [113]: Henryk 2022-10-25 Królik, Prosiaczek i Puchatek planują porwanie Maleństwa Kangurzycy.txt\n",
      "processed [114]: Henryk 2022-10-26 Królik, Prosiaczek i Puchatek spotykają Kangurzycę i Maleństwo i Prosiaczek wskakuje do kieszeni Kangurzycy.txt\n",
      "processed [115]: Henryk 2022-10-27 Prosiaczek udaje Maleństwo a później Kangurzyca bierze go do kąpieli.txt\n",
      "processed [116]: Henryk 2022-10-28 Krzyś, Puchatek, Prosiaczek i wszyscy inni wyruszają na Przyprawę na biegun północny.txt\n",
      "processed [117]: Henryk 2022-10-29 Krzyś, Puchatek, Prosiaczek i wszyscy inni wyruszyli na wyprawę i dotarli do miejsca gdzie może czaić się Zasadzka.txt\n",
      "processed [118]: Henryk 2022-11-01 Maleństwo wpadło do wody i wszyscy chcą je uratować.txt\n",
      "processed [119]: Henryk 2022-11-02 Kubuś Puchatek znalazł biegun północny i wyprawa się zakończyła.txt\n",
      "processed [120]: Henryk 2022-11-03 Prosiaczek szuka ratunku w srogim deszczu i wysyła wiadomość w butelce.txt\n",
      "processed [121]: Henryk 2022-11-04 Puchatek ratuje się przed deszczem na drzewie a potem wyrusza na Pływającym Misiu do Krzysia.txt\n",
      "processed [122]: Henryk 2022-11-05 Puchatek przypłynął do Krzysia i zastanawiają się razem jak uratować Prosiaczka.txt\n",
      "processed [123]: Henryk 2022-11-07 Puchatek i Krzyś wypłynęli by uratować Prosiaczka.txt\n",
      "processed [124]: Henryk 2022-11-08 Krzyś wydaje przyjęcie na cześć Puchatka.txt\n",
      "processed [125]: Henryk 2022-11-09 Kłapouchy przemawia na przyjęciu myśląc że to na jego cześć.txt\n",
      "processed [126]: Henryk 2022-11-12 Kubuś Puchatek odbiera prezent na przyjęciu wydanym na jego cześć.txt\n",
      "processed [128]: Henryk 2022-11-15 Kubuś Puchatek i Prosiaczek wpadają na pomysł by wybudować domek Kłapouchemu.txt\n",
      "processed [129]: Henryk 2022-11-16 Kubuś Puchatek i Prosiaczek pokazują Kłapouchemu nową chatkę.txt\n",
      "processed [130]: Henryk 2022-11-17 Kubuś Puchatek spotyka Tygryska w swoim domu.txt\n",
      "processed [131]: Henryk 2022-11-18 Tygrysek wraz z Puchatkiem przychodzą do Prosiaczka na śniadanie.txt\n",
      "processed [132]: Henryk 2022-11-20 Tygrysek odkrywa że lubi tran.txt\n",
      "processed [133]: Henryk 2022-11-21 Kubuś Puchatek wybiera się do Prosiaczka w poszukiwaniu Małego.txt\n",
      "processed [134]: Henryk 2022-11-23 Kubuś Puchatek i Prosiaczek wpadają do pułapki na słonie.txt\n",
      "processed [135]: Henryk 2022-11-24 Puchatek z Prosiaczkiem wydostają się z pułapki na słonie.txt\n",
      "processed [136]: Henryk 2022-11-26 Prosiaczek wyobraża sobie swoją rozmowę ze słoniem.txt\n",
      "processed [137]: Henryk 2022-11-27 Prosiaczek odnajduje Małego i spotyka Krzysia.txt\n",
      "processed [138]: Henryk 2022-11-29 Puchatek wybrał się na spacer po lesie i myśli o przyjaciołach.txt\n",
      "processed [139]: Henryk 2022-11-30 Tygrysek z Maleństwem wspinają się na drzewo.txt\n",
      "processed [140]: Henryk 2022-12-02 Tygrys i Maleństwo utknęli na drzewie i spotkali Puchatka z Prosiaczkiem.txt\n",
      "processed [141]: Henryk 2022-12-03 Krzyś i reszta przyjaciół ratują Tygryska i Maleństwo.txt\n",
      "processed [142]: Henryk 2022-12-05 Królik wybiera się do Krzysia ale nie zastaje go w domu.txt\n",
      "processed [143]: Henryk 2022-12-06 Królik konsultuje się z Sową w sprawie tego, że Krzyś gdzieś poszedł.txt\n",
      "processed [144]: Henryk 2022-12-07 Królik spotyka Puchatka i pyta go czy widział Krzysia.txt\n",
      "processed [145]: Henryk 2022-12-08 Królik i Prosiaczek odwiedzają Kłapouchego pytając o to co robi Krzyś przed południem.txt\n",
      "processed [146]: Henryk 2022-12-10 Puchatek wymyśla grę w pływające Misie-Patysie.txt\n",
      "processed [147]: Henryk 2022-12-12 Puchatek z Przyjaciółmi dostrzega w rzece Kłapouchego i wymyśla plan by go uratować.txt\n",
      "processed [148]: Henryk 2022-12-13 Puchatek wraz z przyjaciółmi uratował Kłapouchego z rzeki.txt\n",
      "processed [149]: Henryk 2022-12-15 Kłapouchy opowiada o tym jak został wbryknięty do rzeki.txt\n",
      "transcriptions were processed, there are 149 transcriptions available\n"
     ]
    }
   ],
   "source": [
    "# process json to text\n",
    "transcription.process_transcriptions_json_to_text(\n",
    "    df=df_transcription, \n",
    "    path_transcriptions_json=DIR_TRANSCRIPTIONS_JSON, \n",
    "    path_transcriptions=DIR_TRANSCRIPTIONS,\n",
    "    verbose=False\n",
    ")"
   ]
  },
  {
   "cell_type": "markdown",
   "id": "5dc3ac4a-cdcf-4de1-b626-5fedd64c6eab",
   "metadata": {},
   "source": [
    "## Cleanup missing requests\n",
    "- transcription ids for the requests that were lost will be removed, only those that were processed will remain"
   ]
  },
  {
   "cell_type": "code",
   "execution_count": 493,
   "id": "f2446222-fb6f-4d14-be7f-2500841239e5",
   "metadata": {
    "execution": {
     "iopub.execute_input": "2024-05-08T14:37:24.163878Z",
     "iopub.status.busy": "2024-05-08T14:37:24.163606Z",
     "iopub.status.idle": "2024-05-08T14:37:24.197943Z",
     "shell.execute_reply": "2024-05-08T14:37:24.197152Z",
     "shell.execute_reply.started": "2024-05-08T14:37:24.163863Z"
    }
   },
   "outputs": [
    {
     "name": "stdout",
     "output_type": "stream",
     "text": [
      "there are 146 processed and valid transcriptions\n"
     ]
    }
   ],
   "source": [
    "# cleanup stale transcription ids\n",
    "transcription.cleanup_missing_transcriptions(df_transcription)\n",
    "\n",
    "# save transcription log\n",
    "df_transcription.to_csv(FILE_TRANSCRIPTION_CSV, index=False)"
   ]
  },
  {
   "cell_type": "code",
   "execution_count": null,
   "id": "61582a16-40da-4545-bfd5-9c7f8f78c0a3",
   "metadata": {
    "execution": {
     "iopub.execute_input": "2024-05-08T14:07:11.373210Z",
     "iopub.status.busy": "2024-05-08T14:07:11.372991Z",
     "iopub.status.idle": "2024-05-08T14:07:11.394341Z",
     "shell.execute_reply": "2024-05-08T14:07:11.393512Z",
     "shell.execute_reply.started": "2024-05-08T14:07:11.373196Z"
    }
   },
   "outputs": [],
   "source": [
    "# df_transcription = pd.read_csv(FILE_TRANSCRIPTION_CSV)\n",
    "# df_transcription = df_transcription_backup.copy()"
   ]
  },
  {
   "cell_type": "code",
   "execution_count": null,
   "id": "13c578ce-f7d8-4802-805b-3ef15a65fe40",
   "metadata": {
    "execution": {
     "iopub.execute_input": "2024-05-08T14:07:11.373210Z",
     "iopub.status.busy": "2024-05-08T14:07:11.372991Z",
     "iopub.status.idle": "2024-05-08T14:07:11.394341Z",
     "shell.execute_reply": "2024-05-08T14:07:11.393512Z",
     "shell.execute_reply.started": "2024-05-08T14:07:11.373196Z"
    }
   },
   "outputs": [],
   "source": []
  },
  {
   "cell_type": "code",
   "execution_count": null,
   "id": "e0e9dc20-acc2-44b0-bc34-9756e195b884",
   "metadata": {},
   "outputs": [],
   "source": []
  }
 ],
 "metadata": {
  "kernelspec": {
   "display_name": "Python [conda env:base] *",
   "language": "python",
   "name": "conda-base-py"
  },
  "language_info": {
   "codemirror_mode": {
    "name": "ipython",
    "version": 3
   },
   "file_extension": ".py",
   "mimetype": "text/x-python",
   "name": "python",
   "nbconvert_exporter": "python",
   "pygments_lexer": "ipython3",
   "version": "3.11.9"
  }
 },
 "nbformat": 4,
 "nbformat_minor": 5
}
