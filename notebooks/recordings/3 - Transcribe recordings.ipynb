{
 "cells": [
  {
   "cell_type": "markdown",
   "id": "26c1897f-f9e2-4145-844c-4ce5f60b54a5",
   "metadata": {},
   "source": [
    "# Transcribe Recordings\n",
    "\n",
    "paid service [Goodtape](http://goodtape.io) will be used for the transcriptions"
   ]
  },
  {
   "cell_type": "markdown",
   "id": "55c7d390-2166-421c-acb9-fd8853cac4a8",
   "metadata": {},
   "source": [
    "## Imports"
   ]
  },
  {
   "cell_type": "code",
   "execution_count": 27,
   "id": "5a5c8bb7-b155-4e46-bd24-f0bee9422a63",
   "metadata": {
    "execution": {
     "iopub.execute_input": "2024-05-12T23:52:19.442203Z",
     "iopub.status.busy": "2024-05-12T23:52:19.441854Z",
     "iopub.status.idle": "2024-05-12T23:52:19.483024Z",
     "shell.execute_reply": "2024-05-12T23:52:19.482498Z",
     "shell.execute_reply.started": "2024-05-12T23:52:19.442182Z"
    },
    "tags": []
   },
   "outputs": [],
   "source": [
    "%reload_ext autoreload\n",
    "%autoreload 2"
   ]
  },
  {
   "cell_type": "code",
   "execution_count": 28,
   "id": "7a299954-a131-4796-bad5-c9b53d0eb8cb",
   "metadata": {
    "execution": {
     "iopub.execute_input": "2024-05-12T23:52:20.545917Z",
     "iopub.status.busy": "2024-05-12T23:52:20.545578Z",
     "iopub.status.idle": "2024-05-12T23:52:20.579893Z",
     "shell.execute_reply": "2024-05-12T23:52:20.579085Z",
     "shell.execute_reply.started": "2024-05-12T23:52:20.545895Z"
    }
   },
   "outputs": [],
   "source": [
    "import requests\n",
    "import pandas as pd\n",
    "import os\n",
    "import docx\n",
    "\n",
    "# local imports\n",
    "from lib_henryk.logger import *\n",
    "from lib_henryk.config import *\n",
    "from lib_henryk.utils import *\n",
    "\n",
    "from lib_henryk.recordings import transcription\n",
    "from lib_henryk.recordings import recordings"
   ]
  },
  {
   "cell_type": "markdown",
   "id": "0c26ac2e-7619-48cf-9412-290f1c7c4461",
   "metadata": {},
   "source": [
    "## Params"
   ]
  },
  {
   "cell_type": "code",
   "execution_count": 29,
   "id": "170fe65c-d43d-4157-9473-29a7a25b8d4f",
   "metadata": {
    "execution": {
     "iopub.execute_input": "2024-05-12T23:52:22.022536Z",
     "iopub.status.busy": "2024-05-12T23:52:22.022092Z",
     "iopub.status.idle": "2024-05-12T23:52:22.059127Z",
     "shell.execute_reply": "2024-05-12T23:52:22.058559Z",
     "shell.execute_reply.started": "2024-05-12T23:52:22.022516Z"
    }
   },
   "outputs": [],
   "source": [
    "# load api keys\n",
    "from dotenv import load_dotenv\n",
    "_ = load_dotenv()\n",
    "\n",
    "# retrieve new token by opening 'https://webhook.site/' in incognito mode\n",
    "# and picking up the token from the URL\n",
    "WEBHOOKS_TOKEN_ID = '035fb8e4-5260-4e10-9e86-5782fb3bb352'\n",
    "GOODTAPE_API_KEY = os.getenv(\"GOODTAPE_API_KEY\")"
   ]
  },
  {
   "cell_type": "markdown",
   "id": "f2ff50ef-0490-42be-b84c-cf0f5f708f36",
   "metadata": {},
   "source": [
    "## Load Dataset"
   ]
  },
  {
   "cell_type": "code",
   "execution_count": 30,
   "id": "f59bfa37-d829-44eb-930c-29d56d91c092",
   "metadata": {
    "execution": {
     "iopub.execute_input": "2024-05-12T23:52:25.138089Z",
     "iopub.status.busy": "2024-05-12T23:52:25.137741Z",
     "iopub.status.idle": "2024-05-12T23:52:43.369620Z",
     "shell.execute_reply": "2024-05-12T23:52:43.369123Z",
     "shell.execute_reply.started": "2024-05-12T23:52:25.138069Z"
    }
   },
   "outputs": [
    {
     "name": "stdout",
     "output_type": "stream",
     "text": [
      "2024-05-12 23:52:25 - \u001b[32mINFO \u001b[0m - \u001b[34mget_recordings_info\u001b[0m - retrieved 503 files\n",
      "processing 503 audio files |██████████████████████████████████████████████████| 100.0% \n"
     ]
    }
   ],
   "source": [
    "# get fresh stats directly from the recordings\n",
    "df = recordings.get_recordings_info(path_recordings=DIR_WIADOMOSCI_DO_HENRYCZKA)"
   ]
  },
  {
   "cell_type": "raw",
   "id": "4de75f3c-6118-4ddc-bcc1-0e370fbf0211",
   "metadata": {
    "execution": {
     "iopub.execute_input": "2024-05-10T21:38:16.694257Z",
     "iopub.status.busy": "2024-05-10T21:38:16.693941Z",
     "iopub.status.idle": "2024-05-10T21:38:16.791350Z",
     "shell.execute_reply": "2024-05-10T21:38:16.790147Z",
     "shell.execute_reply.started": "2024-05-10T21:38:16.694231Z"
    }
   },
   "source": [
    "# load sync dataframe\n",
    "if os.path.exists(FILE_TRANSCRIPTION_CSV):\n",
    "    print(f'transcription log exists, reading it from {FILE_TRANSCRIPTION_CSV}')\n",
    "    df_transcriptions = pd.read_csv(FILE_TRANSCRIPTION_CSV)"
   ]
  },
  {
   "cell_type": "markdown",
   "id": "34641782-a8f2-4743-9e49-09a1c5d363b4",
   "metadata": {},
   "source": [
    "## Run Transcriptions"
   ]
  },
  {
   "cell_type": "code",
   "execution_count": 31,
   "id": "6fd0deda-025c-49b8-b4d6-d5d2cda26e1a",
   "metadata": {
    "execution": {
     "iopub.execute_input": "2024-05-12T23:52:46.054826Z",
     "iopub.status.busy": "2024-05-12T23:52:46.054507Z",
     "iopub.status.idle": "2024-05-12T23:52:59.304596Z",
     "shell.execute_reply": "2024-05-12T23:52:59.303891Z",
     "shell.execute_reply.started": "2024-05-12T23:52:46.054807Z"
    }
   },
   "outputs": [
    {
     "name": "stdout",
     "output_type": "stream",
     "text": [
      "processing [78]: Henryk 2024-05-05 Tatuś opowiada o festynie a Kaudipteryks przechwala się ogonem.m4a\n",
      "processing [79]: Henryk 2024-05-06 Tatuś opowiada o rekrutacji a Megaterium to największy ssak na ziemi.m4a\n",
      "processing [80]: Henryk 2024-05-08 Tatuś opowiada o robieniu komputera do obliczeń a Ceratopsy gonią złodzieja jaj...\n",
      "processing [81]: Henryk 2024-05-10 Tatuś opowiada o miejscach do których pójdziemy a Ichtiozaury zmieniają zwycza...\n",
      "processing [85]: Rodzice Henryk 2024-05-05 Nagranie z wycieczki babci i dziadka.m4a\n",
      "submitted 5 recordings to the transcription service GoodTape\n"
     ]
    }
   ],
   "source": [
    "# perform transcriptions\n",
    "transcription.submit_transcriptions_goodtape(\n",
    "    df=df, \n",
    "    webhooks_token_id=WEBHOOKS_TOKEN_ID,\n",
    "    goodtape_api_key=GOODTAPE_API_KEY,\n",
    "    path_recordings=DIR_WIADOMOSCI_DO_HENRYCZKA,\n",
    "    start=0, stop=510,\n",
    "    verbose=False\n",
    ")"
   ]
  },
  {
   "cell_type": "markdown",
   "id": "69d6291c-8a75-494e-add8-078fcdbdb391",
   "metadata": {},
   "source": [
    "## Fetch Transcriptions JSONs"
   ]
  },
  {
   "cell_type": "code",
   "execution_count": 7,
   "id": "5b6082ff-07ab-4699-9e40-b377f0a773dc",
   "metadata": {
    "execution": {
     "iopub.execute_input": "2024-05-10T21:15:28.327461Z",
     "iopub.status.busy": "2024-05-10T21:15:28.327110Z",
     "iopub.status.idle": "2024-05-10T21:15:28.364476Z",
     "shell.execute_reply": "2024-05-10T21:15:28.362443Z",
     "shell.execute_reply.started": "2024-05-10T21:15:28.327433Z"
    }
   },
   "outputs": [
    {
     "ename": "StopExecution",
     "evalue": "stopped",
     "output_type": "error",
     "traceback": []
    }
   ],
   "source": [
    "# need to wait until transcriptions are available\n",
    "exit_cell()"
   ]
  },
  {
   "cell_type": "code",
   "execution_count": 34,
   "id": "176457da-a7af-4861-9f67-6cc191c21151",
   "metadata": {
    "execution": {
     "iopub.execute_input": "2024-05-12T23:58:51.832569Z",
     "iopub.status.busy": "2024-05-12T23:58:51.832030Z",
     "iopub.status.idle": "2024-05-12T23:58:59.931358Z",
     "shell.execute_reply": "2024-05-12T23:58:59.930652Z",
     "shell.execute_reply.started": "2024-05-12T23:58:51.832549Z"
    }
   },
   "outputs": [
    {
     "name": "stdout",
     "output_type": "stream",
     "text": [
      "found 4 requests to fetch\n",
      "retrieved transcription [0]: abef8eb5-1c43-461c-ac09-10dc35ac691b -> file [81]: Henryk 2024-05-10 Tatuś opowiada o miejscach do których pójdz...\n",
      "retrieved transcription [1]: b575370a-df1c-43e5-8922-0ca9dad3efa4 -> file [85]: Rodzice Henryk 2024-05-05 Nagranie z wycieczki babci i dziadka.m...\n",
      "retrieved transcription [2]: 2ff72b9b-9f61-44ba-883b-192303965060 -> file [79]: Henryk 2024-05-06 Tatuś opowiada o rekrutacji a Megaterium to n...\n",
      "retrieved transcription [3]: b799e08c-b412-4fa2-a204-faac598c36f7 -> file [80]: Henryk 2024-05-08 Tatuś opowiada o robieniu komputera do oblicz...\n",
      "4 transcriptions were retrieved\n",
      "processing 503 transcriptions |██████████████████████████████████████████████████| 100.0% done.\n",
      "4 new transcriptions were processed, there are 503 txt and 503 doc transcriptions available\n"
     ]
    }
   ],
   "source": [
    "# retrieve goodtape server responses from webhooks\n",
    "transcription.retrieve_responses_goodtape_via_webhooks(\n",
    "    df=df,\n",
    "    webhooks_token_id=WEBHOOKS_TOKEN_ID, \n",
    "    path_transcriptions_json=DIR_TRANSCRIPTIONS_JSON\n",
    ")\n",
    "\n",
    "# process json to text\n",
    "transcription.process_transcriptions_json(\n",
    "    df=df, \n",
    "    path_transcriptions_json=DIR_TRANSCRIPTIONS_JSON, \n",
    "    path_transcriptions_txt=DIR_TRANSCRIPTIONS_TXT,\n",
    "    path_transcriptions_doc=DIR_TRANSCRIPTIONS_DOC,\n",
    "    to_doc=True,\n",
    "    to_txt=True,\n",
    "    verbose=False,\n",
    ")\n",
    "\n",
    "# process json to doc"
   ]
  },
  {
   "cell_type": "markdown",
   "id": "5dc3ac4a-cdcf-4de1-b626-5fedd64c6eab",
   "metadata": {},
   "source": [
    "## Cleanup missing requests\n",
    "- transcription ids for the requests that were lost will be removed, only those that were processed will remain"
   ]
  },
  {
   "cell_type": "code",
   "execution_count": 31,
   "id": "f2446222-fb6f-4d14-be7f-2500841239e5",
   "metadata": {
    "execution": {
     "iopub.execute_input": "2024-05-10T21:54:45.678141Z",
     "iopub.status.busy": "2024-05-10T21:54:45.677140Z",
     "iopub.status.idle": "2024-05-10T21:54:47.663029Z",
     "shell.execute_reply": "2024-05-10T21:54:47.661906Z",
     "shell.execute_reply.started": "2024-05-10T21:54:45.678111Z"
    }
   },
   "outputs": [
    {
     "name": "stdout",
     "output_type": "stream",
     "text": [
      "verifying 498 transcriptions |██████████████████████████████████████████████████| 100.0% done.\n",
      "there are 498 processed and valid transcriptions\n",
      "\u001b[22m\u001b[49m\u001b[92m*** all 498 recordings were transcribed ***\u001b[0m\n"
     ]
    }
   ],
   "source": [
    "# cleanup stale transcription ids - but work on a copy of the log\n",
    "df_transcriptions_to_write = transcription.get_verified_transcriptions(\n",
    "    df=df, \n",
    "    path_transcriptions_json=DIR_TRANSCRIPTIONS_JSON, \n",
    "    path_transcriptions_txt=DIR_TRANSCRIPTIONS_TXT,\n",
    "    path_transcriptions_doc=DIR_TRANSCRIPTIONS_DOC,\n",
    ")\n",
    "\n",
    "# save transcription log\n",
    "df_transcriptions_to_write.to_csv(FILE_TRANSCRIPTION_CSV, index=False)"
   ]
  },
  {
   "cell_type": "code",
   "execution_count": null,
   "id": "e769c7d0-622a-43d7-8482-ff9812700211",
   "metadata": {},
   "outputs": [],
   "source": []
  }
 ],
 "metadata": {
  "kernelspec": {
   "display_name": "Python [conda env:base] *",
   "language": "python",
   "name": "conda-base-py"
  },
  "language_info": {
   "codemirror_mode": {
    "name": "ipython",
    "version": 3
   },
   "file_extension": ".py",
   "mimetype": "text/x-python",
   "name": "python",
   "nbconvert_exporter": "python",
   "pygments_lexer": "ipython3",
   "version": "3.11.9"
  }
 },
 "nbformat": 4,
 "nbformat_minor": 5
}
