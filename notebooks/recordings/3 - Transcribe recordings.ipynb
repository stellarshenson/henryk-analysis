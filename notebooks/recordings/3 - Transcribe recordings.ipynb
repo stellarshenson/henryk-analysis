{
 "cells": [
  {
   "cell_type": "markdown",
   "id": "26c1897f-f9e2-4145-844c-4ce5f60b54a5",
   "metadata": {},
   "source": [
    "# Transcribe Recordings\n",
    "\n",
    "paid service [Goodtape](http://goodtape.io) will be used for the transcriptions"
   ]
  },
  {
   "cell_type": "markdown",
   "id": "55c7d390-2166-421c-acb9-fd8853cac4a8",
   "metadata": {},
   "source": [
    "## Imports"
   ]
  },
  {
   "cell_type": "code",
   "execution_count": 1,
   "id": "5a5c8bb7-b155-4e46-bd24-f0bee9422a63",
   "metadata": {
    "execution": {
     "iopub.execute_input": "2024-05-20T02:03:27.070589Z",
     "iopub.status.busy": "2024-05-20T02:03:27.070112Z",
     "iopub.status.idle": "2024-05-20T02:03:27.083050Z",
     "shell.execute_reply": "2024-05-20T02:03:27.082534Z",
     "shell.execute_reply.started": "2024-05-20T02:03:27.070569Z"
    },
    "tags": []
   },
   "outputs": [],
   "source": [
    "%reload_ext autoreload\n",
    "%autoreload 2"
   ]
  },
  {
   "cell_type": "code",
   "execution_count": 2,
   "id": "7a299954-a131-4796-bad5-c9b53d0eb8cb",
   "metadata": {
    "execution": {
     "iopub.execute_input": "2024-05-20T02:03:28.438334Z",
     "iopub.status.busy": "2024-05-20T02:03:28.438125Z",
     "iopub.status.idle": "2024-05-20T02:03:29.679505Z",
     "shell.execute_reply": "2024-05-20T02:03:29.678908Z",
     "shell.execute_reply.started": "2024-05-20T02:03:28.438316Z"
    }
   },
   "outputs": [],
   "source": [
    "import requests\n",
    "import pandas as pd\n",
    "import os\n",
    "import docx\n",
    "\n",
    "# local imports\n",
    "from lib_henryk.logger import *\n",
    "from lib_henryk.config import *\n",
    "from lib_henryk.utils import *\n",
    "\n",
    "from lib_henryk.recordings import transcription\n",
    "from lib_henryk.recordings import recordings"
   ]
  },
  {
   "cell_type": "markdown",
   "id": "0c26ac2e-7619-48cf-9412-290f1c7c4461",
   "metadata": {},
   "source": [
    "## Params"
   ]
  },
  {
   "cell_type": "code",
   "execution_count": 13,
   "id": "170fe65c-d43d-4157-9473-29a7a25b8d4f",
   "metadata": {
    "execution": {
     "iopub.execute_input": "2024-05-20T02:13:35.042992Z",
     "iopub.status.busy": "2024-05-20T02:13:35.042684Z",
     "iopub.status.idle": "2024-05-20T02:13:35.071382Z",
     "shell.execute_reply": "2024-05-20T02:13:35.070816Z",
     "shell.execute_reply.started": "2024-05-20T02:13:35.042974Z"
    }
   },
   "outputs": [],
   "source": [
    "# load api keys\n",
    "from dotenv import load_dotenv\n",
    "_ = load_dotenv()\n",
    "\n",
    "# retrieve new token by opening 'https://webhook.site/' in incognito mode\n",
    "# and picking up the token from the URL\n",
    "WEBHOOKS_TOKEN_ID = '69109a84-4073-4747-839d-81df514a77c0'\n",
    "GOODTAPE_API_KEY = os.getenv(\"GOODTAPE_API_KEY\")"
   ]
  },
  {
   "cell_type": "markdown",
   "id": "f2ff50ef-0490-42be-b84c-cf0f5f708f36",
   "metadata": {},
   "source": [
    "## Load Dataset"
   ]
  },
  {
   "cell_type": "code",
   "execution_count": 19,
   "id": "f59bfa37-d829-44eb-930c-29d56d91c092",
   "metadata": {
    "execution": {
     "iopub.execute_input": "2024-05-20T02:17:56.813100Z",
     "iopub.status.busy": "2024-05-20T02:17:56.812842Z",
     "iopub.status.idle": "2024-05-20T02:18:15.065452Z",
     "shell.execute_reply": "2024-05-20T02:18:15.064930Z",
     "shell.execute_reply.started": "2024-05-20T02:17:56.813079Z"
    }
   },
   "outputs": [
    {
     "name": "stdout",
     "output_type": "stream",
     "text": [
      "2024-05-20 02:17:57 - \u001b[32mINFO \u001b[0m - \u001b[34mget_recordings_info\u001b[0m - retrieved 508 files\n",
      "processing 508 audio files |██████████████████████████████████████████████████| 100.0% \n"
     ]
    }
   ],
   "source": [
    "# get fresh stats directly from the recordings\n",
    "df = recordings.get_recordings_info(path_recordings=DIR_WIADOMOSCI_DO_HENRYCZKA)"
   ]
  },
  {
   "cell_type": "markdown",
   "id": "34641782-a8f2-4743-9e49-09a1c5d363b4",
   "metadata": {},
   "source": [
    "## Run Transcriptions"
   ]
  },
  {
   "cell_type": "code",
   "execution_count": 23,
   "id": "6fd0deda-025c-49b8-b4d6-d5d2cda26e1a",
   "metadata": {
    "execution": {
     "iopub.execute_input": "2024-05-20T02:21:43.104756Z",
     "iopub.status.busy": "2024-05-20T02:21:43.104360Z",
     "iopub.status.idle": "2024-05-20T02:21:43.177267Z",
     "shell.execute_reply": "2024-05-20T02:21:43.176525Z",
     "shell.execute_reply.started": "2024-05-20T02:21:43.104736Z"
    }
   },
   "outputs": [
    {
     "name": "stdout",
     "output_type": "stream",
     "text": [
      "submitted 0 recordings to the transcription service GoodTape\n"
     ]
    }
   ],
   "source": [
    "# perform transcriptions\n",
    "transcription.submit_transcriptions_goodtape(\n",
    "    df=df, \n",
    "    webhooks_token_id=WEBHOOKS_TOKEN_ID,\n",
    "    goodtape_api_key=GOODTAPE_API_KEY,\n",
    "    path_recordings=DIR_WIADOMOSCI_DO_HENRYCZKA,\n",
    "    verbose=False\n",
    ")"
   ]
  },
  {
   "cell_type": "markdown",
   "id": "69d6291c-8a75-494e-add8-078fcdbdb391",
   "metadata": {},
   "source": [
    "## Fetch Transcriptions JSONs"
   ]
  },
  {
   "cell_type": "code",
   "execution_count": 7,
   "id": "5b6082ff-07ab-4699-9e40-b377f0a773dc",
   "metadata": {
    "execution": {
     "iopub.execute_input": "2024-05-10T21:15:28.327461Z",
     "iopub.status.busy": "2024-05-10T21:15:28.327110Z",
     "iopub.status.idle": "2024-05-10T21:15:28.364476Z",
     "shell.execute_reply": "2024-05-10T21:15:28.362443Z",
     "shell.execute_reply.started": "2024-05-10T21:15:28.327433Z"
    }
   },
   "outputs": [
    {
     "ename": "StopExecution",
     "evalue": "stopped",
     "output_type": "error",
     "traceback": []
    }
   ],
   "source": [
    "# need to wait until transcriptions are available\n",
    "exit_cell()"
   ]
  },
  {
   "cell_type": "code",
   "execution_count": 11,
   "id": "176457da-a7af-4861-9f67-6cc191c21151",
   "metadata": {
    "execution": {
     "iopub.execute_input": "2024-05-20T02:08:59.680686Z",
     "iopub.status.busy": "2024-05-20T02:08:59.680348Z",
     "iopub.status.idle": "2024-05-20T02:09:05.947437Z",
     "shell.execute_reply": "2024-05-20T02:09:05.946791Z",
     "shell.execute_reply.started": "2024-05-20T02:08:59.680664Z"
    }
   },
   "outputs": [
    {
     "name": "stdout",
     "output_type": "stream",
     "text": [
      "found 1 requests to fetch\n",
      "retrieved transcription [0]: 4c9b51f7-ca18-41fe-aa60-9bea29f060cc -> file [86]: Henryk 2024-05-17 Tatuś opowiada o zabawie z Hanią Tygrys Szab...\n",
      "1 transcriptions were retrieved\n",
      "processing 508 transcriptions |██████████████████████████████████████████████████| 100.0% done.\n",
      "1 new transcriptions were processed, there are 503 txt and 503 doc transcriptions available\n"
     ]
    }
   ],
   "source": [
    "# retrieve goodtape server responses from webhooks\n",
    "transcription.retrieve_responses_goodtape_via_webhooks(\n",
    "    df=df,\n",
    "    webhooks_token_id=WEBHOOKS_TOKEN_ID, \n",
    "    path_transcriptions_json=DIR_TRANSCRIPTIONS_JSON\n",
    ")\n",
    "\n",
    "# process json to text\n",
    "transcription.process_transcriptions_json(\n",
    "    df=df, \n",
    "    path_transcriptions_json=DIR_TRANSCRIPTIONS_JSON, \n",
    "    path_transcriptions_txt=DIR_TRANSCRIPTIONS_TXT,\n",
    "    path_transcriptions_doc=DIR_TRANSCRIPTIONS_DOC,\n",
    "    to_doc=True,\n",
    "    to_txt=True,\n",
    "    verbose=False,\n",
    ")\n",
    "\n",
    "# process json to doc"
   ]
  },
  {
   "cell_type": "markdown",
   "id": "5dc3ac4a-cdcf-4de1-b626-5fedd64c6eab",
   "metadata": {},
   "source": [
    "## Cleanup missing requests\n",
    "- transcription ids for the requests that were lost will be removed, only those that were processed will remain"
   ]
  },
  {
   "cell_type": "code",
   "execution_count": 24,
   "id": "f2446222-fb6f-4d14-be7f-2500841239e5",
   "metadata": {
    "execution": {
     "iopub.execute_input": "2024-05-20T02:22:16.481410Z",
     "iopub.status.busy": "2024-05-20T02:22:16.480982Z",
     "iopub.status.idle": "2024-05-20T02:22:18.633776Z",
     "shell.execute_reply": "2024-05-20T02:22:18.633236Z",
     "shell.execute_reply.started": "2024-05-20T02:22:16.481388Z"
    }
   },
   "outputs": [
    {
     "name": "stdout",
     "output_type": "stream",
     "text": [
      "verifying 508 transcriptions |██████████████████████████████████████████████████| 100.0% done.\n",
      "there are 508 processed and valid transcriptions\n",
      "\u001b[22m\u001b[49m\u001b[92m*** all 508 recordings were transcribed ***\u001b[0m\n"
     ]
    }
   ],
   "source": [
    "# cleanup stale transcription ids - but work on a copy of the log\n",
    "df_transcriptions_to_write = transcription.get_verified_transcriptions(\n",
    "    df=df, \n",
    "    path_transcriptions_json=DIR_TRANSCRIPTIONS_JSON, \n",
    "    path_transcriptions_txt=DIR_TRANSCRIPTIONS_TXT,\n",
    "    path_transcriptions_doc=DIR_TRANSCRIPTIONS_DOC,\n",
    ")\n",
    "\n",
    "# save transcription log\n",
    "df_transcriptions_to_write.to_csv(FILE_TRANSCRIPTION_CSV, index=False)"
   ]
  },
  {
   "cell_type": "code",
   "execution_count": null,
   "id": "37fdb755-ecfc-4c7f-806d-f713a45a8c01",
   "metadata": {},
   "outputs": [],
   "source": []
  }
 ],
 "metadata": {
  "kernelspec": {
   "display_name": "Python [conda env:base] *",
   "language": "python",
   "name": "conda-base-py"
  },
  "language_info": {
   "codemirror_mode": {
    "name": "ipython",
    "version": 3
   },
   "file_extension": ".py",
   "mimetype": "text/x-python",
   "name": "python",
   "nbconvert_exporter": "python",
   "pygments_lexer": "ipython3",
   "version": "3.11.9"
  }
 },
 "nbformat": 4,
 "nbformat_minor": 5
}
