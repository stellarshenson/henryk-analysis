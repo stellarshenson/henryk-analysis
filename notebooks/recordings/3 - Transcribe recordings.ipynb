{
 "cells": [
  {
   "cell_type": "markdown",
   "id": "26c1897f-f9e2-4145-844c-4ce5f60b54a5",
   "metadata": {},
   "source": [
    "# Transcribe Recordings\n",
    "paid service [Goodtape](http://goodtape.io) will be used for the transcriptions"
   ]
  },
  {
   "cell_type": "markdown",
   "id": "55c7d390-2166-421c-acb9-fd8853cac4a8",
   "metadata": {},
   "source": [
    "## Imports"
   ]
  },
  {
   "cell_type": "code",
   "execution_count": 1,
   "id": "5a5c8bb7-b155-4e46-bd24-f0bee9422a63",
   "metadata": {
    "execution": {
     "iopub.execute_input": "2024-05-07T20:42:56.908962Z",
     "iopub.status.busy": "2024-05-07T20:42:56.908812Z",
     "iopub.status.idle": "2024-05-07T20:42:56.922353Z",
     "shell.execute_reply": "2024-05-07T20:42:56.921713Z",
     "shell.execute_reply.started": "2024-05-07T20:42:56.908949Z"
    },
    "tags": []
   },
   "outputs": [],
   "source": [
    "%reload_ext autoreload\n",
    "%autoreload 2"
   ]
  },
  {
   "cell_type": "code",
   "execution_count": 283,
   "id": "7a299954-a131-4796-bad5-c9b53d0eb8cb",
   "metadata": {
    "execution": {
     "iopub.execute_input": "2024-05-08T09:14:25.746224Z",
     "iopub.status.busy": "2024-05-08T09:14:25.745834Z",
     "iopub.status.idle": "2024-05-08T09:14:25.811863Z",
     "shell.execute_reply": "2024-05-08T09:14:25.810789Z",
     "shell.execute_reply.started": "2024-05-08T09:14:25.746182Z"
    }
   },
   "outputs": [],
   "source": [
    "import requests\n",
    "import pandas as pd\n",
    "import os\n",
    "import shutil\n",
    "import io\n",
    "import json\n",
    "import math\n",
    "\n",
    "from requests.utils import quote\n",
    "\n",
    "# audio\n",
    "from pydub import AudioSegment\n",
    "\n",
    "# local imports\n",
    "from lib_henryk.logger import *\n",
    "from lib_henryk.config import *"
   ]
  },
  {
   "cell_type": "markdown",
   "id": "0c26ac2e-7619-48cf-9412-290f1c7c4461",
   "metadata": {},
   "source": [
    "## Params"
   ]
  },
  {
   "cell_type": "code",
   "execution_count": 3,
   "id": "170fe65c-d43d-4157-9473-29a7a25b8d4f",
   "metadata": {
    "execution": {
     "iopub.execute_input": "2024-05-07T20:42:57.369544Z",
     "iopub.status.busy": "2024-05-07T20:42:57.369318Z",
     "iopub.status.idle": "2024-05-07T20:42:57.398765Z",
     "shell.execute_reply": "2024-05-07T20:42:57.398152Z",
     "shell.execute_reply.started": "2024-05-07T20:42:57.369532Z"
    }
   },
   "outputs": [],
   "source": [
    "# load api keys\n",
    "from dotenv import load_dotenv\n",
    "_ = load_dotenv()\n",
    "\n",
    "# goodtape api key\n",
    "api_key = os.getenv(\"API_KEY_GOODTAPE\")"
   ]
  },
  {
   "cell_type": "markdown",
   "id": "f2ff50ef-0490-42be-b84c-cf0f5f708f36",
   "metadata": {},
   "source": [
    "## Load Dataset"
   ]
  },
  {
   "cell_type": "code",
   "execution_count": 188,
   "id": "f59bfa37-d829-44eb-930c-29d56d91c092",
   "metadata": {
    "execution": {
     "iopub.execute_input": "2024-05-08T04:47:02.881326Z",
     "iopub.status.busy": "2024-05-08T04:47:02.881114Z",
     "iopub.status.idle": "2024-05-08T04:47:02.907062Z",
     "shell.execute_reply": "2024-05-08T04:47:02.906544Z",
     "shell.execute_reply.started": "2024-05-08T04:47:02.881311Z"
    }
   },
   "outputs": [],
   "source": [
    "df = pd.read_csv(FILE_AUDIO_STATS_CSV)\n",
    "df_transcription = df.copy()\n",
    "df_transcription['transcription_id'] = ''"
   ]
  },
  {
   "cell_type": "markdown",
   "id": "34641782-a8f2-4743-9e49-09a1c5d363b4",
   "metadata": {},
   "source": [
    "## Run Transcriptions"
   ]
  },
  {
   "cell_type": "code",
   "execution_count": 259,
   "id": "227a3ae5-c90b-4da3-b2da-a49a3470aeb9",
   "metadata": {
    "execution": {
     "iopub.execute_input": "2024-05-08T07:43:11.262512Z",
     "iopub.status.busy": "2024-05-08T07:43:11.262157Z",
     "iopub.status.idle": "2024-05-08T07:46:58.576286Z",
     "shell.execute_reply": "2024-05-08T07:46:58.575230Z",
     "shell.execute_reply.started": "2024-05-08T07:43:11.262488Z"
    }
   },
   "outputs": [
    {
     "name": "stdout",
     "output_type": "stream",
     "text": [
      "file [35]: Henryk 2022-07-04 Bajka o Wiewiórce.m4a already submitted for transcription: e7f97d32-9fea-494c-9dab-a3ac57156c6b\n",
      "file [36]: Henryk 2022-07-05 Bajka o pogodowym królestwie.m4a already submitted for transcription: 1a9dbe63-8252-40f4-9c67-3ee5e87b7606\n",
      "file [37]: Henryk 2022-07-06 Bajka o Choince.m4a already submitted for transcription: b6391df4-9d17-4a2b-b9e6-f2325797f80c\n",
      "file [38]: Henryk 2022-07-07 Bajka o Ciuchci.m4a already submitted for transcription: d2bc1452-4d68-4071-97ac-0cb85fcc89a9\n",
      "processing [39]: Henryk 2022-07-08 Bajka o jelonku.m4a\n",
      "processing [40]: Henryk 2022-07-11 Bajka o Filemonie i Bonifacym.m4a\n",
      "processing [41]: Henryk 2022-07-12 Puchatek i pszczoły.m4a\n",
      "processing [42]: Henryk 2022-07-13 Puchatek utknął.m4a\n",
      "processing [43]: Henryk 2022-07-14 Ja Bonifacy.m4a\n",
      "processing [44]: Henryk 2022-07-15 Nazywam sie Filemon.m4a\n",
      "processing [45]: Henryk 2022-07-16 Filemon Czarne myszy.m4a\n",
      "processing [46]: Henryk 2022-07-18 Jak wygląda Filemon.m4a\n",
      "processing [47]: Henryk 2022-07-19 Puchatek tropi łasicę.m4a\n",
      "processing [48]: Henryk 2022-07-20 Filemon w Lesie.m4a\n",
      "processing [49]: Henryk 2022-07-21 Puchatek znajduje ogon Kłapouchego.m4a\n",
      "processing [50]: Henryk 2022-07-22 Puchatek łapie słonia.m4a\n",
      "processing [51]: Henryk 2022-07-25 Filemon i Masz Babo Placek.m4a\n",
      "processing [52]: Henryk 2022-07-27 Puchatek i rozmowa o Kangurzycy.m4a\n",
      "processing [53]: Henryk 2022-07-29 Puchatek i porwanie malenstwa.m4a\n",
      "processing [54]: Henryk 2022-07-31 Puchatek i przyprawa na biegun.m4a\n",
      "processing [55]: Henryk 2022-08-01 Puchatek i dalsza czesc przyprawy.m4a\n",
      "processing [56]: Henryk 2022-08-02 Puchatek znalazl biegun północny.m4a\n",
      "processing [57]: Henryk 2022-08-04 Prosiaczek i woda.m4a\n",
      "processing [58]: Henryk 2022-08-05 Puchatek otoczony wodą.m4a\n",
      "processing [59]: Henryk 2022-08-06 Puchatek i Krzyś uratowali prosiaczka.m4a\n",
      "processing [60]: Henryk 2022-08-10 Puchatek i przyjęcie na jego cześć.m4a\n",
      "processing [61]: Henryk 2022-08-12 Puchatek i koniec przyjęcia.m4a\n",
      "processing [62]: Henryk 2022-08-14 Powstaje Chatka Puchatka.m4a\n",
      "processing [63]: Henryk 2022-08-15 Puchatek buduje chatkę Kłapouchemu.m4a\n",
      "processing [64]: Henryk 2022-08-16 Koniec bajki o powstaniu Chatki Puchatka.m4a\n",
      "processing [65]: Henryk 2022-08-17 Puchatek i Tygrysek spotykają się.m4a\n",
      "processing [66]: Henryk 2022-08-18 Puchatek i Tygrysek u Kłapouchego.m4a\n",
      "processing [67]: Henryk 2022-08-19 Puchatek i Tygrysek u Kangurzycy.m4a\n",
      "processing [68]: Henryk 2022-08-21 Puchatek na poszukiwaniu Małego.m4a\n",
      "processing [69]: Henryk 2022-08-23 Puchatek i Prosiaczek w pułapce na słonia.m4a\n",
      "processing [70]: Henryk 2022-08-24 Puchatek i Prosiaczek znaleźli Małego.m4a\n",
      "processing [71]: Henryk 2022-08-25  Puchatek wyrusza w odwiedziny a Prosiaczek sadzi żołądź.m4a\n",
      "processing [72]: Henryk 2022-08-26 Puchatek z prosiaczkiem spotykają tygrysa na sośnie.m4a\n",
      "processing [73]: Henryk 2022-08-29 Puchatek, Krzyś, Kłapouchy i Prosiaczek ratują Tygrysa.m4a\n",
      "processing [74]: Henryk 2022-08-30 Przed wyjazdem do Warszawy.m4a\n",
      "processing [75]: Henryk 2022-09-02 Królik poszedł do Krzysia.m4a\n",
      "processing [76]: Henryk 2022-09-03 Królik u Sowy Przemądrzałej.m4a\n",
      "processing [77]: Henryk 2022-09-05 Królik przychodzi do Puchatka by zapytać o Krzysia.m4a\n",
      "processing [78]: Henryk 2022-09-06 Królik i Prosiaczek pytają Kłapouchego o Krzysia.m4a\n",
      "processing [79]: Henryk 2022-09-07 Puchatek bawi sie szyszkami w rzece.m4a\n",
      "processing [80]: Henryk 2022-09-09 Puchatek zobaczył Kłapouchego w rzece.m4a\n",
      "processing [81]: Henryk 2022-09-10 Puchatek uratował Kłapouchego i pdzyszedł Krzyś.m4a\n",
      "processing [82]: Henryk 2022-09-12 Królik wymyślił jak wraz z Puchatkiem i Prosiaczkiem odbryknąć Tygryska.m4a\n",
      "processing [83]: Henryk 2022-09-13 Puchatek, Prosiaczek i Królik wyruszyli by odbryknąć Tygryska.m4a\n",
      "processing [84]: Henryk 2022-09-14 Puchatek, Prosiaczek i Królik zgubili się w lesie.m4a\n",
      "processing [85]: Henryk 2022-09-15 Puchatek, Prosiaczek i Królik się zgubili i znaleźli.m4a\n",
      "processing [86]: Henryk 2022-09-16 Puchatek i Prosiaczek poszli odwiedzić wszystkich.m4a\n",
      "processing [87]: Henryk 2022-09-18 Puchatek i Prosiaczek odwiedzają Sowę i wtedy silny wiatr przewraca dom Sowy.m4a\n",
      "processing [88]: Henryk 2022-09-19 Puchatek wymyśla jak wszystkich uratować.m4a\n",
      "processing [89]: Henryk 2022-09-20 Prosiaczek wydostaje się przez skrzynkę na listy Sowy i ratuje Sowę i Puchatka.m4a\n",
      "processing [90]: Henryk 2022-09-22 Puchatek układa piosenkę o domku Sowy i o dzielnym Prosiaczku.m4a\n",
      "processing [91]: Henryk 2022-09-23 Królik odwiedza Kłapouchego a Puchatek mówi Prosiaczkowi o mruczance dla niego.m4a\n",
      "processing [92]: Henryk 2022-09-24 Wszyscy pracują przy starym mieszkaniu Sowy a Puchatek śpiewa wszystkim piosenkę o Prosiaczku.m4a\n",
      "processing [93]: Henryk 2022-09-26 Kłapouchy znajduje nowy dom dla Sowy.m4a\n",
      "processing [94]: Henryk 2022-09-27 Wszyscy przeczuwają, że Krzyś odejdzie, więc Kłapouchy skomponował o tym poemat.m4a\n",
      "processing [95]: Henryk 2022-09-28 Wszyscy podpisują rezolucję a potem Krzyś tłumaczy Puchatkowi co to znaczy nie robić nic.m4a\n",
      "processing [96]: Henryk 2022-09-29 Krzyś żegna się z puchatkiem na Zaczarowanej Polanie i opowoada mu o Królach, Rycerzach i Mnożnikach. A Puchatek nic nie rozumie.m4a\n",
      "processing [97]: Henryk 2022-09-30 Poznajemy Kubusia Puchatka i udaje się on z balonikiem po miód.m4a\n",
      "processing [98]: Henryk 2022-10-01 Kubuś Puchatek udaje chmurkę by zmylić pszczoły, ale mu się to nie udaje.m4a\n",
      "processing [99]: Henryk 2022-10-03 Kubuś Puchatek udaje się w odwiedziny do Królika.m4a\n",
      "submitting transcriptions completed\n"
     ]
    }
   ],
   "source": [
    "# re-read transcription log\n",
    "if os.path.exists(FILE_TRANSCRIPTION_CSV):\n",
    "    df_transcription = pd.read_csv(FILE_TRANSCRIPTION_CSV)\n",
    "\n",
    "# set up callback\n",
    "token_id = '301e3cc2-1072-4d10-8662-75ad29978cde'\n",
    "callback_url = f'https://webhook.site/{token_id}'\n",
    "\n",
    "# load just few records\n",
    "for index, row in df_transcription[35:100].iterrows():\n",
    "    file_path = DIR_WIADOMOSCI_DO_HENRYCZKA + '/' + row['path']\n",
    "    file_name = row['file']\n",
    "    transcription_id = row['transcription_id']\n",
    "\n",
    "    # copy file to /tmp, curl has issue with some paths\n",
    "    temp_ext = file_name.split('.')[-1]\n",
    "    temp_path = f'/tmp/recording.{temp_ext}'\n",
    "    shutil.copy(file_path, temp_path)\n",
    "\n",
    "    # run transcription API if needed\n",
    "    if transcription_id == '' \\\n",
    "    or type(transcription_id) != str:\n",
    "        print(f'processing [{index}]: {file_name}')\n",
    "        \n",
    "        response = !curl -X POST \"https://api.goodtape.io/transcribe\" \\\n",
    "        -H \"Authorization: {api_key}\" \\\n",
    "        -F \"audio=@{temp_path}\" \\\n",
    "        -F \"callbackUrl={callback_url}\" \\\n",
    "        -F \"languageCode=pl\" \\\n",
    "        -F \"speakerLabels=true\" \\\n",
    "        -F \"timeStamps=false\"\n",
    "\n",
    "        try:\n",
    "            response_json = json.loads(response[-1])\n",
    "            transcription_id = response_json['transcriptionId']\n",
    "            df_transcription.loc[index, 'transcription_id'] = transcription_id\n",
    "        except:\n",
    "            print(response)\n",
    "            break\n",
    "    else:\n",
    "        print(f'file [{index}]: {file_name} already submitted for transcription: {transcription_id}')\n",
    "\n",
    "# save transcription log\n",
    "df_transcription.to_csv(FILE_TRANSCRIPTION_CSV)\n",
    "print(f'submitting transcriptions completed')"
   ]
  },
  {
   "cell_type": "markdown",
   "id": "69d6291c-8a75-494e-add8-078fcdbdb391",
   "metadata": {},
   "source": [
    "## Fetch Transcriptions"
   ]
  },
  {
   "cell_type": "code",
   "execution_count": 290,
   "id": "176457da-a7af-4861-9f67-6cc191c21151",
   "metadata": {
    "execution": {
     "iopub.execute_input": "2024-05-08T09:23:02.152832Z",
     "iopub.status.busy": "2024-05-08T09:23:02.152539Z",
     "iopub.status.idle": "2024-05-08T09:23:02.611093Z",
     "shell.execute_reply": "2024-05-08T09:23:02.609888Z",
     "shell.execute_reply.started": "2024-05-08T09:23:02.152811Z"
    }
   },
   "outputs": [
    {
     "name": "stdout",
     "output_type": "stream",
     "text": [
      "found 0 requests to fetch\n",
      "transcriptions were processed, there are 39 transcriptions available\n"
     ]
    }
   ],
   "source": [
    "# create new column if needed\n",
    "if not 'processed' in  df_transcription.columns.to_list():\n",
    "    df_transcription['processed'] = False\n",
    "\n",
    "# use webhooks.site API to pull latest requests list\n",
    "headers = {}\n",
    "r = requests.get('https://webhook.site/token/'+ TOKEN_ID +'/requests?sorting=newest', headers=headers)\n",
    "print(f'found {len(r.json()[\"data\"])} requests to fetch')\n",
    "\n",
    "# process requests one by one\n",
    "for i, request in enumerate(r.json()['data']):\n",
    "    # fetch the data         \n",
    "    response = requests.get(f'https://webhook.site/token/{token_id}/request/{request[\"uuid\"]}/raw')\n",
    "    json_content = response.json()\n",
    "    transcription_id = json_content['transcription_id']\n",
    "    json_filename = f'{DIR_TRANSCRIPTIONS_JSON}/{transcription_id}.json'\n",
    "\n",
    "    # write json file\n",
    "    out_file = open(f'{json_filename}', \"w\") \n",
    "    json.dump(json_content, out_file, indent = 4) \n",
    "    out_file.close() \n",
    "\n",
    "    # find record with the transcription id and get the content from json\n",
    "    row = df_transcription[df_transcription['transcription_id'] == transcription_id].iloc[0]\n",
    "    file_name = row['file']\n",
    "    file_name_without_ext = '.'.join(row['file'].split('.')[:-1])\n",
    "    transcription_filename = f'{DIR_TRANSCRIPTIONS}/{file_name_without_ext}.txt'\n",
    "    transcription_text = json_content['content']['text']\n",
    "    \n",
    "    # write to the final destination\n",
    "    with open(transcription_filename, 'w') as file:\n",
    "        file.write(transcription_text)\n",
    "        file.close()\n",
    "\n",
    "    # mark as done in the transcription log\n",
    "    df_transcription.loc[index, 'processed'] = True\n",
    "    print(f'processed request [{i}] {transcription_id}: {transcription_filename.split(\"/\")[-1]}')\n",
    "\n",
    "    # clean up this request as it was fetched\n",
    "    response = requests.delete(f'https://webhook.site/token/{token_id}/request/{request[\"uuid\"]}')\n",
    "\n",
    "# save transription log\n",
    "df_transcription.to_csv(FILE_TRANSCRIPTION_CSV)\n",
    "\n",
    "# print message that we are done\n",
    "print(f'transcriptions were processed, there are {len(df_transcription[df_transcription[\"processed\"] == True])} transcriptions available')"
   ]
  },
  {
   "cell_type": "markdown",
   "id": "abc4ed98-4711-4b43-b3db-bf08246a73e9",
   "metadata": {},
   "source": [
    "## See how we are"
   ]
  },
  {
   "cell_type": "code",
   "execution_count": null,
   "id": "9c98b4c8-20a4-4632-a5a7-228b02e761da",
   "metadata": {},
   "outputs": [],
   "source": []
  }
 ],
 "metadata": {
  "kernelspec": {
   "display_name": "Python [conda env:base] *",
   "language": "python",
   "name": "conda-base-py"
  },
  "language_info": {
   "codemirror_mode": {
    "name": "ipython",
    "version": 3
   },
   "file_extension": ".py",
   "mimetype": "text/x-python",
   "name": "python",
   "nbconvert_exporter": "python",
   "pygments_lexer": "ipython3",
   "version": "3.11.9"
  }
 },
 "nbformat": 4,
 "nbformat_minor": 5
}
