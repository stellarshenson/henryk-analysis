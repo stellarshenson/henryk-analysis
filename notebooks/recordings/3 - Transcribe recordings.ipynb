{
 "cells": [
  {
   "cell_type": "markdown",
   "id": "26c1897f-f9e2-4145-844c-4ce5f60b54a5",
   "metadata": {},
   "source": [
    "# Transcribe Recordings\n",
    "\n",
    "paid service [Goodtape](http://goodtape.io) will be used for the transcriptions. And [webhooks](https://webhook.site/) for retrieval of them asynchronously"
   ]
  },
  {
   "cell_type": "markdown",
   "id": "55c7d390-2166-421c-acb9-fd8853cac4a8",
   "metadata": {},
   "source": [
    "## Imports"
   ]
  },
  {
   "cell_type": "code",
   "execution_count": 1,
   "id": "5a5c8bb7-b155-4e46-bd24-f0bee9422a63",
   "metadata": {
    "execution": {
     "iopub.execute_input": "2024-06-20T22:31:51.640828Z",
     "iopub.status.busy": "2024-06-20T22:31:51.640666Z",
     "iopub.status.idle": "2024-06-20T22:31:51.663410Z",
     "shell.execute_reply": "2024-06-20T22:31:51.662364Z",
     "shell.execute_reply.started": "2024-06-20T22:31:51.640814Z"
    },
    "tags": []
   },
   "outputs": [],
   "source": [
    "%reload_ext autoreload\n",
    "%autoreload 2"
   ]
  },
  {
   "cell_type": "code",
   "execution_count": 3,
   "id": "7a299954-a131-4796-bad5-c9b53d0eb8cb",
   "metadata": {
    "execution": {
     "iopub.execute_input": "2024-06-20T22:32:28.598374Z",
     "iopub.status.busy": "2024-06-20T22:32:28.597937Z",
     "iopub.status.idle": "2024-06-20T22:32:29.418079Z",
     "shell.execute_reply": "2024-06-20T22:32:29.417533Z",
     "shell.execute_reply.started": "2024-06-20T22:32:28.598354Z"
    }
   },
   "outputs": [],
   "source": [
    "import requests\n",
    "import pandas as pd\n",
    "import os\n",
    "import docx\n",
    "import os\n",
    "import re\n",
    "from glob import glob\n",
    "import json\n",
    "\n",
    "# local imports\n",
    "from lib_henryk.logger import *\n",
    "from lib_henryk.config import *\n",
    "from lib_henryk.utils import *\n",
    "\n",
    "from lib_henryk.recordings import transcriptions\n",
    "from lib_henryk.recordings import recordings"
   ]
  },
  {
   "cell_type": "markdown",
   "id": "0c26ac2e-7619-48cf-9412-290f1c7c4461",
   "metadata": {},
   "source": [
    "## Params\n",
    "You need to retrieve webhooks token ID from the [webhooks](https://webhook.site/) website. You can use this website to verify which transcriptions were made already. Notebook functions will make sure old requests that were processed are getting removed. Webhooks has a free quota of approx 100 requests. You can go around it by opening the webhooks site in the incognito window \n",
    "\n",
    "![webhooks-token-id](../../references/images/webhooks-token-id.png)"
   ]
  },
  {
   "cell_type": "code",
   "execution_count": 6,
   "id": "170fe65c-d43d-4157-9473-29a7a25b8d4f",
   "metadata": {
    "execution": {
     "iopub.execute_input": "2024-06-20T22:55:27.444683Z",
     "iopub.status.busy": "2024-06-20T22:55:27.444195Z",
     "iopub.status.idle": "2024-06-20T22:55:27.466639Z",
     "shell.execute_reply": "2024-06-20T22:55:27.465723Z",
     "shell.execute_reply.started": "2024-06-20T22:55:27.444660Z"
    }
   },
   "outputs": [],
   "source": [
    "# load api keys\n",
    "from dotenv import load_dotenv\n",
    "_ = load_dotenv()\n",
    "\n",
    "# retrieve new token by opening 'https://webhook.site/' in incognito mode\n",
    "# and picking up the token from the URL\n",
    "WEBHOOKS_TOKEN_ID = 'f4185167-7263-41d5-b39d-bd5923556c56'\n",
    "GOODTAPE_API_KEY = os.getenv(\"GOODTAPE_API_KEY\")"
   ]
  },
  {
   "cell_type": "markdown",
   "id": "f2ff50ef-0490-42be-b84c-cf0f5f708f36",
   "metadata": {},
   "source": [
    "## Load Dataset"
   ]
  },
  {
   "cell_type": "code",
   "execution_count": 93,
   "id": "f59bfa37-d829-44eb-930c-29d56d91c092",
   "metadata": {
    "execution": {
     "iopub.execute_input": "2024-06-20T23:52:01.447764Z",
     "iopub.status.busy": "2024-06-20T23:52:01.446993Z",
     "iopub.status.idle": "2024-06-20T23:52:01.767980Z",
     "shell.execute_reply": "2024-06-20T23:52:01.767400Z",
     "shell.execute_reply.started": "2024-06-20T23:52:01.447741Z"
    }
   },
   "outputs": [],
   "source": [
    "# get fresh stats directly from the recordings\n",
    "df_transcriptions_log, df_transcriptions = transcriptions.init(transcriptions_parquet_path=FILE_TRANSCRIPTIONS_PARQUET)"
   ]
  },
  {
   "cell_type": "code",
   "execution_count": 94,
   "id": "ff5236f1-9d6d-4e9e-a18f-75dd71667a8e",
   "metadata": {
    "execution": {
     "iopub.execute_input": "2024-06-20T23:52:03.445127Z",
     "iopub.status.busy": "2024-06-20T23:52:03.444613Z",
     "iopub.status.idle": "2024-06-20T23:52:03.469215Z",
     "shell.execute_reply": "2024-06-20T23:52:03.468097Z",
     "shell.execute_reply.started": "2024-06-20T23:52:03.445100Z"
    }
   },
   "outputs": [
    {
     "data": {
      "text/html": [
       "<div>\n",
       "<style scoped>\n",
       "    .dataframe tbody tr th:only-of-type {\n",
       "        vertical-align: middle;\n",
       "    }\n",
       "\n",
       "    .dataframe tbody tr th {\n",
       "        vertical-align: top;\n",
       "    }\n",
       "\n",
       "    .dataframe thead th {\n",
       "        text-align: right;\n",
       "    }\n",
       "</style>\n",
       "<table border=\"1\" class=\"dataframe\">\n",
       "  <thead>\n",
       "    <tr style=\"text-align: right;\">\n",
       "      <th></th>\n",
       "      <th>name</th>\n",
       "      <th>transcription</th>\n",
       "    </tr>\n",
       "  </thead>\n",
       "  <tbody>\n",
       "    <tr>\n",
       "      <th>0</th>\n",
       "      <td>Henryk 2022-05-26 Bajka o nowym samochodziku</td>\n",
       "      <td>Cześć Henryczku, cześć kochanie. Twój tatuś mó...</td>\n",
       "    </tr>\n",
       "    <tr>\n",
       "      <th>1</th>\n",
       "      <td>Henryk 2022-05-27 Bajka o Eryku r1</td>\n",
       "      <td>Cześć Henryczku. Mówi twój tatuś, kochanie. Ta...</td>\n",
       "    </tr>\n",
       "    <tr>\n",
       "      <th>2</th>\n",
       "      <td>Henryk 2022-05-28 Bajka o swince peppie i domu...</td>\n",
       "      <td>Cześć Henryczku, cześć kochanie, twój tatuś je...</td>\n",
       "    </tr>\n",
       "    <tr>\n",
       "      <th>3</th>\n",
       "      <td>Henryk 2022-05-30 Bajka o parku dinozaurow</td>\n",
       "      <td>Cześć Henryczku. Cześć kochanie. To twój tatuś...</td>\n",
       "    </tr>\n",
       "    <tr>\n",
       "      <th>4</th>\n",
       "      <td>Henryk 2022-05-31 Bajka o drużynie koszykowki</td>\n",
       "      <td>Cześć kochanie, cześć Henryczku, kochany najdr...</td>\n",
       "    </tr>\n",
       "    <tr>\n",
       "      <th>...</th>\n",
       "      <td>...</td>\n",
       "      <td>...</td>\n",
       "    </tr>\n",
       "    <tr>\n",
       "      <th>523</th>\n",
       "      <td>Henryk 2024-06-10 Tatuś opowiada o sztucznej ...</td>\n",
       "      <td>Cześć Henryczku, cześć kochanie, cześć mój syn...</td>\n",
       "    </tr>\n",
       "    <tr>\n",
       "      <th>524</th>\n",
       "      <td>Henryk 2024-06-12 Tatuś opowiada o dniu rodzi...</td>\n",
       "      <td>Cześć mój syneczku kochany Cześć Henryczko Cze...</td>\n",
       "    </tr>\n",
       "    <tr>\n",
       "      <th>525</th>\n",
       "      <td>Henryk 2024-06-14 Tatuś opowiada o kotku przy...</td>\n",
       "      <td>Cześć, Henryczku. Cześć, kochanie. Cześć, mój ...</td>\n",
       "    </tr>\n",
       "    <tr>\n",
       "      <th>526</th>\n",
       "      <td>Rodzice Henryk 2024-06-15 Babcia i Dziadek opo...</td>\n",
       "      <td>Dobrze. Halo. Dzień... Halo, obniż. Mówię do C...</td>\n",
       "    </tr>\n",
       "    <tr>\n",
       "      <th>527</th>\n",
       "      <td>Henryk 2024-06-16 Tatuś opowiada o zabawie z ...</td>\n",
       "      <td>Cześć Henryczku, cześć kochanie, cześć mój syn...</td>\n",
       "    </tr>\n",
       "  </tbody>\n",
       "</table>\n",
       "<p>528 rows × 2 columns</p>\n",
       "</div>"
      ],
      "text/plain": [
       "                                                  name  \\\n",
       "0         Henryk 2022-05-26 Bajka o nowym samochodziku   \n",
       "1                   Henryk 2022-05-27 Bajka o Eryku r1   \n",
       "2    Henryk 2022-05-28 Bajka o swince peppie i domu...   \n",
       "3           Henryk 2022-05-30 Bajka o parku dinozaurow   \n",
       "4       Henryk 2022-05-31 Bajka o drużynie koszykowki   \n",
       "..                                                 ...   \n",
       "523  Henryk 2024-06-10 Tatuś opowiada o sztucznej ...   \n",
       "524  Henryk 2024-06-12 Tatuś opowiada o dniu rodzi...   \n",
       "525  Henryk 2024-06-14 Tatuś opowiada o kotku przy...   \n",
       "526  Rodzice Henryk 2024-06-15 Babcia i Dziadek opo...   \n",
       "527  Henryk 2024-06-16 Tatuś opowiada o zabawie z ...   \n",
       "\n",
       "                                         transcription  \n",
       "0    Cześć Henryczku, cześć kochanie. Twój tatuś mó...  \n",
       "1    Cześć Henryczku. Mówi twój tatuś, kochanie. Ta...  \n",
       "2    Cześć Henryczku, cześć kochanie, twój tatuś je...  \n",
       "3    Cześć Henryczku. Cześć kochanie. To twój tatuś...  \n",
       "4    Cześć kochanie, cześć Henryczku, kochany najdr...  \n",
       "..                                                 ...  \n",
       "523  Cześć Henryczku, cześć kochanie, cześć mój syn...  \n",
       "524  Cześć mój syneczku kochany Cześć Henryczko Cze...  \n",
       "525  Cześć, Henryczku. Cześć, kochanie. Cześć, mój ...  \n",
       "526  Dobrze. Halo. Dzień... Halo, obniż. Mówię do C...  \n",
       "527  Cześć Henryczku, cześć kochanie, cześć mój syn...  \n",
       "\n",
       "[528 rows x 2 columns]"
      ]
     },
     "execution_count": 94,
     "metadata": {},
     "output_type": "execute_result"
    }
   ],
   "source": [
    "df_transcriptions"
   ]
  },
  {
   "cell_type": "markdown",
   "id": "34641782-a8f2-4743-9e49-09a1c5d363b4",
   "metadata": {},
   "source": [
    "## Run Transcriptions"
   ]
  },
  {
   "cell_type": "code",
   "execution_count": 14,
   "id": "6fd0deda-025c-49b8-b4d6-d5d2cda26e1a",
   "metadata": {
    "execution": {
     "iopub.execute_input": "2024-06-20T22:59:00.833190Z",
     "iopub.status.busy": "2024-06-20T22:59:00.832797Z",
     "iopub.status.idle": "2024-06-20T23:02:21.118118Z",
     "shell.execute_reply": "2024-06-20T23:02:21.117410Z",
     "shell.execute_reply.started": "2024-06-20T22:59:00.833166Z"
    }
   },
   "outputs": [
    {
     "name": "stdout",
     "output_type": "stream",
     "text": [
      "processing [87]: Henryk 2024-05-20 Tatuś opowiada o malowanou poko...\n",
      "processing [88]: Henryk 2024-05-22 Tatuś opowiada o przyjęciu a Mer...\n",
      "processing [89]: Henryk 2024-05-24 Tatuś opowiada o zabawkach dla p...\n",
      "processing [90]: Henryk 2024-05-25 Tatuś wyjechał z wujkiem na row...\n",
      "processing [91]: Henryk 2024-05-26 Tatuś opowiada o dniu Mamy a Ba...\n",
      "processing [92]: Henryk 2024-05-27 Tatuś opowiada o ciężarówce ...\n",
      "processing [93]: Henryk 2024-05-29 Tatuś opowiada o cioci Patrycji...\n",
      "processing [94]: Henryk 2024-05-31 Tatuś opowiada o smokach i stan...\n",
      "processing [95]: Henryk 2024-06-01 Tatuś opowiada o dniu dziecka i...\n",
      "processing [96]: Henryk 2024-06-02 Tatuś opowiada o podróży do S...\n",
      "processing [97]: Henryk 2024-06-03 Tatuś opowiada o chmurze i konf...\n",
      "processing [98]: Henryk 2024-06-05 Tatuś opowiada o Krówkowie i P...\n",
      "processing [99]: Henryk 2024-06-07 Tatuś opowiada o hulajnodze i n...\n",
      "processing [100]: Henryk 2024-06-09 Tatuś opowiada o tym jak powsta...\n",
      "processing [101]: Henryk 2024-06-10 Tatuś opowiada o sztucznej inte...\n",
      "processing [102]: Henryk 2024-06-12 Tatuś opowiada o dniu rodziny i...\n",
      "processing [103]: Henryk 2024-06-14 Tatuś opowiada o kotku przyjaci...\n",
      "processing [104]: Henryk 2024-06-16 Tatuś opowiada o zabawie z kuzy...\n",
      "processing [109]: Rodzice Henryk 2024-06-01 Babusia i Dziadziuś opo...\n",
      "processing [110]: Rodzice Henryk 2024-06-15 Babcia i Dziadek opowiad...\n",
      "submitted 20 recordings to the transcription service GoodTape\n"
     ]
    }
   ],
   "source": [
    "# perform transcriptions\n",
    "df_transcriptions_log = transcriptions.submit_transcriptions_goodtape( \n",
    "    df_transcriptions_log=df_transcriptions_log,\n",
    "    df_transcriptions=df_transcriptions,\n",
    "    webhooks_token_id=WEBHOOKS_TOKEN_ID,\n",
    "    goodtape_api_key=GOODTAPE_API_KEY,\n",
    "    path_recordings=DIR_RECORDINGS,\n",
    "    verbose=False\n",
    ")"
   ]
  },
  {
   "cell_type": "markdown",
   "id": "69d6291c-8a75-494e-add8-078fcdbdb391",
   "metadata": {},
   "source": [
    "## Fetch Transcriptions JSONs"
   ]
  },
  {
   "cell_type": "code",
   "execution_count": null,
   "id": "5b6082ff-07ab-4699-9e40-b377f0a773dc",
   "metadata": {},
   "outputs": [],
   "source": [
    "# need to wait until transcriptions are available\n",
    "exit_cell()"
   ]
  },
  {
   "cell_type": "code",
   "execution_count": 34,
   "id": "dc3204e2-5bc6-47f5-89bb-1950ba161355",
   "metadata": {
    "execution": {
     "iopub.execute_input": "2024-06-20T23:24:33.698133Z",
     "iopub.status.busy": "2024-06-20T23:24:33.697618Z",
     "iopub.status.idle": "2024-06-20T23:24:33.969160Z",
     "shell.execute_reply": "2024-06-20T23:24:33.968362Z",
     "shell.execute_reply.started": "2024-06-20T23:24:33.698108Z"
    }
   },
   "outputs": [
    {
     "name": "stdout",
     "output_type": "stream",
     "text": [
      "found 0 requests to fetch\n",
      "0 transcriptions were retrieved\n",
      "\u001b[22m\u001b[49m\u001b[92m*** all submitted recordings were transcribed ***\u001b[0m\n"
     ]
    }
   ],
   "source": [
    "# retrieve goodtape server responses from webhooks\n",
    "df_transcriptions_log, df_transcriptions = transcriptions.retrieve_responses_goodtape_via_webhooks(\n",
    "    df_transcriptions_log=df_transcriptions_log,\n",
    "    df_transcriptions=df_transcriptions,\n",
    "    webhooks_token_id=WEBHOOKS_TOKEN_ID, \n",
    ")"
   ]
  },
  {
   "cell_type": "code",
   "execution_count": 26,
   "id": "bde76ac8-5fe1-46a0-b991-0a615d864532",
   "metadata": {
    "execution": {
     "iopub.execute_input": "2024-06-20T23:16:24.204402Z",
     "iopub.status.busy": "2024-06-20T23:16:24.204156Z",
     "iopub.status.idle": "2024-06-20T23:16:27.092557Z",
     "shell.execute_reply": "2024-06-20T23:16:27.091960Z",
     "shell.execute_reply.started": "2024-06-20T23:16:24.204386Z"
    }
   },
   "outputs": [
    {
     "name": "stdout",
     "output_type": "stream",
     "text": [
      "processing 529 transcriptions |██████████████████████████████████████████████████| 100.0% done.\n",
      "0 new transcriptions were processed, there are 529 doc transcriptions available\n"
     ]
    }
   ],
   "source": [
    "# process transcriptions to doc\n",
    "transcriptions.transcriptions_to_doc(\n",
    "    df_transcriptions=df_transcriptions, \n",
    "    doc_template_path=FILE_TRANSCRIPTION_TEMPLATE,\n",
    "    path_transcriptions_doc=DIR_TRANSCRIPTIONS_DOC,\n",
    "    overwrite=True,\n",
    "    verbose=False,\n",
    ")"
   ]
  },
  {
   "cell_type": "markdown",
   "id": "5dc3ac4a-cdcf-4de1-b626-5fedd64c6eab",
   "metadata": {},
   "source": [
    "## Cleanup missing requests\n",
    "- transcription ids for the requests that were lost will be removed, only those that were processed will remain"
   ]
  },
  {
   "cell_type": "code",
   "execution_count": 29,
   "id": "630a1a82-c48c-4c7e-9f21-73ac3bd1d5ae",
   "metadata": {
    "execution": {
     "iopub.execute_input": "2024-06-20T23:19:11.838336Z",
     "iopub.status.busy": "2024-06-20T23:19:11.837860Z",
     "iopub.status.idle": "2024-06-20T23:19:11.951983Z",
     "shell.execute_reply": "2024-06-20T23:19:11.950879Z",
     "shell.execute_reply.started": "2024-06-20T23:19:11.838314Z"
    }
   },
   "outputs": [
    {
     "name": "stdout",
     "output_type": "stream",
     "text": [
      "verifying 528 transcriptions |██████████████████████████████████████████████████| 100.0% done.\n",
      "there are 528 out of 528 valid transcriptions\n",
      "\u001b[22m\u001b[49m\u001b[92m*** all 528 recordings were transcribed ***\u001b[0m\n"
     ]
    }
   ],
   "source": [
    "# cleanup stale transcription ids - but work on a copy of the log\n",
    "df_transcriptions_to_write = transcriptions.get_verified_transcriptions(\n",
    "    df_transcriptions_log=df_transcriptions_log, df_transcriptions=df_transcriptions\n",
    ")\n",
    "\n",
    "# save transcription log\n",
    "df_transcriptions_to_write.to_parquet(FILE_TRANSCRIPTIONS_LOG_PARQUET, index=False)"
   ]
  },
  {
   "cell_type": "code",
   "execution_count": 75,
   "id": "0301e85b-2147-4b5d-9747-aa8c33cf9c91",
   "metadata": {
    "execution": {
     "iopub.execute_input": "2024-06-20T23:44:02.302400Z",
     "iopub.status.busy": "2024-06-20T23:44:02.301873Z",
     "iopub.status.idle": "2024-06-20T23:44:02.316287Z",
     "shell.execute_reply": "2024-06-20T23:44:02.315658Z",
     "shell.execute_reply.started": "2024-06-20T23:44:02.302381Z"
    }
   },
   "outputs": [],
   "source": [
    "df_transcriptions = df_transcriptions.reset_index()"
   ]
  },
  {
   "cell_type": "code",
   "execution_count": 77,
   "id": "dd49c0bf-9aad-4f5a-8f9b-d2ea0f8e795f",
   "metadata": {
    "execution": {
     "iopub.execute_input": "2024-06-20T23:44:22.463854Z",
     "iopub.status.busy": "2024-06-20T23:44:22.463131Z",
     "iopub.status.idle": "2024-06-20T23:44:22.513357Z",
     "shell.execute_reply": "2024-06-20T23:44:22.512369Z",
     "shell.execute_reply.started": "2024-06-20T23:44:22.463833Z"
    }
   },
   "outputs": [],
   "source": [
    "df_transcriptions.to_parquet(FILE_TRANSCRIPTIONS_PARQUET)"
   ]
  },
  {
   "cell_type": "code",
   "execution_count": 78,
   "id": "7bc6225a-e9b2-4805-b408-1445980ab3ad",
   "metadata": {
    "execution": {
     "iopub.execute_input": "2024-06-20T23:44:35.931116Z",
     "iopub.status.busy": "2024-06-20T23:44:35.930654Z",
     "iopub.status.idle": "2024-06-20T23:44:35.978876Z",
     "shell.execute_reply": "2024-06-20T23:44:35.977903Z",
     "shell.execute_reply.started": "2024-06-20T23:44:35.931092Z"
    }
   },
   "outputs": [
    {
     "data": {
      "text/html": [
       "<div>\n",
       "<style scoped>\n",
       "    .dataframe tbody tr th:only-of-type {\n",
       "        vertical-align: middle;\n",
       "    }\n",
       "\n",
       "    .dataframe tbody tr th {\n",
       "        vertical-align: top;\n",
       "    }\n",
       "\n",
       "    .dataframe thead th {\n",
       "        text-align: right;\n",
       "    }\n",
       "</style>\n",
       "<table border=\"1\" class=\"dataframe\">\n",
       "  <thead>\n",
       "    <tr style=\"text-align: right;\">\n",
       "      <th></th>\n",
       "      <th>name</th>\n",
       "      <th>transcription</th>\n",
       "    </tr>\n",
       "  </thead>\n",
       "  <tbody>\n",
       "    <tr>\n",
       "      <th>0</th>\n",
       "      <td>Henryk 2022-08-16 Koniec bajki o powstaniu Cha...</td>\n",
       "      <td>Cześć Henryczku, cześć kochanie. To twój tatuś...</td>\n",
       "    </tr>\n",
       "    <tr>\n",
       "      <th>1</th>\n",
       "      <td>Rodzice Henryk 2024-01-01 Nowy rok</td>\n",
       "      <td>Halo, dzień dobry. Dzień dobry Henryczku. Jest...</td>\n",
       "    </tr>\n",
       "    <tr>\n",
       "      <th>2</th>\n",
       "      <td>Henryk 2024-02-16 Tatuś opowiada o robocie do...</td>\n",
       "      <td>Cześć Henryczku, cześć kochanie, cześć mój syn...</td>\n",
       "    </tr>\n",
       "    <tr>\n",
       "      <th>3</th>\n",
       "      <td>Henryk 2022-06-03 Bajka o jeżyku cyprianie</td>\n",
       "      <td>Cześć Henryczku, cześć kochanie, twój tatuś tu...</td>\n",
       "    </tr>\n",
       "    <tr>\n",
       "      <th>4</th>\n",
       "      <td>Henryk 2024-01-09 Tatuś opowiada o książkac...</td>\n",
       "      <td>Cześć Henryczku, cześć kochanie, cześć mój syn...</td>\n",
       "    </tr>\n",
       "    <tr>\n",
       "      <th>...</th>\n",
       "      <td>...</td>\n",
       "      <td>...</td>\n",
       "    </tr>\n",
       "    <tr>\n",
       "      <th>523</th>\n",
       "      <td>Henryk 2024-05-26 Tatuś opowiada o dniu Mamy ...</td>\n",
       "      <td>Cześć, Henryczku. Cześć, kochanie. Cześć, mój ...</td>\n",
       "    </tr>\n",
       "    <tr>\n",
       "      <th>524</th>\n",
       "      <td>Henryk 2024-05-25 Tatuś wyjechał z wujkiem na...</td>\n",
       "      <td>Cześć, Henryczku. Cześć, kochanie. Cześć, mój ...</td>\n",
       "    </tr>\n",
       "    <tr>\n",
       "      <th>525</th>\n",
       "      <td>Henryk 2024-05-24 Tatuś opowiada o zabawkach d...</td>\n",
       "      <td>Cześć, chymeczku. Cześć, kochanie. Cześć, mój ...</td>\n",
       "    </tr>\n",
       "    <tr>\n",
       "      <th>526</th>\n",
       "      <td>Henryk 2024-05-20 Tatuś opowiada o malowanou ...</td>\n",
       "      <td>Cześć Henryczko Cześć kochanie Cześć mój synec...</td>\n",
       "    </tr>\n",
       "    <tr>\n",
       "      <th>527</th>\n",
       "      <td>Henryk 2024-05-22 Tatuś opowiada o przyjęciu a...</td>\n",
       "      <td>Cześć, Henryczku. Cześć, kochanie. Cześć, mój ...</td>\n",
       "    </tr>\n",
       "  </tbody>\n",
       "</table>\n",
       "<p>528 rows × 2 columns</p>\n",
       "</div>"
      ],
      "text/plain": [
       "                                                  name  \\\n",
       "0    Henryk 2022-08-16 Koniec bajki o powstaniu Cha...   \n",
       "1                   Rodzice Henryk 2024-01-01 Nowy rok   \n",
       "2    Henryk 2024-02-16 Tatuś opowiada o robocie do...   \n",
       "3          Henryk 2022-06-03 Bajka o jeżyku cyprianie   \n",
       "4    Henryk 2024-01-09 Tatuś opowiada o książkac...   \n",
       "..                                                 ...   \n",
       "523  Henryk 2024-05-26 Tatuś opowiada o dniu Mamy ...   \n",
       "524  Henryk 2024-05-25 Tatuś wyjechał z wujkiem na...   \n",
       "525  Henryk 2024-05-24 Tatuś opowiada o zabawkach d...   \n",
       "526  Henryk 2024-05-20 Tatuś opowiada o malowanou ...   \n",
       "527  Henryk 2024-05-22 Tatuś opowiada o przyjęciu a...   \n",
       "\n",
       "                                         transcription  \n",
       "0    Cześć Henryczku, cześć kochanie. To twój tatuś...  \n",
       "1    Halo, dzień dobry. Dzień dobry Henryczku. Jest...  \n",
       "2    Cześć Henryczku, cześć kochanie, cześć mój syn...  \n",
       "3    Cześć Henryczku, cześć kochanie, twój tatuś tu...  \n",
       "4    Cześć Henryczku, cześć kochanie, cześć mój syn...  \n",
       "..                                                 ...  \n",
       "523  Cześć, Henryczku. Cześć, kochanie. Cześć, mój ...  \n",
       "524  Cześć, Henryczku. Cześć, kochanie. Cześć, mój ...  \n",
       "525  Cześć, chymeczku. Cześć, kochanie. Cześć, mój ...  \n",
       "526  Cześć Henryczko Cześć kochanie Cześć mój synec...  \n",
       "527  Cześć, Henryczku. Cześć, kochanie. Cześć, mój ...  \n",
       "\n",
       "[528 rows x 2 columns]"
      ]
     },
     "execution_count": 78,
     "metadata": {},
     "output_type": "execute_result"
    }
   ],
   "source": [
    "pd.read_parquet(FILE_TRANSCRIPTIONS_PARQUET)"
   ]
  },
  {
   "cell_type": "code",
   "execution_count": null,
   "id": "782900d0-4460-42bb-bf73-5dc6a84a6249",
   "metadata": {},
   "outputs": [],
   "source": []
  }
 ],
 "metadata": {
  "kernelspec": {
   "display_name": "Python [conda env:base] *",
   "language": "python",
   "name": "conda-base-py"
  },
  "language_info": {
   "codemirror_mode": {
    "name": "ipython",
    "version": 3
   },
   "file_extension": ".py",
   "mimetype": "text/x-python",
   "name": "python",
   "nbconvert_exporter": "python",
   "pygments_lexer": "ipython3",
   "version": "3.11.9"
  }
 },
 "nbformat": 4,
 "nbformat_minor": 5
}
