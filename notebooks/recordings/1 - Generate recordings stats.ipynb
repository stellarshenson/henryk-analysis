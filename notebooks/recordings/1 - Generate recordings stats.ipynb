{
 "cells": [
  {
   "cell_type": "markdown",
   "id": "a5d93d52-612d-4b4a-aa50-9fe996355168",
   "metadata": {
    "editable": true,
    "slideshow": {
     "slide_type": ""
    },
    "tags": []
   },
   "source": [
    "# Generate Stats\n",
    "Processes a set of audio files and produces a dataframe and a dataset with the stats"
   ]
  },
  {
   "cell_type": "markdown",
   "id": "9bf7fb4c-8291-4869-8b17-121fd291d24e",
   "metadata": {},
   "source": [
    "## Imports"
   ]
  },
  {
   "cell_type": "code",
   "execution_count": 1,
   "id": "5daef15c-82f4-4e3e-b256-c0e53ab05ec5",
   "metadata": {
    "execution": {
     "iopub.execute_input": "2024-06-21T10:36:53.477609Z",
     "iopub.status.busy": "2024-06-21T10:36:53.477441Z",
     "iopub.status.idle": "2024-06-21T10:36:53.496457Z",
     "shell.execute_reply": "2024-06-21T10:36:53.495589Z",
     "shell.execute_reply.started": "2024-06-21T10:36:53.477595Z"
    },
    "tags": []
   },
   "outputs": [],
   "source": [
    "%reload_ext autoreload\n",
    "%autoreload 2"
   ]
  },
  {
   "cell_type": "code",
   "execution_count": 2,
   "id": "30ab3234-8205-4a1e-9d64-0fe7f64a6288",
   "metadata": {
    "execution": {
     "iopub.execute_input": "2024-06-21T10:36:53.497420Z",
     "iopub.status.busy": "2024-06-21T10:36:53.497250Z",
     "iopub.status.idle": "2024-06-21T10:36:54.545305Z",
     "shell.execute_reply": "2024-06-21T10:36:54.544627Z",
     "shell.execute_reply.started": "2024-06-21T10:36:53.497407Z"
    },
    "tags": []
   },
   "outputs": [],
   "source": [
    "import pandas as pd\n",
    "import numpy as np\n",
    "import matplotlib.pylab as plt\n",
    "import seaborn as sns\n",
    "from datetime import timedelta, datetime\n",
    "import numpy as np\n",
    "\n",
    "import os\n",
    "import re\n",
    "from glob import glob\n",
    "\n",
    "# audio info processing\n",
    "from pydub.utils import mediainfo\n",
    "\n",
    "# local import\n",
    "from lib_henryk.logger import *\n",
    "from lib_henryk.config import *\n",
    "from lib_henryk.recordings import recordings"
   ]
  },
  {
   "cell_type": "markdown",
   "id": "803c032c-aebd-47b8-af95-e4c22c93480d",
   "metadata": {},
   "source": [
    "## Parameters"
   ]
  },
  {
   "cell_type": "code",
   "execution_count": 3,
   "id": "b85b2e7d-266b-48b3-a9b5-b1d95615676c",
   "metadata": {
    "execution": {
     "iopub.execute_input": "2024-06-21T10:36:54.546592Z",
     "iopub.status.busy": "2024-06-21T10:36:54.546311Z",
     "iopub.status.idle": "2024-06-21T10:36:54.559778Z",
     "shell.execute_reply": "2024-06-21T10:36:54.559138Z",
     "shell.execute_reply.started": "2024-06-21T10:36:54.546578Z"
    }
   },
   "outputs": [
    {
     "name": "stdout",
     "output_type": "stream",
     "text": [
      "2024-06-21 10:36:54 - \u001b[32mINFO \u001b[0m - \u001b[34m<module>\u001b[0m - using parquet file: ../../data/processed/henryk_recordings_stats.parquet\n",
      "2024-06-21 10:36:54 - \u001b[32mINFO \u001b[0m - \u001b[34m<module>\u001b[0m - using audio files path: /mnt/onedrive/My Private/My documents/Other/Henryk/Alienacja rodzicielska materiały/Wiadomości do Henryczka\n"
     ]
    }
   ],
   "source": [
    "# params\n",
    "logger.info(f\"using parquet file: {FILE_RECORDINGS_STATS_PARQUET}\")\n",
    "logger.info(f\"using audio files path: {DIR_RECORDINGS}\")"
   ]
  },
  {
   "cell_type": "markdown",
   "id": "a53793dd-98b3-450e-919b-7c4b11a97ea2",
   "metadata": {},
   "source": [
    "## Process Files"
   ]
  },
  {
   "cell_type": "code",
   "execution_count": 4,
   "id": "fe77121e-0291-4d6e-aca2-89c2c43e45aa",
   "metadata": {
    "execution": {
     "iopub.execute_input": "2024-06-21T10:36:54.561166Z",
     "iopub.status.busy": "2024-06-21T10:36:54.560715Z",
     "iopub.status.idle": "2024-06-21T10:37:28.838599Z",
     "shell.execute_reply": "2024-06-21T10:37:28.837769Z",
     "shell.execute_reply.started": "2024-06-21T10:36:54.561150Z"
    }
   },
   "outputs": [
    {
     "name": "stdout",
     "output_type": "stream",
     "text": [
      "2024-06-21 10:36:54 - \u001b[32mINFO \u001b[0m - \u001b[34mget_recordings_info\u001b[0m - retrieved 528 files\n",
      "processing 528 audio files |██████████████████████████████████████████████████| 100.0% \n",
      "2024-06-21 10:37:28 - \u001b[32mINFO \u001b[0m - \u001b[34mget_recordings_info\u001b[0m - generated stats for 528 audio recordings\n"
     ]
    }
   ],
   "source": [
    "# load paths to all audio files from wiadomości do Henryczka\n",
    "df = recordings.get_recordings_info(path_recordings=DIR_RECORDINGS)"
   ]
  },
  {
   "cell_type": "markdown",
   "id": "d81a0f80-8554-4a03-97a6-17d3aa794b92",
   "metadata": {},
   "source": [
    "## Write data to file"
   ]
  },
  {
   "cell_type": "code",
   "execution_count": 5,
   "id": "76b7c686-e201-4874-b0c1-8a74024605c4",
   "metadata": {
    "execution": {
     "iopub.execute_input": "2024-06-21T10:37:28.839475Z",
     "iopub.status.busy": "2024-06-21T10:37:28.839243Z",
     "iopub.status.idle": "2024-06-21T10:37:28.865380Z",
     "shell.execute_reply": "2024-06-21T10:37:28.864399Z",
     "shell.execute_reply.started": "2024-06-21T10:37:28.839458Z"
    }
   },
   "outputs": [],
   "source": [
    "# save to csv\n",
    "df.sort_values('date', inplace=True)\n",
    "df.to_parquet(FILE_RECORDINGS_STATS_PARQUET, index=False)"
   ]
  },
  {
   "cell_type": "markdown",
   "id": "93dd3fa1-7dc4-414e-8013-8cd099485ece",
   "metadata": {},
   "source": [
    "# References\n",
    "- https://www.kaggle.com/code/robikscube/working-with-audio-in-python\n",
    "- https://towardsdatascience.com/get-to-know-audio-feature-extraction-in-python-a499fdaefe42\n",
    "- https://stackoverflow.com/questions/55669182/how-to-fix-filenotfounderror-winerror-2-the-system-cannot-find-the-file-speci"
   ]
  }
 ],
 "metadata": {
  "kernelspec": {
   "display_name": "Python [conda env:base] *",
   "language": "python",
   "name": "conda-base-py"
  },
  "language_info": {
   "codemirror_mode": {
    "name": "ipython",
    "version": 3
   },
   "file_extension": ".py",
   "mimetype": "text/x-python",
   "name": "python",
   "nbconvert_exporter": "python",
   "pygments_lexer": "ipython3",
   "version": "3.11.9"
  }
 },
 "nbformat": 4,
 "nbformat_minor": 5
}
