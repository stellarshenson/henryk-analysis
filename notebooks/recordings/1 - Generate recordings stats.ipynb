{
 "cells": [
  {
   "cell_type": "markdown",
   "id": "a5d93d52-612d-4b4a-aa50-9fe996355168",
   "metadata": {},
   "source": [
    "# Generate Stats\n",
    "Processes a set of audio files and produces a dataframe and a dataset with the stats"
   ]
  },
  {
   "cell_type": "markdown",
   "id": "9bf7fb4c-8291-4869-8b17-121fd291d24e",
   "metadata": {},
   "source": [
    "## Imports"
   ]
  },
  {
   "cell_type": "code",
   "execution_count": 1,
   "id": "5daef15c-82f4-4e3e-b256-c0e53ab05ec5",
   "metadata": {
    "execution": {
     "iopub.execute_input": "2024-06-04T09:26:41.302261Z",
     "iopub.status.busy": "2024-06-04T09:26:41.301894Z",
     "iopub.status.idle": "2024-06-04T09:26:41.352298Z",
     "shell.execute_reply": "2024-06-04T09:26:41.350930Z",
     "shell.execute_reply.started": "2024-06-04T09:26:41.302221Z"
    },
    "tags": []
   },
   "outputs": [],
   "source": [
    "%reload_ext autoreload\n",
    "%autoreload 2"
   ]
  },
  {
   "cell_type": "code",
   "execution_count": 2,
   "id": "30ab3234-8205-4a1e-9d64-0fe7f64a6288",
   "metadata": {
    "execution": {
     "iopub.execute_input": "2024-06-04T09:26:41.354790Z",
     "iopub.status.busy": "2024-06-04T09:26:41.354066Z",
     "iopub.status.idle": "2024-06-04T09:26:42.894628Z",
     "shell.execute_reply": "2024-06-04T09:26:42.893663Z",
     "shell.execute_reply.started": "2024-06-04T09:26:41.354746Z"
    },
    "tags": []
   },
   "outputs": [],
   "source": [
    "import pandas as pd\n",
    "import numpy as np\n",
    "import matplotlib.pylab as plt\n",
    "import seaborn as sns\n",
    "from datetime import timedelta, datetime\n",
    "import numpy as np\n",
    "\n",
    "import os\n",
    "import re\n",
    "from glob import glob\n",
    "\n",
    "# audio info processing\n",
    "from pydub.utils import mediainfo\n",
    "\n",
    "# local import\n",
    "from lib_henryk.logger import *\n",
    "from lib_henryk.config import *\n",
    "from lib_henryk.recordings import recordings"
   ]
  },
  {
   "cell_type": "markdown",
   "id": "803c032c-aebd-47b8-af95-e4c22c93480d",
   "metadata": {},
   "source": [
    "## Parameters"
   ]
  },
  {
   "cell_type": "code",
   "execution_count": 3,
   "id": "b85b2e7d-266b-48b3-a9b5-b1d95615676c",
   "metadata": {
    "execution": {
     "iopub.execute_input": "2024-06-04T09:26:42.896739Z",
     "iopub.status.busy": "2024-06-04T09:26:42.896048Z",
     "iopub.status.idle": "2024-06-04T09:26:42.925878Z",
     "shell.execute_reply": "2024-06-04T09:26:42.924737Z",
     "shell.execute_reply.started": "2024-06-04T09:26:42.896698Z"
    }
   },
   "outputs": [
    {
     "name": "stdout",
     "output_type": "stream",
     "text": [
      "2024-06-04 09:26:42 - \u001b[32mINFO \u001b[0m - \u001b[34m<module>\u001b[0m - using csv file: ../../data/processed/henryk_audio_stats.csv\n",
      "2024-06-04 09:26:42 - \u001b[32mINFO \u001b[0m - \u001b[34m<module>\u001b[0m - using audio files path: /mnt/onedrive/My Private/My documents/Other/Henryk/Alienacja rodzicielska materiały/Wiadomości do Henryczka\n"
     ]
    }
   ],
   "source": [
    "# params\n",
    "logger.info(f\"using csv file: {FILE_AUDIO_STATS_CSV}\")\n",
    "logger.info(f\"using audio files path: {DIR_WIADOMOSCI_DO_HENRYCZKA}\")"
   ]
  },
  {
   "cell_type": "markdown",
   "id": "a53793dd-98b3-450e-919b-7c4b11a97ea2",
   "metadata": {},
   "source": [
    "## Process Files"
   ]
  },
  {
   "cell_type": "code",
   "execution_count": 4,
   "id": "fe77121e-0291-4d6e-aca2-89c2c43e45aa",
   "metadata": {
    "execution": {
     "iopub.execute_input": "2024-06-04T09:26:42.931029Z",
     "iopub.status.busy": "2024-06-04T09:26:42.930219Z",
     "iopub.status.idle": "2024-06-04T09:27:35.581826Z",
     "shell.execute_reply": "2024-06-04T09:27:35.579793Z",
     "shell.execute_reply.started": "2024-06-04T09:26:42.930964Z"
    }
   },
   "outputs": [
    {
     "name": "stdout",
     "output_type": "stream",
     "text": [
      "2024-06-04 09:26:44 - \u001b[32mINFO \u001b[0m - \u001b[34mget_recordings_info\u001b[0m - retrieved 520 files\n",
      "processing 520 audio files |██████████████████████████████████████████████████| 100.0% \n"
     ]
    }
   ],
   "source": [
    "# load paths to all audio files from wiadomości do Henryczka\n",
    "df = recordings.get_recordings_info(path_recordings=DIR_WIADOMOSCI_DO_HENRYCZKA)"
   ]
  },
  {
   "cell_type": "markdown",
   "id": "d81a0f80-8554-4a03-97a6-17d3aa794b92",
   "metadata": {},
   "source": [
    "## Write data to file"
   ]
  },
  {
   "cell_type": "code",
   "execution_count": 5,
   "id": "76b7c686-e201-4874-b0c1-8a74024605c4",
   "metadata": {
    "execution": {
     "iopub.execute_input": "2024-06-04T09:27:35.588077Z",
     "iopub.status.busy": "2024-06-04T09:27:35.583425Z",
     "iopub.status.idle": "2024-06-04T09:27:35.674972Z",
     "shell.execute_reply": "2024-06-04T09:27:35.673405Z",
     "shell.execute_reply.started": "2024-06-04T09:27:35.588020Z"
    }
   },
   "outputs": [],
   "source": [
    "# save to csv\n",
    "df.sort_values('date', inplace=True)\n",
    "df.to_csv(FILE_AUDIO_STATS_CSV, index=False)"
   ]
  },
  {
   "cell_type": "markdown",
   "id": "93dd3fa1-7dc4-414e-8013-8cd099485ece",
   "metadata": {},
   "source": [
    "# References\n",
    "- https://www.kaggle.com/code/robikscube/working-with-audio-in-python\n",
    "- https://towardsdatascience.com/get-to-know-audio-feature-extraction-in-python-a499fdaefe42\n",
    "- https://stackoverflow.com/questions/55669182/how-to-fix-filenotfounderror-winerror-2-the-system-cannot-find-the-file-speci"
   ]
  }
 ],
 "metadata": {
  "kernelspec": {
   "display_name": "Python [conda env:base] *",
   "language": "python",
   "name": "conda-base-py"
  },
  "language_info": {
   "codemirror_mode": {
    "name": "ipython",
    "version": 3
   },
   "file_extension": ".py",
   "mimetype": "text/x-python",
   "name": "python",
   "nbconvert_exporter": "python",
   "pygments_lexer": "ipython3",
   "version": "3.11.9"
  }
 },
 "nbformat": 4,
 "nbformat_minor": 5
}
