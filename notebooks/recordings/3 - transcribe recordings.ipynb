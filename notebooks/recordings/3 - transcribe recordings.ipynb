{
 "cells": [
  {
   "cell_type": "markdown",
   "id": "26c1897f-f9e2-4145-844c-4ce5f60b54a5",
   "metadata": {},
   "source": [
    "# Transcribe Recordings\n",
    "paid service [Goodtape](http://goodtape.io) will be used for the transcriptions"
   ]
  },
  {
   "cell_type": "markdown",
   "id": "55c7d390-2166-421c-acb9-fd8853cac4a8",
   "metadata": {},
   "source": [
    "## Imports"
   ]
  },
  {
   "cell_type": "code",
   "execution_count": 1,
   "id": "5a5c8bb7-b155-4e46-bd24-f0bee9422a63",
   "metadata": {
    "execution": {
     "iopub.execute_input": "2024-05-07T20:42:56.908962Z",
     "iopub.status.busy": "2024-05-07T20:42:56.908812Z",
     "iopub.status.idle": "2024-05-07T20:42:56.922353Z",
     "shell.execute_reply": "2024-05-07T20:42:56.921713Z",
     "shell.execute_reply.started": "2024-05-07T20:42:56.908949Z"
    },
    "tags": []
   },
   "outputs": [],
   "source": [
    "%reload_ext autoreload\n",
    "%autoreload 2"
   ]
  },
  {
   "cell_type": "code",
   "execution_count": 334,
   "id": "7a299954-a131-4796-bad5-c9b53d0eb8cb",
   "metadata": {
    "execution": {
     "iopub.execute_input": "2024-05-08T10:47:18.849645Z",
     "iopub.status.busy": "2024-05-08T10:47:18.849355Z",
     "iopub.status.idle": "2024-05-08T10:47:18.893097Z",
     "shell.execute_reply": "2024-05-08T10:47:18.892006Z",
     "shell.execute_reply.started": "2024-05-08T10:47:18.849618Z"
    }
   },
   "outputs": [],
   "source": [
    "import requests\n",
    "import pandas as pd\n",
    "import os\n",
    "import shutil\n",
    "import io\n",
    "import json\n",
    "import math\n",
    "\n",
    "from requests.utils import quote\n",
    "\n",
    "# audio\n",
    "from pydub import AudioSegment\n",
    "\n",
    "# local imports\n",
    "from lib_henryk.logger import *\n",
    "from lib_henryk.config import *\n",
    "\n",
    "from lib_henryk.transcription import transcription"
   ]
  },
  {
   "cell_type": "markdown",
   "id": "0c26ac2e-7619-48cf-9412-290f1c7c4461",
   "metadata": {},
   "source": [
    "## Params"
   ]
  },
  {
   "cell_type": "code",
   "execution_count": 346,
   "id": "170fe65c-d43d-4157-9473-29a7a25b8d4f",
   "metadata": {
    "execution": {
     "iopub.execute_input": "2024-05-08T11:03:22.976759Z",
     "iopub.status.busy": "2024-05-08T11:03:22.976171Z",
     "iopub.status.idle": "2024-05-08T11:03:23.048370Z",
     "shell.execute_reply": "2024-05-08T11:03:23.047156Z",
     "shell.execute_reply.started": "2024-05-08T11:03:22.976731Z"
    }
   },
   "outputs": [],
   "source": [
    "# load api keys\n",
    "from dotenv import load_dotenv\n",
    "_ = load_dotenv()\n",
    "\n",
    "WEBHOOKS_TOKEN_ID = '2660666c-d957-4485-9a95-5e264563a022'"
   ]
  },
  {
   "cell_type": "markdown",
   "id": "f2ff50ef-0490-42be-b84c-cf0f5f708f36",
   "metadata": {},
   "source": [
    "## Load Dataset"
   ]
  },
  {
   "cell_type": "code",
   "execution_count": 336,
   "id": "f59bfa37-d829-44eb-930c-29d56d91c092",
   "metadata": {
    "execution": {
     "iopub.execute_input": "2024-05-08T10:47:34.925037Z",
     "iopub.status.busy": "2024-05-08T10:47:34.924539Z",
     "iopub.status.idle": "2024-05-08T10:47:34.951104Z",
     "shell.execute_reply": "2024-05-08T10:47:34.950005Z",
     "shell.execute_reply.started": "2024-05-08T10:47:34.925015Z"
    }
   },
   "outputs": [],
   "source": [
    "df = pd.read_csv(FILE_AUDIO_STATS_CSV)\n",
    "df_transcription = df.copy()\n",
    "df_transcription['transcription_id'] = ''"
   ]
  },
  {
   "cell_type": "markdown",
   "id": "34641782-a8f2-4743-9e49-09a1c5d363b4",
   "metadata": {},
   "source": [
    "## Run Transcriptions"
   ]
  },
  {
   "cell_type": "code",
   "execution_count": 474,
   "id": "227a3ae5-c90b-4da3-b2da-a49a3470aeb9",
   "metadata": {
    "execution": {
     "iopub.execute_input": "2024-05-08T13:03:34.891891Z",
     "iopub.status.busy": "2024-05-08T13:03:34.891690Z",
     "iopub.status.idle": "2024-05-08T13:03:37.438450Z",
     "shell.execute_reply": "2024-05-08T13:03:37.437575Z",
     "shell.execute_reply.started": "2024-05-08T13:03:34.891877Z"
    }
   },
   "outputs": [
    {
     "name": "stdout",
     "output_type": "stream",
     "text": [
      "transcription log exists, reading it from ../../data/processed/henryk_audio_transcription.csv\n",
      "processing [150]: Henryk 2022-12-16 Królik rozmawia z Puchatkiem i Prosiaczkiem o odbryknięciu Tygryska.m4a\n",
      "b'{\"detail\":\"Error processing request. You\\'ll not be billed for this request.\"}'\n",
      "submitted 0 recordings to the transcription service GoodTape\n"
     ]
    }
   ],
   "source": [
    "# load sync dataframe\n",
    "if os.path.exists(FILE_TRANSCRIPTION_CSV):\n",
    "    print(f'transcription log exists, reading it from {FILE_TRANSCRIPTION_CSV}')\n",
    "    df_transcription = pd.read_csv(FILE_TRANSCRIPTION_CSV)\n",
    "\n",
    "# perform transcriptions\n",
    "transcription.submit_transcriptions_goodtape(\n",
    "    df=df_transcription, \n",
    "    webhooks_token_id=WEBHOOKS_TOKEN_ID,\n",
    "    path_recordings=DIR_WIADOMOSCI_DO_HENRYCZKA,\n",
    "    start=150, stop=200,\n",
    "    verbose=False\n",
    ")"
   ]
  },
  {
   "cell_type": "markdown",
   "id": "69d6291c-8a75-494e-add8-078fcdbdb391",
   "metadata": {},
   "source": [
    "## Fetch Transcriptions JSONs"
   ]
  },
  {
   "cell_type": "code",
   "execution_count": 470,
   "id": "176457da-a7af-4861-9f67-6cc191c21151",
   "metadata": {
    "execution": {
     "iopub.execute_input": "2024-05-08T12:57:10.657475Z",
     "iopub.status.busy": "2024-05-08T12:57:10.657185Z",
     "iopub.status.idle": "2024-05-08T12:57:11.523623Z",
     "shell.execute_reply": "2024-05-08T12:57:11.522807Z",
     "shell.execute_reply.started": "2024-05-08T12:57:10.657437Z"
    }
   },
   "outputs": [
    {
     "name": "stdout",
     "output_type": "stream",
     "text": [
      "found 0 requests to fetch\n",
      "0 transcriptions were processed\n"
     ]
    }
   ],
   "source": [
    "# retrieve goodtape server responses from webhooks\n",
    "transcription.retrieve_responses_goodtape_via_webhooks(\n",
    "    webhooks_token_id=WEBHOOKS_TOKEN_ID, \n",
    "    path_transcriptions_json=DIR_TRANSCRIPTIONS_JSON\n",
    ")"
   ]
  },
  {
   "cell_type": "markdown",
   "id": "56f8216b-8219-4e69-925c-c8228c4c8e5d",
   "metadata": {},
   "source": [
    "## Process JSONs to Transcriptions"
   ]
  },
  {
   "cell_type": "code",
   "execution_count": 471,
   "id": "95668417-56d0-4162-a5cf-057b8c30587a",
   "metadata": {
    "execution": {
     "iopub.execute_input": "2024-05-08T12:57:14.962694Z",
     "iopub.status.busy": "2024-05-08T12:57:14.962508Z",
     "iopub.status.idle": "2024-05-08T12:57:15.229135Z",
     "shell.execute_reply": "2024-05-08T12:57:15.228450Z",
     "shell.execute_reply.started": "2024-05-08T12:57:14.962681Z"
    }
   },
   "outputs": [
    {
     "name": "stdout",
     "output_type": "stream",
     "text": [
      "transcriptions were processed, there are 149 transcriptions available\n"
     ]
    }
   ],
   "source": [
    "# process json to text\n",
    "transcription.process_transcriptions_json_to_text(\n",
    "    df=df_transcription, \n",
    "    path_transcriptions_json=DIR_TRANSCRIPTIONS_JSON, \n",
    "    path_transcriptions=DIR_TRANSCRIPTIONS,\n",
    "    verbose=False\n",
    ")"
   ]
  },
  {
   "cell_type": "markdown",
   "id": "5dc3ac4a-cdcf-4de1-b626-5fedd64c6eab",
   "metadata": {},
   "source": [
    "## Cleanup missing requests\n",
    "- transcription ids for the requests that were lost will be removed, only those that were processed will remain"
   ]
  },
  {
   "cell_type": "code",
   "execution_count": 472,
   "id": "f2446222-fb6f-4d14-be7f-2500841239e5",
   "metadata": {
    "execution": {
     "iopub.execute_input": "2024-05-08T12:57:17.885239Z",
     "iopub.status.busy": "2024-05-08T12:57:17.884945Z",
     "iopub.status.idle": "2024-05-08T12:57:17.922159Z",
     "shell.execute_reply": "2024-05-08T12:57:17.921333Z",
     "shell.execute_reply.started": "2024-05-08T12:57:17.885216Z"
    }
   },
   "outputs": [
    {
     "name": "stdout",
     "output_type": "stream",
     "text": [
      "there are 149 processed and valid transcriptions\n"
     ]
    }
   ],
   "source": [
    "# cleanup stale transcription ids\n",
    "transcription.cleanup_missing_transcriptions(df_transcription)\n",
    "\n",
    "# save transcription log\n",
    "df_transcription.to_csv(FILE_TRANSCRIPTION_CSV, index=False)"
   ]
  },
  {
   "cell_type": "code",
   "execution_count": null,
   "id": "411914b2-b1c0-4013-8906-e83960a4e4cf",
   "metadata": {},
   "outputs": [],
   "source": []
  }
 ],
 "metadata": {
  "kernelspec": {
   "display_name": "Python [conda env:base] *",
   "language": "python",
   "name": "conda-base-py"
  },
  "language_info": {
   "codemirror_mode": {
    "name": "ipython",
    "version": 3
   },
   "file_extension": ".py",
   "mimetype": "text/x-python",
   "name": "python",
   "nbconvert_exporter": "python",
   "pygments_lexer": "ipython3",
   "version": "3.11.9"
  }
 },
 "nbformat": 4,
 "nbformat_minor": 5
}
