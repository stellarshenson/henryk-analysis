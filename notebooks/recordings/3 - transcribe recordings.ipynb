{
 "cells": [
  {
   "cell_type": "markdown",
   "id": "26c1897f-f9e2-4145-844c-4ce5f60b54a5",
   "metadata": {},
   "source": [
    "# Transcribe Recordings\n",
    "paid service [Goodtape](http://goodtape.io) will be used for the transcriptions"
   ]
  },
  {
   "cell_type": "markdown",
   "id": "55c7d390-2166-421c-acb9-fd8853cac4a8",
   "metadata": {},
   "source": [
    "## Imports"
   ]
  },
  {
   "cell_type": "code",
   "execution_count": 3,
   "id": "7a299954-a131-4796-bad5-c9b53d0eb8cb",
   "metadata": {
    "execution": {
     "iopub.execute_input": "2024-05-04T16:28:00.602914Z",
     "iopub.status.busy": "2024-05-04T16:28:00.602560Z",
     "iopub.status.idle": "2024-05-04T16:28:00.606673Z",
     "shell.execute_reply": "2024-05-04T16:28:00.605907Z",
     "shell.execute_reply.started": "2024-05-04T16:28:00.602893Z"
    }
   },
   "outputs": [],
   "source": [
    "import requests\n",
    "import pandas as pd\n",
    "\n",
    "# local imports\n",
    "from lib_henryk.logger import *\n",
    "from lib_henryk.config import *"
   ]
  },
  {
   "cell_type": "markdown",
   "id": "0c26ac2e-7619-48cf-9412-290f1c7c4461",
   "metadata": {},
   "source": [
    "## Params"
   ]
  },
  {
   "cell_type": "code",
   "execution_count": 5,
   "id": "170fe65c-d43d-4157-9473-29a7a25b8d4f",
   "metadata": {
    "execution": {
     "iopub.execute_input": "2024-05-04T16:29:27.208023Z",
     "iopub.status.busy": "2024-05-04T16:29:27.207781Z",
     "iopub.status.idle": "2024-05-04T16:29:27.236980Z",
     "shell.execute_reply": "2024-05-04T16:29:27.235660Z",
     "shell.execute_reply.started": "2024-05-04T16:29:27.208006Z"
    }
   },
   "outputs": [],
   "source": [
    "# load api keys\n",
    "from dotenv import load_dotenv\n",
    "_ = load_dotenv()"
   ]
  },
  {
   "cell_type": "markdown",
   "id": "f2ff50ef-0490-42be-b84c-cf0f5f708f36",
   "metadata": {},
   "source": [
    "## Load Dataset"
   ]
  },
  {
   "cell_type": "code",
   "execution_count": 4,
   "id": "f59bfa37-d829-44eb-930c-29d56d91c092",
   "metadata": {
    "execution": {
     "iopub.execute_input": "2024-05-04T16:28:14.958402Z",
     "iopub.status.busy": "2024-05-04T16:28:14.957728Z",
     "iopub.status.idle": "2024-05-04T16:28:14.974421Z",
     "shell.execute_reply": "2024-05-04T16:28:14.973809Z",
     "shell.execute_reply.started": "2024-05-04T16:28:14.958359Z"
    }
   },
   "outputs": [],
   "source": [
    "df = pd.read_csv(FILE_AUDIO_STATS_CSV)"
   ]
  },
  {
   "cell_type": "markdown",
   "id": "34641782-a8f2-4743-9e49-09a1c5d363b4",
   "metadata": {},
   "source": [
    "## Run Transcriptions"
   ]
  },
  {
   "cell_type": "code",
   "execution_count": 12,
   "id": "227a3ae5-c90b-4da3-b2da-a49a3470aeb9",
   "metadata": {
    "execution": {
     "iopub.execute_input": "2024-05-04T16:36:11.323282Z",
     "iopub.status.busy": "2024-05-04T16:36:11.322648Z",
     "iopub.status.idle": "2024-05-04T16:36:11.326976Z",
     "shell.execute_reply": "2024-05-04T16:36:11.326182Z",
     "shell.execute_reply.started": "2024-05-04T16:36:11.323258Z"
    }
   },
   "outputs": [],
   "source": [
    "# load just one record, could be last file\n",
    "file_path = df.iloc[-2]['path']"
   ]
  },
  {
   "cell_type": "code",
   "execution_count": null,
   "id": "92f61f2b-c55f-43cb-8554-cc39c9af7a9d",
   "metadata": {},
   "outputs": [],
   "source": [
    "url = \"https://api.goodtape.io/transcribe\"\n",
    "headers = {\"Authorization\": \"YOUR_API_KEY\"}\n",
    "\n",
    "files = {\"audio\": (\"audio.wav\", open(\"audio.wav\", \"rb\"))}\n",
    "data = {\n",
    "  \"callbackUrl\": \"http://example.com/callback\",\n",
    "  \"languageCode\": \"en\",\n",
    "  \"transcriptionId\": \"exampleTranscriptionId\"\n",
    "}\n",
    "\n",
    "response = requests.post(url, headers=headers, files=files, data=data)\n",
    "print(response.json())"
   ]
  }
 ],
 "metadata": {
  "kernelspec": {
   "display_name": "Python [conda env:base] *",
   "language": "python",
   "name": "conda-base-py"
  },
  "language_info": {
   "codemirror_mode": {
    "name": "ipython",
    "version": 3
   },
   "file_extension": ".py",
   "mimetype": "text/x-python",
   "name": "python",
   "nbconvert_exporter": "python",
   "pygments_lexer": "ipython3",
   "version": "3.11.9"
  }
 },
 "nbformat": 4,
 "nbformat_minor": 5
}
