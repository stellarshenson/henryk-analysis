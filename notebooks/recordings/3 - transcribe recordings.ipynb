{
 "cells": [
  {
   "cell_type": "markdown",
   "id": "26c1897f-f9e2-4145-844c-4ce5f60b54a5",
   "metadata": {},
   "source": [
    "# Transcribe Recordings\n",
    "paid service [Goodtape](http://goodtape.io) will be used for the transcriptions"
   ]
  },
  {
   "cell_type": "markdown",
   "id": "55c7d390-2166-421c-acb9-fd8853cac4a8",
   "metadata": {},
   "source": [
    "## Imports"
   ]
  },
  {
   "cell_type": "code",
   "execution_count": 1,
   "id": "5a5c8bb7-b155-4e46-bd24-f0bee9422a63",
   "metadata": {
    "execution": {
     "iopub.execute_input": "2024-05-10T21:15:05.686621Z",
     "iopub.status.busy": "2024-05-10T21:15:05.686321Z",
     "iopub.status.idle": "2024-05-10T21:15:05.705412Z",
     "shell.execute_reply": "2024-05-10T21:15:05.704177Z",
     "shell.execute_reply.started": "2024-05-10T21:15:05.686595Z"
    },
    "tags": []
   },
   "outputs": [],
   "source": [
    "%reload_ext autoreload\n",
    "%autoreload 2"
   ]
  },
  {
   "cell_type": "code",
   "execution_count": 2,
   "id": "7a299954-a131-4796-bad5-c9b53d0eb8cb",
   "metadata": {
    "execution": {
     "iopub.execute_input": "2024-05-10T21:15:07.310681Z",
     "iopub.status.busy": "2024-05-10T21:15:07.310254Z",
     "iopub.status.idle": "2024-05-10T21:15:08.197213Z",
     "shell.execute_reply": "2024-05-10T21:15:08.195845Z",
     "shell.execute_reply.started": "2024-05-10T21:15:07.310641Z"
    }
   },
   "outputs": [],
   "source": [
    "import requests\n",
    "import pandas as pd\n",
    "import os\n",
    "import docx\n",
    "\n",
    "# local imports\n",
    "from lib_henryk.logger import *\n",
    "from lib_henryk.config import *\n",
    "from lib_henryk.utils import *\n",
    "\n",
    "from lib_henryk.recordings import transcription"
   ]
  },
  {
   "cell_type": "markdown",
   "id": "0c26ac2e-7619-48cf-9412-290f1c7c4461",
   "metadata": {},
   "source": [
    "## Params"
   ]
  },
  {
   "cell_type": "code",
   "execution_count": 3,
   "id": "170fe65c-d43d-4157-9473-29a7a25b8d4f",
   "metadata": {
    "execution": {
     "iopub.execute_input": "2024-05-10T21:15:09.607549Z",
     "iopub.status.busy": "2024-05-10T21:15:09.606246Z",
     "iopub.status.idle": "2024-05-10T21:15:09.652044Z",
     "shell.execute_reply": "2024-05-10T21:15:09.650455Z",
     "shell.execute_reply.started": "2024-05-10T21:15:09.607511Z"
    }
   },
   "outputs": [],
   "source": [
    "# load api keys\n",
    "from dotenv import load_dotenv\n",
    "_ = load_dotenv()\n",
    "\n",
    "# retrieve new token by opening 'https://webhook.site/' in incognito mode\n",
    "# and picking up the token from the URL\n",
    "WEBHOOKS_TOKEN_ID = 'f7477993-66da-4747-b9c8-6bc5c302ef3c'\n",
    "GOODTAPE_API_KEY = os.getenv(\"GOODTAPE_API_KEY\")"
   ]
  },
  {
   "cell_type": "markdown",
   "id": "f2ff50ef-0490-42be-b84c-cf0f5f708f36",
   "metadata": {},
   "source": [
    "## Load Dataset"
   ]
  },
  {
   "cell_type": "code",
   "execution_count": 4,
   "id": "f59bfa37-d829-44eb-930c-29d56d91c092",
   "metadata": {
    "execution": {
     "iopub.execute_input": "2024-05-10T21:15:11.964295Z",
     "iopub.status.busy": "2024-05-10T21:15:11.963588Z",
     "iopub.status.idle": "2024-05-10T21:15:12.017767Z",
     "shell.execute_reply": "2024-05-10T21:15:12.016651Z",
     "shell.execute_reply.started": "2024-05-10T21:15:11.964260Z"
    }
   },
   "outputs": [],
   "source": [
    "df = pd.read_csv(FILE_AUDIO_STATS_CSV)\n",
    "df_transcriptions = df.copy()\n",
    "df_transcriptions['transcription_id'] = ''"
   ]
  },
  {
   "cell_type": "code",
   "execution_count": 20,
   "id": "120f74ec-b408-4afb-9669-4655bc80537b",
   "metadata": {
    "execution": {
     "iopub.execute_input": "2024-05-10T21:38:16.694257Z",
     "iopub.status.busy": "2024-05-10T21:38:16.693941Z",
     "iopub.status.idle": "2024-05-10T21:38:16.791350Z",
     "shell.execute_reply": "2024-05-10T21:38:16.790147Z",
     "shell.execute_reply.started": "2024-05-10T21:38:16.694231Z"
    }
   },
   "outputs": [
    {
     "name": "stdout",
     "output_type": "stream",
     "text": [
      "transcription log exists, reading it from ../../data/processed/henryk_audio_transcription.csv\n"
     ]
    }
   ],
   "source": [
    "# load sync dataframe\n",
    "if os.path.exists(FILE_TRANSCRIPTION_CSV):\n",
    "    print(f'transcription log exists, reading it from {FILE_TRANSCRIPTION_CSV}')\n",
    "    df_transcriptions = pd.read_csv(FILE_TRANSCRIPTION_CSV)"
   ]
  },
  {
   "cell_type": "markdown",
   "id": "34641782-a8f2-4743-9e49-09a1c5d363b4",
   "metadata": {},
   "source": [
    "## Run Transcriptions"
   ]
  },
  {
   "cell_type": "code",
   "execution_count": 21,
   "id": "6fd0deda-025c-49b8-b4d6-d5d2cda26e1a",
   "metadata": {
    "execution": {
     "iopub.execute_input": "2024-05-10T21:38:20.727036Z",
     "iopub.status.busy": "2024-05-10T21:38:20.725913Z",
     "iopub.status.idle": "2024-05-10T21:38:20.790599Z",
     "shell.execute_reply": "2024-05-10T21:38:20.789394Z",
     "shell.execute_reply.started": "2024-05-10T21:38:20.727002Z"
    }
   },
   "outputs": [
    {
     "name": "stdout",
     "output_type": "stream",
     "text": [
      "submitted 0 recordings to the transcription service GoodTape\n"
     ]
    }
   ],
   "source": [
    "# perform transcriptions\n",
    "transcription.submit_transcriptions_goodtape(\n",
    "    df=df_transcriptions, \n",
    "    webhooks_token_id=WEBHOOKS_TOKEN_ID,\n",
    "    goodtape_api_key=GOODTAPE_API_KEY,\n",
    "    path_recordings=DIR_WIADOMOSCI_DO_HENRYCZKA,\n",
    "    start=0, stop=500,\n",
    "    verbose=False\n",
    ")"
   ]
  },
  {
   "cell_type": "markdown",
   "id": "69d6291c-8a75-494e-add8-078fcdbdb391",
   "metadata": {},
   "source": [
    "## Fetch Transcriptions JSONs"
   ]
  },
  {
   "cell_type": "code",
   "execution_count": 7,
   "id": "5b6082ff-07ab-4699-9e40-b377f0a773dc",
   "metadata": {
    "execution": {
     "iopub.execute_input": "2024-05-10T21:15:28.327461Z",
     "iopub.status.busy": "2024-05-10T21:15:28.327110Z",
     "iopub.status.idle": "2024-05-10T21:15:28.364476Z",
     "shell.execute_reply": "2024-05-10T21:15:28.362443Z",
     "shell.execute_reply.started": "2024-05-10T21:15:28.327433Z"
    }
   },
   "outputs": [
    {
     "ename": "StopExecution",
     "evalue": "stopped",
     "output_type": "error",
     "traceback": []
    }
   ],
   "source": [
    "# need to wait until transcriptions are available\n",
    "exit_cell()"
   ]
  },
  {
   "cell_type": "code",
   "execution_count": 23,
   "id": "176457da-a7af-4861-9f67-6cc191c21151",
   "metadata": {
    "execution": {
     "iopub.execute_input": "2024-05-10T21:39:30.521217Z",
     "iopub.status.busy": "2024-05-10T21:39:30.520026Z",
     "iopub.status.idle": "2024-05-10T21:39:57.905165Z",
     "shell.execute_reply": "2024-05-10T21:39:57.904069Z",
     "shell.execute_reply.started": "2024-05-10T21:39:30.521178Z"
    }
   },
   "outputs": [
    {
     "name": "stdout",
     "output_type": "stream",
     "text": [
      "found 0 requests to fetch\n",
      "0 transcriptions were retrieved\n",
      "498 new transcriptions were processed, there are 498 txt and 498 doc transcriptions available\n"
     ]
    }
   ],
   "source": [
    "# retrieve goodtape server responses from webhooks\n",
    "transcription.retrieve_responses_goodtape_via_webhooks(\n",
    "    df=df_transcriptions,\n",
    "    webhooks_token_id=WEBHOOKS_TOKEN_ID, \n",
    "    path_transcriptions_json=DIR_TRANSCRIPTIONS_JSON\n",
    ")\n",
    "\n",
    "# process json to text\n",
    "transcription.process_transcriptions_json(\n",
    "    df=df_transcriptions, \n",
    "    path_transcriptions_json=DIR_TRANSCRIPTIONS_JSON, \n",
    "    path_transcriptions_txt=DIR_TRANSCRIPTIONS_TXT,\n",
    "    path_transcriptions_doc=DIR_TRANSCRIPTIONS_DOC,\n",
    "    to_doc=True,\n",
    "    to_txt=True,\n",
    "    verbose=False,\n",
    ")\n",
    "\n",
    "# process json to doc"
   ]
  },
  {
   "cell_type": "markdown",
   "id": "5dc3ac4a-cdcf-4de1-b626-5fedd64c6eab",
   "metadata": {},
   "source": [
    "## Cleanup missing requests\n",
    "- transcription ids for the requests that were lost will be removed, only those that were processed will remain"
   ]
  },
  {
   "cell_type": "code",
   "execution_count": 24,
   "id": "7a973c44-2c9d-460d-8580-30a835d54745",
   "metadata": {
    "execution": {
     "iopub.execute_input": "2024-05-10T21:40:03.279007Z",
     "iopub.status.busy": "2024-05-10T21:40:03.278147Z",
     "iopub.status.idle": "2024-05-10T21:40:03.319026Z",
     "shell.execute_reply": "2024-05-10T21:40:03.317912Z",
     "shell.execute_reply.started": "2024-05-10T21:40:03.278975Z"
    }
   },
   "outputs": [
    {
     "data": {
      "text/html": [
       "<div>\n",
       "<style scoped>\n",
       "    .dataframe tbody tr th:only-of-type {\n",
       "        vertical-align: middle;\n",
       "    }\n",
       "\n",
       "    .dataframe tbody tr th {\n",
       "        vertical-align: top;\n",
       "    }\n",
       "\n",
       "    .dataframe thead th {\n",
       "        text-align: right;\n",
       "    }\n",
       "</style>\n",
       "<table border=\"1\" class=\"dataframe\">\n",
       "  <thead>\n",
       "    <tr style=\"text-align: right;\">\n",
       "      <th></th>\n",
       "      <th>Unnamed: 0</th>\n",
       "      <th>path</th>\n",
       "      <th>file</th>\n",
       "      <th>name</th>\n",
       "      <th>kind</th>\n",
       "      <th>date</th>\n",
       "      <th>type</th>\n",
       "      <th>duration</th>\n",
       "      <th>transcription_json</th>\n",
       "      <th>transcription_txt</th>\n",
       "      <th>transcription_doc</th>\n",
       "      <th>transcription_id</th>\n",
       "    </tr>\n",
       "  </thead>\n",
       "  <tbody>\n",
       "    <tr>\n",
       "      <th>0</th>\n",
       "      <td>0</td>\n",
       "      <td>2022/Henryk 2022-05-26 Bajka o nowym samochodz...</td>\n",
       "      <td>Henryk 2022-05-26 Bajka o nowym samochodziku.m4a</td>\n",
       "      <td>Bajka o nowym samochodziku</td>\n",
       "      <td>Henryk</td>\n",
       "      <td>26/05/2022</td>\n",
       "      <td>m4a</td>\n",
       "      <td>466.688000</td>\n",
       "      <td>Henryk 2022-05-26 Bajka o nowym samochodziku.json</td>\n",
       "      <td>Henryk 2022-05-26 Bajka o nowym samochodziku.txt</td>\n",
       "      <td>Henryk 2022-05-26 Bajka o nowym samochodziku.docx</td>\n",
       "      <td>None</td>\n",
       "    </tr>\n",
       "    <tr>\n",
       "      <th>1</th>\n",
       "      <td>1</td>\n",
       "      <td>2022/Henryk 2022-05-27 Bajka o Eryku r1.m4a</td>\n",
       "      <td>Henryk 2022-05-27 Bajka o Eryku r1.m4a</td>\n",
       "      <td>Bajka o Eryku r1</td>\n",
       "      <td>Henryk</td>\n",
       "      <td>27/05/2022</td>\n",
       "      <td>m4a</td>\n",
       "      <td>546.154667</td>\n",
       "      <td>Henryk 2022-05-27 Bajka o Eryku r1.json</td>\n",
       "      <td>Henryk 2022-05-27 Bajka o Eryku r1.txt</td>\n",
       "      <td>Henryk 2022-05-27 Bajka o Eryku r1.docx</td>\n",
       "      <td>None</td>\n",
       "    </tr>\n",
       "    <tr>\n",
       "      <th>2</th>\n",
       "      <td>2</td>\n",
       "      <td>2022/Henryk 2022-05-28 Bajka o swince peppie i...</td>\n",
       "      <td>Henryk 2022-05-28 Bajka o swince peppie i domu...</td>\n",
       "      <td>Bajka o swince peppie i domu rebeki</td>\n",
       "      <td>Henryk</td>\n",
       "      <td>28/05/2022</td>\n",
       "      <td>m4a</td>\n",
       "      <td>387.264000</td>\n",
       "      <td>Henryk 2022-05-28 Bajka o swince peppie i domu...</td>\n",
       "      <td>Henryk 2022-05-28 Bajka o swince peppie i domu...</td>\n",
       "      <td>Henryk 2022-05-28 Bajka o swince peppie i domu...</td>\n",
       "      <td>None</td>\n",
       "    </tr>\n",
       "    <tr>\n",
       "      <th>3</th>\n",
       "      <td>3</td>\n",
       "      <td>2022/Henryk 2022-05-30 Bajka o parku dinozauro...</td>\n",
       "      <td>Henryk 2022-05-30 Bajka o parku dinozaurow.m4a</td>\n",
       "      <td>Bajka o parku dinozaurow</td>\n",
       "      <td>Henryk</td>\n",
       "      <td>30/05/2022</td>\n",
       "      <td>m4a</td>\n",
       "      <td>511.658667</td>\n",
       "      <td>Henryk 2022-05-30 Bajka o parku dinozaurow.json</td>\n",
       "      <td>Henryk 2022-05-30 Bajka o parku dinozaurow.txt</td>\n",
       "      <td>Henryk 2022-05-30 Bajka o parku dinozaurow.docx</td>\n",
       "      <td>None</td>\n",
       "    </tr>\n",
       "    <tr>\n",
       "      <th>4</th>\n",
       "      <td>4</td>\n",
       "      <td>2022/Henryk 2022-05-31 Bajka o drużynie koszy...</td>\n",
       "      <td>Henryk 2022-05-31 Bajka o drużynie koszykowki...</td>\n",
       "      <td>Bajka o drużynie koszykowki</td>\n",
       "      <td>Henryk</td>\n",
       "      <td>31/05/2022</td>\n",
       "      <td>m4a</td>\n",
       "      <td>492.355918</td>\n",
       "      <td>Henryk 2022-05-31 Bajka o drużynie koszykowki...</td>\n",
       "      <td>Henryk 2022-05-31 Bajka o drużynie koszykowki...</td>\n",
       "      <td>Henryk 2022-05-31 Bajka o drużynie koszykowki...</td>\n",
       "      <td>None</td>\n",
       "    </tr>\n",
       "    <tr>\n",
       "      <th>...</th>\n",
       "      <td>...</td>\n",
       "      <td>...</td>\n",
       "      <td>...</td>\n",
       "      <td>...</td>\n",
       "      <td>...</td>\n",
       "      <td>...</td>\n",
       "      <td>...</td>\n",
       "      <td>...</td>\n",
       "      <td>...</td>\n",
       "      <td>...</td>\n",
       "      <td>...</td>\n",
       "      <td>...</td>\n",
       "    </tr>\n",
       "    <tr>\n",
       "      <th>493</th>\n",
       "      <td>493</td>\n",
       "      <td>Henryk 2024-04-26 Tatuś opowiada o zebraniu w...</td>\n",
       "      <td>Henryk 2024-04-26 Tatuś opowiada o zebraniu w...</td>\n",
       "      <td>Tatuś opowiada o zebraniu w żłobku a Kamptoz...</td>\n",
       "      <td>Henryk</td>\n",
       "      <td>26/04/2024</td>\n",
       "      <td>m4a</td>\n",
       "      <td>1106.730667</td>\n",
       "      <td>Henryk 2024-04-26 Tatuś opowiada o zebraniu w...</td>\n",
       "      <td>Henryk 2024-04-26 Tatuś opowiada o zebraniu w...</td>\n",
       "      <td>Henryk 2024-04-26 Tatuś opowiada o zebraniu w...</td>\n",
       "      <td>None</td>\n",
       "    </tr>\n",
       "    <tr>\n",
       "      <th>494</th>\n",
       "      <td>494</td>\n",
       "      <td>Henryk 2024-04-28 Tatuś opowiada o malowaniu ...</td>\n",
       "      <td>Henryk 2024-04-28 Tatuś opowiada o malowaniu ...</td>\n",
       "      <td>Tatuś opowiada o malowaniu krzesełek a Diplod...</td>\n",
       "      <td>Henryk</td>\n",
       "      <td>28/04/2024</td>\n",
       "      <td>m4a</td>\n",
       "      <td>1025.898667</td>\n",
       "      <td>Henryk 2024-04-28 Tatuś opowiada o malowaniu ...</td>\n",
       "      <td>Henryk 2024-04-28 Tatuś opowiada o malowaniu ...</td>\n",
       "      <td>Henryk 2024-04-28 Tatuś opowiada o malowaniu ...</td>\n",
       "      <td>None</td>\n",
       "    </tr>\n",
       "    <tr>\n",
       "      <th>495</th>\n",
       "      <td>495</td>\n",
       "      <td>Henryk 2024-04-29 Tata opowiada o konkursie i ...</td>\n",
       "      <td>Henryk 2024-04-29 Tata opowiada o konkursie i ...</td>\n",
       "      <td>Tata opowiada o konkursie i nagrodach a Gastor...</td>\n",
       "      <td>Henryk</td>\n",
       "      <td>29/04/2024</td>\n",
       "      <td>m4a</td>\n",
       "      <td>1078.997333</td>\n",
       "      <td>Henryk 2024-04-29 Tata opowiada o konkursie i ...</td>\n",
       "      <td>Henryk 2024-04-29 Tata opowiada o konkursie i ...</td>\n",
       "      <td>Henryk 2024-04-29 Tata opowiada o konkursie i ...</td>\n",
       "      <td>None</td>\n",
       "    </tr>\n",
       "    <tr>\n",
       "      <th>496</th>\n",
       "      <td>496</td>\n",
       "      <td>Henryk 2024-05-01 Tatuś opowiada o dniu pracy...</td>\n",
       "      <td>Henryk 2024-05-01 Tatuś opowiada o dniu pracy...</td>\n",
       "      <td>Tatuś opowiada o dniu pracy a Trąbiący dino...</td>\n",
       "      <td>Henryk</td>\n",
       "      <td>01/05/2024</td>\n",
       "      <td>m4a</td>\n",
       "      <td>1227.306667</td>\n",
       "      <td>Henryk 2024-05-01 Tatuś opowiada o dniu pracy...</td>\n",
       "      <td>Henryk 2024-05-01 Tatuś opowiada o dniu pracy...</td>\n",
       "      <td>Henryk 2024-05-01 Tatuś opowiada o dniu pracy...</td>\n",
       "      <td>None</td>\n",
       "    </tr>\n",
       "    <tr>\n",
       "      <th>497</th>\n",
       "      <td>497</td>\n",
       "      <td>Henryk 2024-05-03 Tatuś opowiada o Rycerzach ...</td>\n",
       "      <td>Henryk 2024-05-03 Tatuś opowiada o Rycerzach ...</td>\n",
       "      <td>Tatuś opowiada o Rycerzach i Zamkach a Prapłe...</td>\n",
       "      <td>Henryk</td>\n",
       "      <td>03/05/2024</td>\n",
       "      <td>m4a</td>\n",
       "      <td>1116.394667</td>\n",
       "      <td>Henryk 2024-05-03 Tatuś opowiada o Rycerzach ...</td>\n",
       "      <td>Henryk 2024-05-03 Tatuś opowiada o Rycerzach ...</td>\n",
       "      <td>Henryk 2024-05-03 Tatuś opowiada o Rycerzach ...</td>\n",
       "      <td>None</td>\n",
       "    </tr>\n",
       "  </tbody>\n",
       "</table>\n",
       "<p>498 rows × 12 columns</p>\n",
       "</div>"
      ],
      "text/plain": [
       "     Unnamed: 0                                               path  \\\n",
       "0             0  2022/Henryk 2022-05-26 Bajka o nowym samochodz...   \n",
       "1             1        2022/Henryk 2022-05-27 Bajka o Eryku r1.m4a   \n",
       "2             2  2022/Henryk 2022-05-28 Bajka o swince peppie i...   \n",
       "3             3  2022/Henryk 2022-05-30 Bajka o parku dinozauro...   \n",
       "4             4  2022/Henryk 2022-05-31 Bajka o drużynie koszy...   \n",
       "..          ...                                                ...   \n",
       "493         493  Henryk 2024-04-26 Tatuś opowiada o zebraniu w...   \n",
       "494         494  Henryk 2024-04-28 Tatuś opowiada o malowaniu ...   \n",
       "495         495  Henryk 2024-04-29 Tata opowiada o konkursie i ...   \n",
       "496         496  Henryk 2024-05-01 Tatuś opowiada o dniu pracy...   \n",
       "497         497  Henryk 2024-05-03 Tatuś opowiada o Rycerzach ...   \n",
       "\n",
       "                                                  file  \\\n",
       "0     Henryk 2022-05-26 Bajka o nowym samochodziku.m4a   \n",
       "1               Henryk 2022-05-27 Bajka o Eryku r1.m4a   \n",
       "2    Henryk 2022-05-28 Bajka o swince peppie i domu...   \n",
       "3       Henryk 2022-05-30 Bajka o parku dinozaurow.m4a   \n",
       "4    Henryk 2022-05-31 Bajka o drużynie koszykowki...   \n",
       "..                                                 ...   \n",
       "493  Henryk 2024-04-26 Tatuś opowiada o zebraniu w...   \n",
       "494  Henryk 2024-04-28 Tatuś opowiada o malowaniu ...   \n",
       "495  Henryk 2024-04-29 Tata opowiada o konkursie i ...   \n",
       "496  Henryk 2024-05-01 Tatuś opowiada o dniu pracy...   \n",
       "497  Henryk 2024-05-03 Tatuś opowiada o Rycerzach ...   \n",
       "\n",
       "                                                  name    kind        date  \\\n",
       "0                           Bajka o nowym samochodziku  Henryk  26/05/2022   \n",
       "1                                     Bajka o Eryku r1  Henryk  27/05/2022   \n",
       "2                  Bajka o swince peppie i domu rebeki  Henryk  28/05/2022   \n",
       "3                             Bajka o parku dinozaurow  Henryk  30/05/2022   \n",
       "4                         Bajka o drużynie koszykowki  Henryk  31/05/2022   \n",
       "..                                                 ...     ...         ...   \n",
       "493  Tatuś opowiada o zebraniu w żłobku a Kamptoz...  Henryk  26/04/2024   \n",
       "494  Tatuś opowiada o malowaniu krzesełek a Diplod...  Henryk  28/04/2024   \n",
       "495  Tata opowiada o konkursie i nagrodach a Gastor...  Henryk  29/04/2024   \n",
       "496  Tatuś opowiada o dniu pracy a Trąbiący dino...  Henryk  01/05/2024   \n",
       "497  Tatuś opowiada o Rycerzach i Zamkach a Prapłe...  Henryk  03/05/2024   \n",
       "\n",
       "    type     duration                                 transcription_json  \\\n",
       "0    m4a   466.688000  Henryk 2022-05-26 Bajka o nowym samochodziku.json   \n",
       "1    m4a   546.154667            Henryk 2022-05-27 Bajka o Eryku r1.json   \n",
       "2    m4a   387.264000  Henryk 2022-05-28 Bajka o swince peppie i domu...   \n",
       "3    m4a   511.658667    Henryk 2022-05-30 Bajka o parku dinozaurow.json   \n",
       "4    m4a   492.355918  Henryk 2022-05-31 Bajka o drużynie koszykowki...   \n",
       "..   ...          ...                                                ...   \n",
       "493  m4a  1106.730667  Henryk 2024-04-26 Tatuś opowiada o zebraniu w...   \n",
       "494  m4a  1025.898667  Henryk 2024-04-28 Tatuś opowiada o malowaniu ...   \n",
       "495  m4a  1078.997333  Henryk 2024-04-29 Tata opowiada o konkursie i ...   \n",
       "496  m4a  1227.306667  Henryk 2024-05-01 Tatuś opowiada o dniu pracy...   \n",
       "497  m4a  1116.394667  Henryk 2024-05-03 Tatuś opowiada o Rycerzach ...   \n",
       "\n",
       "                                     transcription_txt  \\\n",
       "0     Henryk 2022-05-26 Bajka o nowym samochodziku.txt   \n",
       "1               Henryk 2022-05-27 Bajka o Eryku r1.txt   \n",
       "2    Henryk 2022-05-28 Bajka o swince peppie i domu...   \n",
       "3       Henryk 2022-05-30 Bajka o parku dinozaurow.txt   \n",
       "4    Henryk 2022-05-31 Bajka o drużynie koszykowki...   \n",
       "..                                                 ...   \n",
       "493  Henryk 2024-04-26 Tatuś opowiada o zebraniu w...   \n",
       "494  Henryk 2024-04-28 Tatuś opowiada o malowaniu ...   \n",
       "495  Henryk 2024-04-29 Tata opowiada o konkursie i ...   \n",
       "496  Henryk 2024-05-01 Tatuś opowiada o dniu pracy...   \n",
       "497  Henryk 2024-05-03 Tatuś opowiada o Rycerzach ...   \n",
       "\n",
       "                                     transcription_doc transcription_id  \n",
       "0    Henryk 2022-05-26 Bajka o nowym samochodziku.docx             None  \n",
       "1              Henryk 2022-05-27 Bajka o Eryku r1.docx             None  \n",
       "2    Henryk 2022-05-28 Bajka o swince peppie i domu...             None  \n",
       "3      Henryk 2022-05-30 Bajka o parku dinozaurow.docx             None  \n",
       "4    Henryk 2022-05-31 Bajka o drużynie koszykowki...             None  \n",
       "..                                                 ...              ...  \n",
       "493  Henryk 2024-04-26 Tatuś opowiada o zebraniu w...             None  \n",
       "494  Henryk 2024-04-28 Tatuś opowiada o malowaniu ...             None  \n",
       "495  Henryk 2024-04-29 Tata opowiada o konkursie i ...             None  \n",
       "496  Henryk 2024-05-01 Tatuś opowiada o dniu pracy...             None  \n",
       "497  Henryk 2024-05-03 Tatuś opowiada o Rycerzach ...             None  \n",
       "\n",
       "[498 rows x 12 columns]"
      ]
     },
     "execution_count": 24,
     "metadata": {},
     "output_type": "execute_result"
    }
   ],
   "source": [
    "df_transcriptions"
   ]
  },
  {
   "cell_type": "code",
   "execution_count": 25,
   "id": "f2446222-fb6f-4d14-be7f-2500841239e5",
   "metadata": {
    "execution": {
     "iopub.execute_input": "2024-05-10T21:40:31.893140Z",
     "iopub.status.busy": "2024-05-10T21:40:31.892773Z",
     "iopub.status.idle": "2024-05-10T21:40:33.715618Z",
     "shell.execute_reply": "2024-05-10T21:40:33.714274Z",
     "shell.execute_reply.started": "2024-05-10T21:40:31.893110Z"
    }
   },
   "outputs": [
    {
     "name": "stdout",
     "output_type": "stream",
     "text": [
      "there are 498 processed and valid transcriptions\n",
      "\u001b[22m\u001b[49m\u001b[92m*** all 498 recordings were transcribed ***\u001b[0m\n"
     ]
    }
   ],
   "source": [
    "# cleanup stale transcription ids - but work on a copy of the log\n",
    "df_transcriptions_to_write = transcription.get_cleaned_up_transcriptions(\n",
    "    df=df_transcriptions, \n",
    "    path_transcriptions_json=DIR_TRANSCRIPTIONS_JSON, \n",
    "    path_transcriptions_txt=DIR_TRANSCRIPTIONS_TXT,\n",
    "    path_transcriptions_doc=DIR_TRANSCRIPTIONS_DOC,\n",
    ")\n",
    "\n",
    "# save transcription log\n",
    "df_transcriptions_to_write.to_csv(FILE_TRANSCRIPTION_CSV, index=False)"
   ]
  }
 ],
 "metadata": {
  "kernelspec": {
   "display_name": "Python [conda env:base] *",
   "language": "python",
   "name": "conda-base-py"
  },
  "language_info": {
   "codemirror_mode": {
    "name": "ipython",
    "version": 3
   },
   "file_extension": ".py",
   "mimetype": "text/x-python",
   "name": "python",
   "nbconvert_exporter": "python",
   "pygments_lexer": "ipython3",
   "version": "3.11.9"
  }
 },
 "nbformat": 4,
 "nbformat_minor": 5
}
