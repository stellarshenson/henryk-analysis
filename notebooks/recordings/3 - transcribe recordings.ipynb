{
 "cells": [
  {
   "cell_type": "markdown",
   "id": "26c1897f-f9e2-4145-844c-4ce5f60b54a5",
   "metadata": {},
   "source": [
    "# Transcribe Recordings\n",
    "paid service [Goodtape](http://goodtape.io) will be used for the transcriptions"
   ]
  },
  {
   "cell_type": "markdown",
   "id": "55c7d390-2166-421c-acb9-fd8853cac4a8",
   "metadata": {},
   "source": [
    "## Imports"
   ]
  },
  {
   "cell_type": "code",
   "execution_count": 1,
   "id": "5a5c8bb7-b155-4e46-bd24-f0bee9422a63",
   "metadata": {
    "execution": {
     "iopub.execute_input": "2024-05-07T20:42:56.908962Z",
     "iopub.status.busy": "2024-05-07T20:42:56.908812Z",
     "iopub.status.idle": "2024-05-07T20:42:56.922353Z",
     "shell.execute_reply": "2024-05-07T20:42:56.921713Z",
     "shell.execute_reply.started": "2024-05-07T20:42:56.908949Z"
    },
    "tags": []
   },
   "outputs": [],
   "source": [
    "%reload_ext autoreload\n",
    "%autoreload 2"
   ]
  },
  {
   "cell_type": "code",
   "execution_count": 2,
   "id": "7a299954-a131-4796-bad5-c9b53d0eb8cb",
   "metadata": {
    "execution": {
     "iopub.execute_input": "2024-05-07T20:42:56.923515Z",
     "iopub.status.busy": "2024-05-07T20:42:56.922999Z",
     "iopub.status.idle": "2024-05-07T20:42:57.367951Z",
     "shell.execute_reply": "2024-05-07T20:42:57.367409Z",
     "shell.execute_reply.started": "2024-05-07T20:42:56.923500Z"
    }
   },
   "outputs": [],
   "source": [
    "import requests\n",
    "import pandas as pd\n",
    "import os\n",
    "import shutil\n",
    "import io\n",
    "\n",
    "# audio\n",
    "from pydub import AudioSegment\n",
    "\n",
    "# local imports\n",
    "from lib_henryk.logger import *\n",
    "from lib_henryk.config import *"
   ]
  },
  {
   "cell_type": "markdown",
   "id": "0c26ac2e-7619-48cf-9412-290f1c7c4461",
   "metadata": {},
   "source": [
    "## Params"
   ]
  },
  {
   "cell_type": "code",
   "execution_count": 3,
   "id": "170fe65c-d43d-4157-9473-29a7a25b8d4f",
   "metadata": {
    "execution": {
     "iopub.execute_input": "2024-05-07T20:42:57.369544Z",
     "iopub.status.busy": "2024-05-07T20:42:57.369318Z",
     "iopub.status.idle": "2024-05-07T20:42:57.398765Z",
     "shell.execute_reply": "2024-05-07T20:42:57.398152Z",
     "shell.execute_reply.started": "2024-05-07T20:42:57.369532Z"
    }
   },
   "outputs": [],
   "source": [
    "# load api keys\n",
    "from dotenv import load_dotenv\n",
    "_ = load_dotenv()\n",
    "\n",
    "# goodtape api key\n",
    "api_key = os.getenv(\"API_KEY_GOODTAPE\")"
   ]
  },
  {
   "cell_type": "markdown",
   "id": "f2ff50ef-0490-42be-b84c-cf0f5f708f36",
   "metadata": {},
   "source": [
    "## Load Dataset"
   ]
  },
  {
   "cell_type": "code",
   "execution_count": 4,
   "id": "f59bfa37-d829-44eb-930c-29d56d91c092",
   "metadata": {
    "execution": {
     "iopub.execute_input": "2024-05-07T20:42:57.399647Z",
     "iopub.status.busy": "2024-05-07T20:42:57.399457Z",
     "iopub.status.idle": "2024-05-07T20:42:57.420473Z",
     "shell.execute_reply": "2024-05-07T20:42:57.419900Z",
     "shell.execute_reply.started": "2024-05-07T20:42:57.399633Z"
    }
   },
   "outputs": [],
   "source": [
    "df = pd.read_csv(FILE_AUDIO_STATS_CSV)"
   ]
  },
  {
   "cell_type": "markdown",
   "id": "34641782-a8f2-4743-9e49-09a1c5d363b4",
   "metadata": {},
   "source": [
    "## Run Transcriptions"
   ]
  },
  {
   "cell_type": "code",
   "execution_count": 5,
   "id": "227a3ae5-c90b-4da3-b2da-a49a3470aeb9",
   "metadata": {
    "execution": {
     "iopub.execute_input": "2024-05-07T20:42:57.421461Z",
     "iopub.status.busy": "2024-05-07T20:42:57.421105Z",
     "iopub.status.idle": "2024-05-07T20:42:57.435410Z",
     "shell.execute_reply": "2024-05-07T20:42:57.434764Z",
     "shell.execute_reply.started": "2024-05-07T20:42:57.421447Z"
    }
   },
   "outputs": [],
   "source": [
    "# load just one record, could be last file\n",
    "index = -3\n",
    "file_path = DIR_WIADOMOSCI_DO_HENRYCZKA + '/' + df.iloc[index]['path']\n",
    "file_name = df.iloc[index]['file'].replace(' ', '_')\n",
    "callback_url = 'https://webhook.site/d3c707b2-c8cb-44cf-97a7-a27e9cfda38c'"
   ]
  },
  {
   "cell_type": "code",
   "execution_count": 6,
   "id": "58416673-ea72-4646-b701-dab21771e99c",
   "metadata": {
    "execution": {
     "iopub.execute_input": "2024-05-07T20:42:57.436514Z",
     "iopub.status.busy": "2024-05-07T20:42:57.436356Z",
     "iopub.status.idle": "2024-05-07T20:42:59.362421Z",
     "shell.execute_reply": "2024-05-07T20:42:59.361927Z",
     "shell.execute_reply.started": "2024-05-07T20:42:57.436501Z"
    }
   },
   "outputs": [],
   "source": [
    "# create buffer\n",
    "buffer = io.BytesIO()\n",
    "\n",
    "# load audio segment\n",
    "recording = AudioSegment.from_file(file_path, format='m4a')\n",
    "\n",
    "# truncate the recording to x%\n",
    "truncate_ratio = 0.1\n",
    "recording_truncated = recording[0:int(len(recording) * truncate_ratio)]\n",
    "\n",
    "# write converted file to the buffer\n",
    "recording_truncated.export(buffer, format='mp3')\n",
    "recording_name = file_name.replace('.m4a', '.mp3')"
   ]
  },
  {
   "cell_type": "code",
   "execution_count": 7,
   "id": "92f61f2b-c55f-43cb-8554-cc39c9af7a9d",
   "metadata": {
    "execution": {
     "iopub.execute_input": "2024-05-07T20:42:59.363229Z",
     "iopub.status.busy": "2024-05-07T20:42:59.363041Z",
     "iopub.status.idle": "2024-05-07T20:43:01.110003Z",
     "shell.execute_reply": "2024-05-07T20:43:01.108929Z",
     "shell.execute_reply.started": "2024-05-07T20:42:59.363186Z"
    }
   },
   "outputs": [
    {
     "name": "stdout",
     "output_type": "stream",
     "text": [
      "processing files: {'audio': ('Henryk_2024-04-29_Tata_opowiada_o_konkursie_i_nagrodach_a_Gastornis_uciekł_Tyranozaurowi.mp3', <_io.BytesIO object at 0x7f53189439c0>)}\n",
      "{'detail': \"Error processing request. You'll not be billed for this request.\"}\n"
     ]
    }
   ],
   "source": [
    "url = \"https://api.goodtape.io/transcribe\"\n",
    "# url = callback_url\n",
    "headers = {\"Authorization\": api_key}\n",
    "files = {\"audio\": (recording_name, buffer)}\n",
    "data = {\n",
    "    \"callbackUrl\": callback_url,\n",
    "    \"languageCode\": \"pl\",\n",
    "}\n",
    "\n",
    "print(f'processing files: {files}')\n",
    "response = requests.post(url, headers=headers, files=files, data=data)\n",
    "print(response.json())"
   ]
  },
  {
   "cell_type": "code",
   "execution_count": null,
   "id": "80aa6928-1173-4fac-96af-9ecfbd42aa29",
   "metadata": {},
   "outputs": [],
   "source": []
  }
 ],
 "metadata": {
  "kernelspec": {
   "display_name": "Python [conda env:base] *",
   "language": "python",
   "name": "conda-base-py"
  },
  "language_info": {
   "codemirror_mode": {
    "name": "ipython",
    "version": 3
   },
   "file_extension": ".py",
   "mimetype": "text/x-python",
   "name": "python",
   "nbconvert_exporter": "python",
   "pygments_lexer": "ipython3",
   "version": "3.11.9"
  }
 },
 "nbformat": 4,
 "nbformat_minor": 5
}
