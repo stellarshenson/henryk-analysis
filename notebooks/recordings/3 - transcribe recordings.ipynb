{
 "cells": [
  {
   "cell_type": "markdown",
   "id": "26c1897f-f9e2-4145-844c-4ce5f60b54a5",
   "metadata": {},
   "source": [
    "# Transcribe Recordings\n",
    "paid service [Goodtape](http://goodtape.io) will be used for the transcriptions"
   ]
  },
  {
   "cell_type": "markdown",
   "id": "55c7d390-2166-421c-acb9-fd8853cac4a8",
   "metadata": {},
   "source": [
    "## Imports"
   ]
  },
  {
   "cell_type": "code",
   "execution_count": 1,
   "id": "5a5c8bb7-b155-4e46-bd24-f0bee9422a63",
   "metadata": {
    "execution": {
     "iopub.execute_input": "2024-05-09T09:55:00.348373Z",
     "iopub.status.busy": "2024-05-09T09:55:00.348079Z",
     "iopub.status.idle": "2024-05-09T09:55:00.390731Z",
     "shell.execute_reply": "2024-05-09T09:55:00.389664Z",
     "shell.execute_reply.started": "2024-05-09T09:55:00.348348Z"
    },
    "tags": []
   },
   "outputs": [],
   "source": [
    "%reload_ext autoreload\n",
    "%autoreload 2"
   ]
  },
  {
   "cell_type": "code",
   "execution_count": 76,
   "id": "7a299954-a131-4796-bad5-c9b53d0eb8cb",
   "metadata": {
    "execution": {
     "iopub.execute_input": "2024-05-09T12:17:20.127284Z",
     "iopub.status.busy": "2024-05-09T12:17:20.126748Z",
     "iopub.status.idle": "2024-05-09T12:17:20.158992Z",
     "shell.execute_reply": "2024-05-09T12:17:20.158249Z",
     "shell.execute_reply.started": "2024-05-09T12:17:20.127266Z"
    }
   },
   "outputs": [],
   "source": [
    "import requests\n",
    "import pandas as pd\n",
    "import os\n",
    "import shutil\n",
    "import numpy as np\n",
    "import io\n",
    "import json\n",
    "import math\n",
    "\n",
    "from requests.utils import quote\n",
    "\n",
    "# audio\n",
    "from pydub import AudioSegment\n",
    "\n",
    "# local imports\n",
    "from lib_henryk.logger import *\n",
    "from lib_henryk.config import *\n",
    "\n",
    "from lib_henryk.transcription import transcription"
   ]
  },
  {
   "cell_type": "markdown",
   "id": "0c26ac2e-7619-48cf-9412-290f1c7c4461",
   "metadata": {},
   "source": [
    "## Params"
   ]
  },
  {
   "cell_type": "code",
   "execution_count": 3,
   "id": "170fe65c-d43d-4157-9473-29a7a25b8d4f",
   "metadata": {
    "execution": {
     "iopub.execute_input": "2024-05-09T09:55:01.149663Z",
     "iopub.status.busy": "2024-05-09T09:55:01.148498Z",
     "iopub.status.idle": "2024-05-09T09:55:01.188919Z",
     "shell.execute_reply": "2024-05-09T09:55:01.187774Z",
     "shell.execute_reply.started": "2024-05-09T09:55:01.149632Z"
    }
   },
   "outputs": [],
   "source": [
    "# load api keys\n",
    "from dotenv import load_dotenv\n",
    "_ = load_dotenv()\n",
    "\n",
    "WEBHOOKS_TOKEN_ID = 'd1d3576a-615d-418d-bb5b-2581e23c94dc'\n",
    "GOODTAPE_API_KEY = os.getenv(\"GOODTAPE_API_KEY\")"
   ]
  },
  {
   "cell_type": "markdown",
   "id": "f2ff50ef-0490-42be-b84c-cf0f5f708f36",
   "metadata": {},
   "source": [
    "## Load Dataset"
   ]
  },
  {
   "cell_type": "code",
   "execution_count": 4,
   "id": "f59bfa37-d829-44eb-930c-29d56d91c092",
   "metadata": {
    "execution": {
     "iopub.execute_input": "2024-05-09T09:55:01.190832Z",
     "iopub.status.busy": "2024-05-09T09:55:01.190297Z",
     "iopub.status.idle": "2024-05-09T09:55:01.228084Z",
     "shell.execute_reply": "2024-05-09T09:55:01.227129Z",
     "shell.execute_reply.started": "2024-05-09T09:55:01.190805Z"
    }
   },
   "outputs": [],
   "source": [
    "df = pd.read_csv(FILE_AUDIO_STATS_CSV)\n",
    "df_transcription = df.copy()\n",
    "df_transcription['transcription_id'] = ''"
   ]
  },
  {
   "cell_type": "markdown",
   "id": "34641782-a8f2-4743-9e49-09a1c5d363b4",
   "metadata": {},
   "source": [
    "## Run Transcriptions"
   ]
  },
  {
   "cell_type": "code",
   "execution_count": 99,
   "id": "120f74ec-b408-4afb-9669-4655bc80537b",
   "metadata": {
    "execution": {
     "iopub.execute_input": "2024-05-09T12:30:14.830540Z",
     "iopub.status.busy": "2024-05-09T12:30:14.830281Z",
     "iopub.status.idle": "2024-05-09T12:30:14.861140Z",
     "shell.execute_reply": "2024-05-09T12:30:14.860445Z",
     "shell.execute_reply.started": "2024-05-09T12:30:14.830514Z"
    }
   },
   "outputs": [
    {
     "name": "stdout",
     "output_type": "stream",
     "text": [
      "transcription log exists, reading it from ../../data/processed/henryk_audio_transcription.csv\n"
     ]
    }
   ],
   "source": [
    "# load sync dataframe\n",
    "if os.path.exists(FILE_TRANSCRIPTION_CSV):\n",
    "    print(f'transcription log exists, reading it from {FILE_TRANSCRIPTION_CSV}')\n",
    "    df_transcription = pd.read_csv(FILE_TRANSCRIPTION_CSV)"
   ]
  },
  {
   "cell_type": "code",
   "execution_count": 102,
   "id": "6fd0deda-025c-49b8-b4d6-d5d2cda26e1a",
   "metadata": {
    "execution": {
     "iopub.execute_input": "2024-05-09T12:31:24.507671Z",
     "iopub.status.busy": "2024-05-09T12:31:24.507020Z",
     "iopub.status.idle": "2024-05-09T12:32:57.005490Z",
     "shell.execute_reply": "2024-05-09T12:32:57.004842Z",
     "shell.execute_reply.started": "2024-05-09T12:31:24.507642Z"
    }
   },
   "outputs": [
    {
     "name": "stdout",
     "output_type": "stream",
     "text": [
      "processing [287]: Henryk 2023-06-16 Tatuś opowiada o tym jak warto popełniać błędy a Smoki budują mur.m4a\n",
      "processing [288]: Henryk 2023-06-17 Tatuś opowiada o malowaniu bawialni a Żaba śni że jest warzywem.m4a\n",
      "processing [289]: Henryk 2023-06-19 Tata opowiada o piasku i polskim morzu a Żaba prosi smoki by ją obudziły.m4a\n",
      "processing [290]: Henryk 2023-06-20 Tata opowiada o kierunkach geograficznych a Żaba budzi się w końcu.m4a\n",
      "processing [291]: Henryk 2023-06-22 Tata opowiada o mapie a Smoki urządzają pranie.m4a\n",
      "processing [292]: Henryk 2023-06-25 Tatuś opowiada o Babusi i Dziadziusiu a Makrauchenia rozpoczęła opowieść o Din...\n",
      "processing [293]: Henryk 2023-06-27 Tatuś opowiada o cioci Monice a Makrauchenia opowiada o Dinozaurach i o tym że i...\n",
      "processing [294]: Henryk 2023-06-29 Tata opowiada o prezencie od Henryczka a Rysio Kapustnik zapowiada smokom Niespodz...\n",
      "processing [295]: Henryk 2023-06-30 Tatuś opowiada o rozmowie z ciocią Sylwią a Smoki poznają nowego Tortowego Smo...\n",
      "processing [296]: Henryk 2023-07-01 Tatuś spotkał się z wujkiem Michałem przy ognisku a Żaba chce wyglądać piękn...\n",
      "processing [297]: Rodzice Henryk 2023-07-02 Dziadziuś i Babusia opowiadają o kempingu.m4a\n",
      "processing [298]: Henryk 2023-07-04 Tatuś robi kwietniki do bawialni a Żaba słucha jak Krokodyl pięknie śpiewa.m4a\n",
      "processing [299]: Henryk 2023-07-05 Tatuś opowiada o bawialni Margolcia którą urządza na wielkie otwarcie.m4a\n",
      "submitted 13 recordings to the transcription service GoodTape\n"
     ]
    }
   ],
   "source": [
    "# perform transcriptions\n",
    "transcription.submit_transcriptions_goodtape(\n",
    "    df=df_transcription, \n",
    "    webhooks_token_id=WEBHOOKS_TOKEN_ID,\n",
    "    goodtape_api_key=GOODTAPE_API_KEY,\n",
    "    path_recordings=DIR_WIADOMOSCI_DO_HENRYCZKA,\n",
    "    start=0, stop=300,\n",
    "    verbose=False\n",
    ")"
   ]
  },
  {
   "cell_type": "markdown",
   "id": "69d6291c-8a75-494e-add8-078fcdbdb391",
   "metadata": {},
   "source": [
    "## Fetch Transcriptions JSONs"
   ]
  },
  {
   "cell_type": "code",
   "execution_count": null,
   "id": "5b6082ff-07ab-4699-9e40-b377f0a773dc",
   "metadata": {
    "execution": {
     "iopub.status.busy": "2024-05-09T09:55:36.941238Z",
     "iopub.status.idle": "2024-05-09T09:55:36.941566Z",
     "shell.execute_reply": "2024-05-09T09:55:36.941413Z",
     "shell.execute_reply.started": "2024-05-09T09:55:36.941397Z"
    }
   },
   "outputs": [],
   "source": [
    "# need to wait until transcriptions are available\n",
    "exit_cell()"
   ]
  },
  {
   "cell_type": "code",
   "execution_count": 104,
   "id": "176457da-a7af-4861-9f67-6cc191c21151",
   "metadata": {
    "execution": {
     "iopub.execute_input": "2024-05-09T12:38:29.180862Z",
     "iopub.status.busy": "2024-05-09T12:38:29.180668Z",
     "iopub.status.idle": "2024-05-09T12:38:51.253572Z",
     "shell.execute_reply": "2024-05-09T12:38:51.252889Z",
     "shell.execute_reply.started": "2024-05-09T12:38:29.180849Z"
    }
   },
   "outputs": [
    {
     "name": "stdout",
     "output_type": "stream",
     "text": [
      "found 33 requests to fetch\n",
      "retrieved transcription [0]: 22a93a64-ce8f-4ce7-a60a-23f8d37337a4 -> file [298]: Henryk 2023-07-04 Tatuś robi kwietniki do bawialni a Żaba słuc...\n",
      "retrieved transcription [1]: 92c6bedd-a41f-4485-8e7f-2887f5e6b6d3 -> file [295]: Henryk 2023-06-30 Tatuś opowiada o rozmowie z ciocią Sylwią a...\n",
      "retrieved transcription [2]: 66d74140-4412-4696-8019-d34496601f44 -> file [297]: Rodzice Henryk 2023-07-02 Dziadziuś i Babusia opowiadają o kempi...\n",
      "retrieved transcription [3]: 5f9b87b9-4081-4882-ad4c-fe6a2810e5c2 -> file [296]: Henryk 2023-07-01 Tatuś spotkał się z wujkiem Michałem przy og...\n",
      "retrieved transcription [4]: ab7ec2e6-4848-4e8b-874f-b13474027f92 -> file [294]: Henryk 2023-06-29 Tata opowiada o prezencie od Henryczka a Rysio...\n",
      "retrieved transcription [5]: 25a6d229-9888-47fd-80e3-565f663f0da3 -> file [292]: Henryk 2023-06-25 Tatuś opowiada o Babusi i Dziadziusiu a Makra...\n",
      "retrieved transcription [6]: bef3748e-38f6-455b-ac76-d59a38d4ee94 -> file [299]: Henryk 2023-07-05 Tatuś opowiada o bawialni Margolcia którą u...\n",
      "retrieved transcription [7]: 3bd23f13-ade2-40b8-b3de-6594f0d1a68e -> file [293]: Henryk 2023-06-27 Tatuś opowiada o cioci Monice a Makrauchenia ...\n",
      "retrieved transcription [8]: 11132b50-c252-4891-a86f-90c7e3b1820e -> file [290]: Henryk 2023-06-20 Tata opowiada o kierunkach geograficznych a Ż...\n",
      "retrieved transcription [9]: cef0c8ca-4891-4d04-9553-fe272521b58f -> file [291]: Henryk 2023-06-22 Tata opowiada o mapie a Smoki urządzają pran...\n",
      "retrieved transcription [10]: c72f6b9a-3b02-4108-9015-6467c9dd4e5e -> file [287]: Henryk 2023-06-16 Tatuś opowiada o tym jak warto popełniać błe...\n",
      "retrieved transcription [11]: 254cdc68-4114-481c-9d19-76f4b7544f1f -> file [289]: Henryk 2023-06-19 Tata opowiada o piasku i polskim morzu a Żaba...\n",
      "retrieved transcription [12]: 6f7c8336-eee0-4b1f-b495-7c740d4bed8b -> file [288]: Henryk 2023-06-17 Tatuś opowiada o malowaniu bawialni a Żaba s...\n",
      "retrieved transcription [13]: 0f539c59-fa29-4363-ac76-9ca895568891 -> file [286]: Henryk 2023-06-15 Tata opowiada o owocach a smoki udały się nad...\n",
      "retrieved transcription [14]: e106aa7c-6e3a-4be2-af5f-8c0dd800f407 -> file [285]: Henryk 2023-06-14 Tata opowiada o muzyce a Smoki spotykają na z...\n",
      "retrieved transcription [15]: 8b61083f-30cf-4c8b-a907-0443d4fa4c6d -> file [279]: Henryk 2023-06-03 Tatuś opowiada o podróży z Polski do Arabii...\n",
      "retrieved transcription [16]: f5efb61c-6991-4972-bc0b-fc44061663fa -> file [283]: Henryk 2023-06-10 Tatuś przyjechał Cię zobaczyć a Smok Antoni...\n",
      "retrieved transcription [17]: 965fdde1-36c1-45ca-aa64-7288eb62e0c1 -> file [280]: Henryk 2023-06-04 Tatuś opowiada o tym co to jest Tydzień a Kł...\n",
      "retrieved transcription [18]: dbbfa8e7-2a7b-42da-a352-2c5b387d3b9f -> file [284]: Henryk 2023-06-12 Tata jest w drodze do Warszawy a Żaba wybiera...\n",
      "retrieved transcription [19]: e01a005d-eec2-421d-9f33-4020ad66bbfe -> file [282]: Henryk 2023-06-08 Tata opowiada o Skarbie dla Henryczka a Krzyś...\n",
      "retrieved transcription [20]: d23064db-d527-4e0c-98ec-1eb3d12d4d41 -> file [281]: Henryk 2023-06-06 Tatuś opowiada o Restauracji i Grze Planszowe...\n",
      "retrieved transcription [21]: 5ff73800-254c-4521-b9ff-d7a42bbd0fd8 -> file [277]: Henryk 2023-06-01 Dzień Dziecka i Kłapouchy znajduje nowy dom d...\n",
      "retrieved transcription [22]: efcd7e26-3ac1-4810-b112-0f2394ecc436 -> file [278]: Rodzice Henryk 2023-06-02 Życzenia od dziadków na dzien dzieck...\n",
      "retrieved transcription [23]: 083660ee-cef7-45b0-b672-2f1ed10c713e -> file [276]: Henryk 2023-05-30 Tatuś opowiada o Dniu Rodziny a przyjaciele S...\n",
      "retrieved transcription [24]: cc035f5d-b6b8-4221-bfb7-782ee4ea3e2d -> file [274]: Henryk 2023-05-28 Tata opowiada o Miesiącach a Królik odwiedza...\n",
      "retrieved transcription [25]: 6225c594-79e5-4711-8802-77d7fda6f886 -> file [275]: Henryk 2023-05-29 Tatuś opowiada o prezencie na Dzień Dziecka ...\n",
      "retrieved transcription [26]: 899ebcc5-e0d7-438f-b829-eabe06540f5a -> file [273]: Henryk 2023-05-27 Tatuś opowiada o aparacie fotograficznym a Pu...\n",
      "retrieved transcription [27]: 7cf66f5d-a7d4-4cab-b20c-6a92814bc6cf -> file [272]: Henryk 2023-05-25 Tatuś opowiada o Olkuszu a Prosiaczek uratowa...\n",
      "retrieved transcription [28]: de2ad033-6544-4f7f-80e6-3ddf6c05276f -> file [270]: Henryk 2023-05-22 Tata opowiada o wycieczce Babci i Dziadka a Pu...\n",
      "retrieved transcription [29]: b7a1fda3-899a-4655-8b6f-ca337ef45e59 -> file [271]: Henryk 2023-05-23 Tata zaczyna kurs opiekuna w żłobku a Puchate...\n",
      "retrieved transcription [30]: 1560a816-d954-48a8-8dc6-c3176df3e9bb -> file [266]: Henryk 2023-05-18 Piosenka o Zabierzowskich smokach a Puchatek z...\n",
      "retrieved transcription [31]: 6d3508a8-d744-4dd1-8d52-e71a0925ba1b -> file [264]: Henryk 2023-05-15 Tygrysek wraca z lasu do domu i przychodzi Krz...\n",
      "retrieved transcription [32]: 1d4d4475-fd0b-496f-b055-81544a2aadf0 -> file [268]: Henryk 2023-05-21 Prosiaczek z Puchatkiem uciekają przed wiatre...\n",
      "33 transcriptions were retrieved\n"
     ]
    }
   ],
   "source": [
    "# retrieve goodtape server responses from webhooks\n",
    "transcription.retrieve_responses_goodtape_via_webhooks(\n",
    "    df=df_transcription,\n",
    "    webhooks_token_id=WEBHOOKS_TOKEN_ID, \n",
    "    path_transcriptions_json=DIR_TRANSCRIPTIONS_JSON\n",
    ")\n",
    "\n",
    "# process json to text\n",
    "transcription.process_transcriptions_json_to_text(\n",
    "    df=df_transcription, \n",
    "    path_transcriptions_json=DIR_TRANSCRIPTIONS_JSON, \n",
    "    path_transcriptions_txt=DIR_TRANSCRIPTIONS_TXT,\n",
    "    verbose=False\n",
    ")"
   ]
  },
  {
   "cell_type": "markdown",
   "id": "5dc3ac4a-cdcf-4de1-b626-5fedd64c6eab",
   "metadata": {},
   "source": [
    "## Cleanup missing requests\n",
    "- transcription ids for the requests that were lost will be removed, only those that were processed will remain"
   ]
  },
  {
   "cell_type": "code",
   "execution_count": 109,
   "id": "f2446222-fb6f-4d14-be7f-2500841239e5",
   "metadata": {
    "execution": {
     "iopub.execute_input": "2024-05-09T12:41:47.108941Z",
     "iopub.status.busy": "2024-05-09T12:41:47.108736Z",
     "iopub.status.idle": "2024-05-09T12:41:47.838703Z",
     "shell.execute_reply": "2024-05-09T12:41:47.838012Z",
     "shell.execute_reply.started": "2024-05-09T12:41:47.108926Z"
    }
   },
   "outputs": [
    {
     "name": "stdout",
     "output_type": "stream",
     "text": [
      "there are 300 processed and valid transcriptions\n"
     ]
    }
   ],
   "source": [
    "# cleanup stale transcription ids\n",
    "transcription.cleanup_missing_transcriptions(\n",
    "    df=df_transcription, \n",
    "    path_transcriptions_json=DIR_TRANSCRIPTIONS_JSON, \n",
    "    path_transcriptions_txt=DIR_TRANSCRIPTIONS_TXT\n",
    ")\n",
    "\n",
    "# save transcription log\n",
    "df_transcription.to_csv(FILE_TRANSCRIPTION_CSV, index=False)"
   ]
  },
  {
   "cell_type": "code",
   "execution_count": null,
   "id": "61582a16-40da-4545-bfd5-9c7f8f78c0a3",
   "metadata": {
    "execution": {
     "iopub.status.busy": "2024-05-09T09:55:36.950296Z",
     "iopub.status.idle": "2024-05-09T09:55:36.950631Z",
     "shell.execute_reply": "2024-05-09T09:55:36.950483Z",
     "shell.execute_reply.started": "2024-05-09T09:55:36.950469Z"
    }
   },
   "outputs": [],
   "source": [
    "# df_transcription = pd.read_csv(FILE_TRANSCRIPTION_CSV)"
   ]
  },
  {
   "cell_type": "code",
   "execution_count": null,
   "id": "1ae1bee6-6284-4b5c-9a0f-4c6a491f8e88",
   "metadata": {},
   "outputs": [],
   "source": []
  }
 ],
 "metadata": {
  "kernelspec": {
   "display_name": "Python [conda env:base] *",
   "language": "python",
   "name": "conda-base-py"
  },
  "language_info": {
   "codemirror_mode": {
    "name": "ipython",
    "version": 3
   },
   "file_extension": ".py",
   "mimetype": "text/x-python",
   "name": "python",
   "nbconvert_exporter": "python",
   "pygments_lexer": "ipython3",
   "version": "3.11.9"
  }
 },
 "nbformat": 4,
 "nbformat_minor": 5
}
