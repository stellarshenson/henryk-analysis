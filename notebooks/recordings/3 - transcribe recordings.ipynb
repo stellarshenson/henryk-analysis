{
 "cells": [
  {
   "cell_type": "markdown",
   "id": "26c1897f-f9e2-4145-844c-4ce5f60b54a5",
   "metadata": {},
   "source": [
    "# Transcribe Recordings\n",
    "paid service [Goodtape](http://goodtape.io) will be used for the transcriptions"
   ]
  },
  {
   "cell_type": "markdown",
   "id": "55c7d390-2166-421c-acb9-fd8853cac4a8",
   "metadata": {},
   "source": [
    "## Imports"
   ]
  },
  {
   "cell_type": "code",
   "execution_count": 1,
   "id": "5a5c8bb7-b155-4e46-bd24-f0bee9422a63",
   "metadata": {
    "execution": {
     "iopub.execute_input": "2024-05-09T12:49:52.294762Z",
     "iopub.status.busy": "2024-05-09T12:49:52.294590Z",
     "iopub.status.idle": "2024-05-09T12:49:52.310916Z",
     "shell.execute_reply": "2024-05-09T12:49:52.310132Z",
     "shell.execute_reply.started": "2024-05-09T12:49:52.294749Z"
    },
    "tags": []
   },
   "outputs": [],
   "source": [
    "%reload_ext autoreload\n",
    "%autoreload 2"
   ]
  },
  {
   "cell_type": "code",
   "execution_count": 12,
   "id": "7a299954-a131-4796-bad5-c9b53d0eb8cb",
   "metadata": {
    "execution": {
     "iopub.execute_input": "2024-05-09T13:07:57.217696Z",
     "iopub.status.busy": "2024-05-09T13:07:57.217245Z",
     "iopub.status.idle": "2024-05-09T13:07:57.255384Z",
     "shell.execute_reply": "2024-05-09T13:07:57.254620Z",
     "shell.execute_reply.started": "2024-05-09T13:07:57.217676Z"
    }
   },
   "outputs": [],
   "source": [
    "import requests\n",
    "import pandas as pd\n",
    "import os\n",
    "import shutil\n",
    "import numpy as np\n",
    "import io\n",
    "import json\n",
    "import math\n",
    "\n",
    "from requests.utils import quote\n",
    "\n",
    "# audio\n",
    "from pydub import AudioSegment\n",
    "\n",
    "# local imports\n",
    "from lib_henryk.logger import *\n",
    "from lib_henryk.config import *\n",
    "\n",
    "from lib_henryk.transcription import transcription"
   ]
  },
  {
   "cell_type": "markdown",
   "id": "0c26ac2e-7619-48cf-9412-290f1c7c4461",
   "metadata": {},
   "source": [
    "## Params"
   ]
  },
  {
   "cell_type": "code",
   "execution_count": 27,
   "id": "170fe65c-d43d-4157-9473-29a7a25b8d4f",
   "metadata": {
    "execution": {
     "iopub.execute_input": "2024-05-09T13:27:06.176264Z",
     "iopub.status.busy": "2024-05-09T13:27:06.176059Z",
     "iopub.status.idle": "2024-05-09T13:27:06.208212Z",
     "shell.execute_reply": "2024-05-09T13:27:06.207341Z",
     "shell.execute_reply.started": "2024-05-09T13:27:06.176251Z"
    }
   },
   "outputs": [],
   "source": [
    "# load api keys\n",
    "from dotenv import load_dotenv\n",
    "_ = load_dotenv()\n",
    "\n",
    "# retrieve new token by opening 'https://webhook.site/' in incognito mode\n",
    "WEBHOOKS_TOKEN_ID = 'f7477993-66da-4747-b9c8-6bc5c302ef3c'\n",
    "GOODTAPE_API_KEY = os.getenv(\"GOODTAPE_API_KEY\")"
   ]
  },
  {
   "cell_type": "markdown",
   "id": "f2ff50ef-0490-42be-b84c-cf0f5f708f36",
   "metadata": {},
   "source": [
    "## Load Dataset"
   ]
  },
  {
   "cell_type": "code",
   "execution_count": 4,
   "id": "f59bfa37-d829-44eb-930c-29d56d91c092",
   "metadata": {
    "execution": {
     "iopub.execute_input": "2024-05-09T12:49:52.847262Z",
     "iopub.status.busy": "2024-05-09T12:49:52.847085Z",
     "iopub.status.idle": "2024-05-09T12:49:52.872923Z",
     "shell.execute_reply": "2024-05-09T12:49:52.872303Z",
     "shell.execute_reply.started": "2024-05-09T12:49:52.847234Z"
    }
   },
   "outputs": [],
   "source": [
    "df = pd.read_csv(FILE_AUDIO_STATS_CSV)\n",
    "df_transcription = df.copy()\n",
    "df_transcription['transcription_id'] = ''"
   ]
  },
  {
   "cell_type": "markdown",
   "id": "34641782-a8f2-4743-9e49-09a1c5d363b4",
   "metadata": {},
   "source": [
    "## Run Transcriptions"
   ]
  },
  {
   "cell_type": "code",
   "execution_count": 28,
   "id": "120f74ec-b408-4afb-9669-4655bc80537b",
   "metadata": {
    "execution": {
     "iopub.execute_input": "2024-05-09T13:27:11.894135Z",
     "iopub.status.busy": "2024-05-09T13:27:11.893926Z",
     "iopub.status.idle": "2024-05-09T13:27:11.929837Z",
     "shell.execute_reply": "2024-05-09T13:27:11.928971Z",
     "shell.execute_reply.started": "2024-05-09T13:27:11.894122Z"
    }
   },
   "outputs": [
    {
     "name": "stdout",
     "output_type": "stream",
     "text": [
      "transcription log exists, reading it from ../../data/processed/henryk_audio_transcription.csv\n"
     ]
    }
   ],
   "source": [
    "# load sync dataframe\n",
    "if os.path.exists(FILE_TRANSCRIPTION_CSV):\n",
    "    print(f'transcription log exists, reading it from {FILE_TRANSCRIPTION_CSV}')\n",
    "    df_transcription = pd.read_csv(FILE_TRANSCRIPTION_CSV)"
   ]
  },
  {
   "cell_type": "code",
   "execution_count": 29,
   "id": "6fd0deda-025c-49b8-b4d6-d5d2cda26e1a",
   "metadata": {
    "execution": {
     "iopub.execute_input": "2024-05-09T13:27:15.521083Z",
     "iopub.status.busy": "2024-05-09T13:27:15.520869Z",
     "iopub.status.idle": "2024-05-09T13:30:06.278710Z",
     "shell.execute_reply": "2024-05-09T13:30:06.277878Z",
     "shell.execute_reply.started": "2024-05-09T13:27:15.521064Z"
    }
   },
   "outputs": [
    {
     "name": "stdout",
     "output_type": "stream",
     "text": [
      "processing [467]: Henryk 2024-03-20 Tatuś opowiada po co jest gorączka a Miś Uszatek spotyka krasnoludki.m4a\n",
      "processing [469]: Henryk 2024-03-22 Tatuś opowiada o domku na kółkach i o wycieczkach a Miś Uszatek widzi raka.m4a\n",
      "processing [470]: Henryk 2024-03-24 Tatuś opowiada o odpoczynku w górach a Miś Uszatek żegluje.m4a\n",
      "processing [471]: Henryk 2024-03-25 Tatuś opowiada o tym jak odpoczywać a zabawki w przedszkolu śpiewają piosenkę...\n",
      "processing [472]: Henryk 2024-03-27 Tatuś opowoada o lazanii a Miś Uszatek ma gościa z Francji.m4a\n",
      "processing [473]: Henryk 2024-03-29 Tatuś opowiada o kolorowaniu jajek a Miś Uszatek odwiedza lale.m4a\n",
      "processing [474]: Henryk 2024-03-30 Tatuś opowiada o święceniu koszyczka wielkanocnego a Miś Uszatek gasi pożar.m...\n",
      "processing [475]: Henryk 2024-03-31 Tatuś opowiada o śniadaniu Wielkanocnym a Miś Uszatek spotyka kozy.m4a\n",
      "processing [477]: Henryk 2024-04-01 Tatuś opowiada o lanym poniedziałku a Miś Uszatek wyrusza z cyrkiem w drogę.m4a\n",
      "processing [478]: Henryk 2024-04-03 Tatuś opowiada o kinie i filmach a Uszatek jedzie przez most na rzece.m4a\n",
      "processing [479]: Henryk 2024-04-05 Tatuś opowiada o robieniu planu a Miś Uszatek przygotowuje przedstawienie.m4a\n",
      "processing [480]: Henryk 2024-04-06 Tatuś opowiada o spotkaniu z przyjaciółmi a Miś Uszatek daje przedstawienie.m4a\n",
      "processing [481]: Henryk 2024-04-07 Tatuś opowiada o objazdówce a Miś Uszatek daje wywiad do radia i gazety.m4a\n",
      "processing [482]: Henryk 2024-04-08 Tata opowiada o poznawaniu świata przez liczby a Miś Uszatek spotyka Żubra.m4a\n",
      "processing [483]: Henryk 2024-04-10 Tatuś naprawia oponę samochodzikową a Miś Uszatek żegna przyjaciół.m4a\n",
      "processing [484]: Henryk 2024-04-12 Tatuś opowiada o innowacji a latający gad szuka rodziców.m4a\n",
      "processing [485]: Henryk 2024-04-13 Tatuś opowiada o dinozaurach a na łące przystanęły Diplodoki.m4a\n",
      "processing [486]: Henryk 2024-04-14 Tatuś opowiada o robieniu latawca a Tyranozaur wegetarianin ucieka do Diplodoków...\n",
      "processing [487]: Henryk 2024-04-15 Tatuś opowiada o statku kosmicznym a mały Heterodontozaur nie chce jeść.m4a\n",
      "processing [488]: Henryk 2024-04-17 Tatuś opowiada o kawie a Hilonek utknął w pniu drzewa.m4a\n",
      "processing [489]: Henryk 2024-04-19 Tatuś opowiada o naprawianiu rzeczy a Bambiraptor oszukuje na zawodach.m4a\n",
      "processing [490]: Henryk 2024-04-21 Tatuś opowiada o koncercie a Mama Moa cieszy się swoim jajkiem.m4a\n",
      "processing [491]: Henryk 2024-04-22 Tatuś opowiada o Dniu Ziemi a Nosorożec Nono wpada do wody.m4a\n",
      "processing [492]: Henryk 2024-04-24 Tatuś opowiada o innowacji ze Sztuczną Inteligencją i o braciach dinozaurach.m4...\n",
      "processing [493]: Henryk 2024-04-26 Tatuś opowiada o zebraniu w żłobku a Kamptozaur przechytrzył Allozaura.m4a\n",
      "processing [494]: Henryk 2024-04-28 Tatuś opowiada o malowaniu krzesełek a Diplodok Dido zostaje bohaterem.m4a\n",
      "processing [495]: Henryk 2024-04-29 Tata opowiada o konkursie i nagrodach a Gastornis uciekł Tyranozaurowi.m4a\n",
      "processing [496]: Henryk 2024-05-01 Tatuś opowiada o dniu pracy a Trąbiący dinozaur ostrzega przed drapieżnikami.m...\n",
      "processing [497]: Henryk 2024-05-03 Tatuś opowiada o Rycerzach i Zamkach a Prapłetwiec wychodzi na ląd.m4a\n",
      "submitted 29 recordings to the transcription service GoodTape\n"
     ]
    }
   ],
   "source": [
    "# perform transcriptions\n",
    "transcription.submit_transcriptions_goodtape(\n",
    "    df=df_transcription, \n",
    "    webhooks_token_id=WEBHOOKS_TOKEN_ID,\n",
    "    goodtape_api_key=GOODTAPE_API_KEY,\n",
    "    path_recordings=DIR_WIADOMOSCI_DO_HENRYCZKA,\n",
    "    start=0, stop=500,\n",
    "    verbose=False\n",
    ")"
   ]
  },
  {
   "cell_type": "markdown",
   "id": "69d6291c-8a75-494e-add8-078fcdbdb391",
   "metadata": {},
   "source": [
    "## Fetch Transcriptions JSONs"
   ]
  },
  {
   "cell_type": "code",
   "execution_count": 7,
   "id": "5b6082ff-07ab-4699-9e40-b377f0a773dc",
   "metadata": {
    "execution": {
     "iopub.execute_input": "2024-05-09T12:56:49.389623Z",
     "iopub.status.busy": "2024-05-09T12:56:49.389486Z",
     "iopub.status.idle": "2024-05-09T12:56:49.405293Z",
     "shell.execute_reply": "2024-05-09T12:56:49.404468Z",
     "shell.execute_reply.started": "2024-05-09T12:56:49.389612Z"
    }
   },
   "outputs": [
    {
     "ename": "StopExecution",
     "evalue": "stopped",
     "output_type": "error",
     "traceback": []
    }
   ],
   "source": [
    "# need to wait until transcriptions are available\n",
    "exit_cell()"
   ]
  },
  {
   "cell_type": "code",
   "execution_count": 43,
   "id": "176457da-a7af-4861-9f67-6cc191c21151",
   "metadata": {
    "execution": {
     "iopub.execute_input": "2024-05-09T13:35:29.370842Z",
     "iopub.status.busy": "2024-05-09T13:35:29.370543Z",
     "iopub.status.idle": "2024-05-09T13:35:43.221502Z",
     "shell.execute_reply": "2024-05-09T13:35:43.220996Z",
     "shell.execute_reply.started": "2024-05-09T13:35:29.370827Z"
    }
   },
   "outputs": [
    {
     "name": "stdout",
     "output_type": "stream",
     "text": [
      "found 5 requests to fetch\n",
      "retrieved transcription [0]: f42af9a2-d89c-422b-8a7f-b0a5f47f47c7 -> file [496]: Henryk 2024-05-01 Tatuś opowiada o dniu pracy a Trąbiący dino...\n",
      "retrieved transcription [1]: 8f49eaac-4d3b-46a5-992e-e6acbe20cb45 -> file [495]: Henryk 2024-04-29 Tata opowiada o konkursie i nagrodach a Gastor...\n",
      "retrieved transcription [2]: 8dad1ecd-1d8e-4b7e-a892-9c5a96650c0c -> file [497]: Henryk 2024-05-03 Tatuś opowiada o Rycerzach i Zamkach a Prapłe...\n",
      "retrieved transcription [3]: 5aa57e03-6c6d-4d41-8636-1fcf0043bf62 -> file [494]: Henryk 2024-04-28 Tatuś opowiada o malowaniu krzesełek a Diplod...\n",
      "retrieved transcription [4]: b99141db-d62c-4aca-bf1c-46f594645cf8 -> file [491]: Henryk 2024-04-22 Tatuś opowiada o Dniu Ziemi a Nosorożec Nono...\n",
      "5 transcriptions were retrieved\n",
      "5 new transcriptions were processed, there are 498 transcriptions available\n"
     ]
    }
   ],
   "source": [
    "# retrieve goodtape server responses from webhooks\n",
    "transcription.retrieve_responses_goodtape_via_webhooks(\n",
    "    df=df_transcription,\n",
    "    webhooks_token_id=WEBHOOKS_TOKEN_ID, \n",
    "    path_transcriptions_json=DIR_TRANSCRIPTIONS_JSON\n",
    ")\n",
    "\n",
    "# process json to text\n",
    "transcription.process_transcriptions_json_to_text(\n",
    "    df=df_transcription, \n",
    "    path_transcriptions_json=DIR_TRANSCRIPTIONS_JSON, \n",
    "    path_transcriptions_txt=DIR_TRANSCRIPTIONS_TXT,\n",
    "    verbose=False\n",
    ")"
   ]
  },
  {
   "cell_type": "markdown",
   "id": "5dc3ac4a-cdcf-4de1-b626-5fedd64c6eab",
   "metadata": {},
   "source": [
    "## Cleanup missing requests\n",
    "- transcription ids for the requests that were lost will be removed, only those that were processed will remain"
   ]
  },
  {
   "cell_type": "code",
   "execution_count": 44,
   "id": "f2446222-fb6f-4d14-be7f-2500841239e5",
   "metadata": {
    "execution": {
     "iopub.execute_input": "2024-05-09T13:35:46.118601Z",
     "iopub.status.busy": "2024-05-09T13:35:46.118003Z",
     "iopub.status.idle": "2024-05-09T13:35:47.159585Z",
     "shell.execute_reply": "2024-05-09T13:35:47.158881Z",
     "shell.execute_reply.started": "2024-05-09T13:35:46.118586Z"
    }
   },
   "outputs": [
    {
     "name": "stdout",
     "output_type": "stream",
     "text": [
      "there are 498 processed and valid transcriptions\n",
      "\u001b[22m\u001b[49m\u001b[92m*** all 498 recordings were transcribed ***\u001b[0m\n"
     ]
    }
   ],
   "source": [
    "# cleanup stale transcription ids - but work on a copy of the log\n",
    "df_transcriptions_to_write = transcription.get_cleaned_up_transcriptions(\n",
    "    df=df_transcription, \n",
    "    path_transcriptions_json=DIR_TRANSCRIPTIONS_JSON, \n",
    "    path_transcriptions_txt=DIR_TRANSCRIPTIONS_TXT\n",
    ")\n",
    "\n",
    "# save transcription log\n",
    "df_transcriptions_to_write.to_csv(FILE_TRANSCRIPTION_CSV, index=False)"
   ]
  }
 ],
 "metadata": {
  "kernelspec": {
   "display_name": "Python [conda env:base] *",
   "language": "python",
   "name": "conda-base-py"
  },
  "language_info": {
   "codemirror_mode": {
    "name": "ipython",
    "version": 3
   },
   "file_extension": ".py",
   "mimetype": "text/x-python",
   "name": "python",
   "nbconvert_exporter": "python",
   "pygments_lexer": "ipython3",
   "version": "3.11.9"
  }
 },
 "nbformat": 4,
 "nbformat_minor": 5
}
