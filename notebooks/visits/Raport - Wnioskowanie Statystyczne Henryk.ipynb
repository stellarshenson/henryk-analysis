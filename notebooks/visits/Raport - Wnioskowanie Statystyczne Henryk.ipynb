{
 "cells": [
  {
   "cell_type": "markdown",
   "id": "e14dbc3f-8f0c-49aa-9bde-f3a935f72068",
   "metadata": {},
   "source": [
    "## Wnioskowanie Statystyczne\n",
    "Wnioskowanie opiera się o dwumianowy rozkład prawdopodobieństwa znany inaczej jako rozkład _Bernoulliego_. Należy przyjąć, że tenże rozkład statystyczny nauczany jest w szkołach średnich i stanowi część podstawy programowej (patrz: część XII podstawy programowej dla szkół średnich, rozkład Bernouliego). Przeprowadzenie tego wnioskowania statystycznego oraz jego weryfikacja nie wymaga zatem wiedzy specjalistycznej ani akademickiej i może być przeprowadzona przez każdą osobę, która nabyła w trakcie swojego życia wykształcenia w szkole średniej, tj. technikum bądź liceum.\n",
    "\n",
    "### Założenia\n",
    "W celu przeprowadzenia wnioskowania z dwumianowego rozkładu prawdopodobieństwa należy spełnić wymagania dotyczące niezależności zdarzeń.\n",
    "W przypadku choroby dziecka, skutecznym przybliżeniem takiej niezależności zdarzeń, jest przyjęcie tezy o: \n",
    "- braku chorób przewlekłych u dziecka,\n",
    "- braku stałego, wspólnego istniejącego w sposób ciągły czynnika infekcji\n",
    "- braku wpływu poprzedich chorób na pojawienie się nowych.\n",
    "\n",
    "Autor zakłada że wszystkie te założenia zostały spełnione w przypadku małoletniego Henryka. Wskazuje na to wprost dokumentacja medyczna dziecka.\n",
    "\n",
    "### Rozkład Dwumianowy\n",
    "W celu wykazania niezgodnego z doświadczeniem życiowym prawdopodobieństwa tego, że ciąg zdarzeń w postaci 11 koincydencji choroby dziecka z wizytami jego taty na 13 takich wizyt jest dziełem przypadku, stosuje się rozkłąd dwumianowy wyrażony wzorem:\n",
    "\n",
    "$P(X = k) = \\binom{n}{k} p^k (1 - p)^{n - k}$\n",
    "\n",
    "Gdzie odpowiednio: \n",
    "- $k$ to badana liczba sukcesów, w tym przypadku koincydencji chorób Henryka ze spotkaniem z jego tatą\n",
    "- $n$ to liczba prób, w tym przypadku jest to liczba mających odbyć się spotkań\n",
    "- $p$ to prawdopodibieństwo wystąpienia _pojedynczego_ sukcesu, tj. koincydencji chorób Henryka ze spotkaniem z jego tatą\n",
    "\n",
    "Przyjęto następujące parametry do wnioskowania statystycznego:\n",
    "- $k = 11$ liczba koincydencji chorób Henryka oraz jego spotkań z tatą\n",
    "- $n = 13$ liczba spotkań, które miały się odbyć\n",
    "- $p_{4\\ dni} = 13.1\\%$ przy średnio 4 dniach choroby na miesiąc, $p_{5\\ dni} = 16.4\\%$ przy 5 dniach i $p_{7\\ dni} = 23\\%$ przy 7 dniach\n",
    "  \n",
    "Prawdopodobieństwo pojedynczego zdarzenia, jakim jest koincydencja choroby Henryka z wizytą jego taty liczono jako prawdopodobieństwa wystąpienia choroby Henryka w określony dzień miesiąca. Wypowadzono to z następującego wzoru:\n",
    "\n",
    "$p = \\frac{srednia\\ liczba\\ dni\\ choroby\\ w\\ miesiącu}{srednia\\ liczba\\ dni\\ w\\ miesiącu}$\n",
    "\n",
    "Przy założeniu:\n",
    "- $srednia\\ liczba\\ dni\\ choroby\\ w\\ miesiącu$ = odpowiednio $4$ (wynika z dokumentacji med.), $5$ i $7$\n",
    "- $srednia\\ liczba\\ dni\\ w\\ miesiącu = 30.437$\n",
    "\n",
    "### Prawdopodobieństwo wystąpienia 11 lub więcej sukcesów na 13 prób\n",
    "Obliczenie to wykonywane jest z pomocą $funkcji\\ masy\\ prawdopodobieństwa$ określonej wzorem:\n",
    "\n",
    "$P(X \\geq K) = \\sum_{k=K}^{n} \\binom{n}{k} p^k (1 - p)^{n - k}$\n",
    "\n",
    "Funkcja ta odpowiada na pytanie _jakie jest prawdopodobieńśtwo, że w ciągu $n$ prób sukces wystąpi $K$ lub więcj razy_.   \n",
    "Przyjmując $K = 11$ oraz $n = 13$ oraz $p$ odpowiednio $p_{4\\ dni} = 13.1\\%$, $p_{5\\ dni} = 16.4\\%$ oraz $p_{7\\ dni} = 23\\%$ otrzymujemy:\n",
    "\n",
    "- $P(X \\geq 11)_{4\\ dni} \\approx 0.000\\ 0013\\ 2\\%$ lub około ${1 : 82\\ 078\\ 460}$\n",
    "- $P(X \\geq 11)_{5\\ dni} \\approx 0.000\\ 014\\%$ lub około ${1 : 7\\ 560\\ 100}$\n",
    "- $P(X \\geq 11)_{7\\ dni} \\approx 0.000\\ 463\\%$ lub około ${1 : 215\\ 000}$\n",
    "\n",
    "Dla porównania zdarzenia z życia codziennego charakteryzują się następującym prawdopodobieństwem:\n",
    "- prawdopodobieństwo śmiertelnego potrącenia przez samochód w polsce (dane z 2023 roku): $1 : 80\\ 000$\n",
    "- prawdopodobieństwo wygranej w _lotto_ w zakładzie 6 na 6: $1 : 13\\ 983\\ 816$\n",
    "\n",
    "### Wnioski\n",
    "\n",
    "Wykazano, że prawdopodobieństwo tego, że 11 koincydencji choroby dziecka z wizytami jego taty na 13 takich wizyt jest zaniedbywalnie małe i niezgodne z doświadczeniem życiowym. W szczególności gdy wziąć pod uwagę inne, referencyjne zdarzenia o małym prawdopodobieństwie wystąpienia"
   ]
  }
 ],
 "metadata": {
  "kernelspec": {
   "display_name": "Python [conda env:base] *",
   "language": "python",
   "name": "conda-base-py"
  },
  "language_info": {
   "codemirror_mode": {
    "name": "ipython",
    "version": 3
   },
   "file_extension": ".py",
   "mimetype": "text/x-python",
   "name": "python",
   "nbconvert_exporter": "python",
   "pygments_lexer": "ipython3",
   "version": "3.12.8"
  },
  "widgets": {
   "application/vnd.jupyter.widget-state+json": {
    "state": {},
    "version_major": 2,
    "version_minor": 0
   }
  }
 },
 "nbformat": 4,
 "nbformat_minor": 5
}
