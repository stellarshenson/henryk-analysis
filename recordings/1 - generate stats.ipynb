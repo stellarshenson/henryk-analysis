{
 "cells": [
  {
   "cell_type": "markdown",
   "id": "7daab3be-6464-4482-85e8-18145963aebc",
   "metadata": {
    "tags": []
   },
   "source": [
    "import cudf.pandas\n",
    "cudf.pandas.install()"
   ]
  },
  {
   "cell_type": "code",
   "execution_count": 1,
   "id": "30ab3234-8205-4a1e-9d64-0fe7f64a6288",
   "metadata": {
    "tags": []
   },
   "outputs": [],
   "source": [
    "import pandas as pd\n",
    "import numpy as np\n",
    "import matplotlib.pylab as plt\n",
    "import seaborn as sns\n",
    "from datetime import timedelta, datetime\n",
    "import numpy as np\n",
    "\n",
    "import os\n",
    "import re\n",
    "from glob import glob\n",
    "from pydub.utils import mediainfo\n",
    "\n",
    "from logger import *"
   ]
  },
  {
   "cell_type": "code",
   "execution_count": 2,
   "id": "fe77121e-0291-4d6e-aca2-89c2c43e45aa",
   "metadata": {},
   "outputs": [
    {
     "name": "stdout",
     "output_type": "stream",
     "text": [
      "2023-12-22 17:42:54 - \u001b[32mINFO \u001b[0m - \u001b[34m<module>\u001b[0m - retrieved 409 files\n"
     ]
    }
   ],
   "source": [
    "# load patsh to all audio files from wiadomości do Henryczka\n",
    "DIR_WIADOMOSCI_DO_HENRYCZKA = '/Users/konrad/OneDrive/My Private/My documents/Other/Henryk/Alienacja rodzicielska materiały/Wiadomości do Henryczka'\n",
    "recordings_files = glob(f'{DIR_WIADOMOSCI_DO_HENRYCZKA}/**/*.m4a', recursive=True)\n",
    "logger.info(f'retrieved {len(recordings_files)} files')"
   ]
  },
  {
   "cell_type": "code",
   "execution_count": 3,
   "id": "7a368292-147f-4a64-adcb-ef9f941df02a",
   "metadata": {},
   "outputs": [
    {
     "name": "stdout",
     "output_type": "stream",
     "text": [
      " |████████████████████████████████████████████████████████████████████████████████████████████████████| 100.0% \n"
     ]
    }
   ],
   "source": [
    "def file_info(path: str) -> dict:\n",
    "    _recording_info = {}\n",
    "    _info = mediainfo(path)\n",
    "    _recording_filename = os.path.basename(path)\n",
    "    _filename_groups = re.search('^(.+) (\\d+-\\d+-\\d+) (.+)\\.(.+)$', _recording_filename)\n",
    "    _recording_kind = _filename_groups[1]\n",
    "    _recording_date = _filename_groups[2]\n",
    "    _recording_date = datetime.strptime(_recording_date, \"%Y-%m-%d\")\n",
    "    _recording_name = _filename_groups[3]\n",
    "    _recording_type = _filename_groups[4]\n",
    "    _recording_duration = _info['duration']\n",
    "\n",
    "    _recording_info = {\n",
    "        'file': _recording_filename,\n",
    "        'name': _recording_name,\n",
    "        'kind': _recording_kind,\n",
    "        'date': _recording_date,\n",
    "        'type': _recording_type,\n",
    "        'duration': _recording_duration\n",
    "    }\n",
    "    \n",
    "    return _recording_info\n",
    "\n",
    "df = pd.DataFrame( {'file': [], 'name': [], 'kind': [], 'date': [], 'type': [], 'duration': []} )\n",
    "for ix, i in enumerate(range(0,len(recordings_files))):\n",
    "    printProgressBar(ix,len(recordings_files)-1)\n",
    "    _row = file_info(recordings_files[i])\n",
    "    df.loc[len(df)] = _row"
   ]
  },
  {
   "cell_type": "code",
   "execution_count": 4,
   "id": "76b7c686-e201-4874-b0c1-8a74024605c4",
   "metadata": {},
   "outputs": [],
   "source": [
    "# save to csv\n",
    "df.sort_values('date', inplace=True)\n",
    "df.to_csv('henryk-stats.csv', index=False)"
   ]
  },
  {
   "cell_type": "markdown",
   "id": "93dd3fa1-7dc4-414e-8013-8cd099485ece",
   "metadata": {},
   "source": [
    "# References\n",
    "- https://www.kaggle.com/code/robikscube/working-with-audio-in-python\n",
    "- https://towardsdatascience.com/get-to-know-audio-feature-extraction-in-python-a499fdaefe42\n",
    "- https://stackoverflow.com/questions/55669182/how-to-fix-filenotfounderror-winerror-2-the-system-cannot-find-the-file-speci"
   ]
  }
 ],
 "metadata": {
  "kernelspec": {
   "display_name": "Python 3 (ipykernel)",
   "language": "python",
   "name": "python3"
  },
  "language_info": {
   "codemirror_mode": {
    "name": "ipython",
    "version": 3
   },
   "file_extension": ".py",
   "mimetype": "text/x-python",
   "name": "python",
   "nbconvert_exporter": "python",
   "pygments_lexer": "ipython3",
   "version": "3.11.6"
  }
 },
 "nbformat": 4,
 "nbformat_minor": 5
}
